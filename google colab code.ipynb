{
  "nbformat": 4,
  "nbformat_minor": 0,
  "metadata": {
    "colab": {
      "name": "twitter-sentiment-analysis.ipynb",
      "version": "0.3.2",
      "provenance": [],
      "collapsed_sections": []
    },
    "kernelspec": {
      "name": "python3",
      "display_name": "Python 3"
    }
  },
  "cells": [
    {
      "metadata": {
        "id": "SlliThskmvdg",
        "colab_type": "code",
        "colab": {}
      },
      "cell_type": "code",
      "source": [
        "#preprocessing"
      ],
      "execution_count": 0,
      "outputs": []
    },
    {
      "metadata": {
        "id": "qwZdFUtHmx2t",
        "colab_type": "code",
        "colab": {}
      },
      "cell_type": "code",
      "source": [
        ""
      ],
      "execution_count": 0,
      "outputs": []
    },
    {
      "metadata": {
        "id": "YS87oT3UhpcV",
        "colab_type": "code",
        "colab": {}
      },
      "cell_type": "code",
      "source": [
        "from google.colab import drive"
      ],
      "execution_count": 0,
      "outputs": []
    },
    {
      "metadata": {
        "id": "CX8K-q5NhuJn",
        "colab_type": "code",
        "colab": {
          "base_uri": "https://localhost:8080/",
          "height": 122
        },
        "outputId": "348c9701-e0d9-42e5-9111-45d1c05c84a1"
      },
      "cell_type": "code",
      "source": [
        "drive.mount('/content/drive')"
      ],
      "execution_count": 2,
      "outputs": [
        {
          "output_type": "stream",
          "text": [
            "Go to this URL in a browser: https://accounts.google.com/o/oauth2/auth?client_id=947318989803-6bn6qk8qdgf4n4g3pfee6491hc0brc4i.apps.googleusercontent.com&redirect_uri=urn%3Aietf%3Awg%3Aoauth%3A2.0%3Aoob&scope=email%20https%3A%2F%2Fwww.googleapis.com%2Fauth%2Fdocs.test%20https%3A%2F%2Fwww.googleapis.com%2Fauth%2Fdrive%20https%3A%2F%2Fwww.googleapis.com%2Fauth%2Fdrive.photos.readonly%20https%3A%2F%2Fwww.googleapis.com%2Fauth%2Fpeopleapi.readonly&response_type=code\n",
            "\n",
            "Enter your authorization code:\n",
            "··········\n",
            "Mounted at /content/drive\n"
          ],
          "name": "stdout"
        }
      ]
    },
    {
      "metadata": {
        "id": "_379XmsBh0WX",
        "colab_type": "code",
        "colab": {
          "base_uri": "https://localhost:8080/",
          "height": 34
        },
        "outputId": "e19da63b-c922-4b74-a0f6-babfdc1c0c27"
      },
      "cell_type": "code",
      "source": [
        "cd \"/content/drive/My Drive\""
      ],
      "execution_count": 3,
      "outputs": [
        {
          "output_type": "stream",
          "text": [
            "/content/drive/My Drive\n"
          ],
          "name": "stdout"
        }
      ]
    },
    {
      "metadata": {
        "id": "X4MWmI7xiF3l",
        "colab_type": "code",
        "colab": {
          "base_uri": "https://localhost:8080/",
          "height": 34
        },
        "outputId": "922aab6f-14fe-4965-cf02-4adfb68454b1"
      },
      "cell_type": "code",
      "source": [
        "cd \"project\""
      ],
      "execution_count": 4,
      "outputs": [
        {
          "output_type": "stream",
          "text": [
            "/content/drive/My Drive/project\n"
          ],
          "name": "stdout"
        }
      ]
    },
    {
      "metadata": {
        "id": "8wFv-8KWiP_L",
        "colab_type": "code",
        "colab": {}
      },
      "cell_type": "code",
      "source": [
        "import pandas as pd"
      ],
      "execution_count": 0,
      "outputs": []
    },
    {
      "metadata": {
        "id": "uC2am1FRizYU",
        "colab_type": "code",
        "colab": {}
      },
      "cell_type": "code",
      "source": [
        "x1=pd.read_csv(\"pre-processed_train.csv\")"
      ],
      "execution_count": 0,
      "outputs": []
    },
    {
      "metadata": {
        "id": "gRBKwJ2Ki09e",
        "colab_type": "code",
        "colab": {}
      },
      "cell_type": "code",
      "source": [
        "list_x1=[]"
      ],
      "execution_count": 0,
      "outputs": []
    },
    {
      "metadata": {
        "id": "13RF4Q6-i4Xq",
        "colab_type": "code",
        "colab": {
          "base_uri": "https://localhost:8080/",
          "height": 34
        },
        "outputId": "e2e759d0-5020-49d8-8226-64c4c41a1452"
      },
      "cell_type": "code",
      "source": [
        "x1.shape"
      ],
      "execution_count": 136,
      "outputs": [
        {
          "output_type": "execute_result",
          "data": {
            "text/plain": [
              "(10980, 1)"
            ]
          },
          "metadata": {
            "tags": []
          },
          "execution_count": 136
        }
      ]
    },
    {
      "metadata": {
        "id": "u9xOdG40i6zU",
        "colab_type": "code",
        "colab": {}
      },
      "cell_type": "code",
      "source": [
        "x1.columns=['tweet']"
      ],
      "execution_count": 0,
      "outputs": []
    },
    {
      "metadata": {
        "id": "GFm5oh4Ii9DK",
        "colab_type": "code",
        "colab": {
          "base_uri": "https://localhost:8080/",
          "height": 34
        },
        "outputId": "47f5043d-c7cb-4026-e0b3-d7e8f3ad47fd"
      },
      "cell_type": "code",
      "source": [
        "x1['tweet'][0]"
      ],
      "execution_count": 138,
      "outputs": [
        {
          "output_type": "execute_result",
          "data": {
            "text/plain": [
              "'southwestair scheduled morning days fact sure evening flight cancelled flightled'"
            ]
          },
          "metadata": {
            "tags": []
          },
          "execution_count": 138
        }
      ]
    },
    {
      "metadata": {
        "id": "AP0pHyfSi_ga",
        "colab_type": "code",
        "colab": {
          "base_uri": "https://localhost:8080/",
          "height": 34
        },
        "outputId": "20ff7df6-7ce2-4145-efd9-71385d880754"
      },
      "cell_type": "code",
      "source": [
        "len(x1['tweet'])"
      ],
      "execution_count": 139,
      "outputs": [
        {
          "output_type": "execute_result",
          "data": {
            "text/plain": [
              "10980"
            ]
          },
          "metadata": {
            "tags": []
          },
          "execution_count": 139
        }
      ]
    },
    {
      "metadata": {
        "id": "TJKbfLdUjBv_",
        "colab_type": "code",
        "colab": {}
      },
      "cell_type": "code",
      "source": [
        "for i in range(len(x1['tweet'])):\n",
        "    list_x1.append(x1['tweet'][i])"
      ],
      "execution_count": 0,
      "outputs": []
    },
    {
      "metadata": {
        "id": "unQ2B8PpjEFS",
        "colab_type": "code",
        "colab": {
          "base_uri": "https://localhost:8080/",
          "height": 17034
        },
        "outputId": "e21f6bf1-2095-4bc0-e781-6995dfdf72ee"
      },
      "cell_type": "code",
      "source": [
        "list_x1   #tweets"
      ],
      "execution_count": 141,
      "outputs": [
        {
          "output_type": "execute_result",
          "data": {
            "text/plain": [
              "['southwestair scheduled morning days fact sure evening flight cancelled flightled',\n",
              " 'southwestair seeing worker time time going beyond love flying guy thank',\n",
              " 'united flew miami back great crew service leg thanks',\n",
              " 'southwestair dultch horse radish',\n",
              " 'united flight delayed force last flight min landed',\n",
              " 'united load flying sardine knew pilot hour late flight incompetent beyond belief',\n",
              " 'jetblue stock response delays frustrating poor cust serv told wait come back',\n",
              " 'jetblue nice hoping rack enough mile take trip seattle enjoy perfect latte city coffee',\n",
              " 'united frankly worse customer service ever problems happen deal defines company never united',\n",
              " 'southwestair yeah haha never expensive much destinationdragons',\n",
              " 'southwestair flight almost full people screwed cancelled flightation united usairways cancelled flight mistake',\n",
              " 'jetblue easiest ticket receipt check online thanks',\n",
              " 'usairways love change lounge cheese veggie olive addition cracker snack',\n",
              " 'southwestair receive customer service ended spending several hundred dollar accommodate family flight',\n",
              " 'usairways killing sche flight board mine arrived gate side airport genious',\n",
              " 'usairways week refund ticket totally unacceptable blast social medium',\n",
              " 'americanair private provide detail really need customer training staff',\n",
              " 'jetblue fleet fleek http gial',\n",
              " 'jetblue info flight already delayed hour',\n",
              " 'americanair tried le time today touch service desk beginning luck help',\n",
              " 'usairways problem wrong last name reservation airway fixed',\n",
              " 'southwestair possible chance bringing back service would make much easier connect west coast',\n",
              " 'usairways americanair run show airport boarding pass say airway wait american line yousuck',\n",
              " 'united computer stopped giving updates took flight info ridiculous keep people updated',\n",
              " 'united good united businessfirst',\n",
              " 'united flying child turn trip return ticket child',\n",
              " 'jetblue love cancelled flightling ticket telling customer flyunited',\n",
              " 'united waited crew member left gate item come flight attendant sarcastically say good luck walk away',\n",
              " 'southwestair jason gate make afternoon southwestairlines stellarservice thanks',\n",
              " 'americanair everything sorted thanks help excited home tonight',\n",
              " 'americanair understand weather would nice hear apology phone moved flight inconvenient',\n",
              " 'southwestair thanks',\n",
              " 'united booked first class curbside delivery hour counting teamusa',\n",
              " 'jetblue totally look americanair admirals club slide couple pass',\n",
              " 'americanair official complaint signed americanairlines lima supervisor customer relations compensate hour delay',\n",
              " 'jetblue hour policy call say report soon enough would changed noticed sooner',\n",
              " 'united frustrating flying experience continuous dunno time leave today dunno code',\n",
              " 'southwestair message part flights cancelled flightled rebook online nobody answer phone call help',\n",
              " 'southwestair need updates flights hold hour',\n",
              " 'usairways supposed dallas help itinerary',\n",
              " 'americanair fail flight sitting waiting flight attendant logistics good',\n",
              " 'united impressed super fast reply cgjase',\n",
              " 'united spoke baggage contact number said bag stay pick tmrw',\n",
              " 'usairways intentionally buy flight hour layover kind airline would charge usairways',\n",
              " 'southwestair auto callbacks wait hold',\n",
              " 'united service desk',\n",
              " 'jetblue blue helped bring color eye promise free snack',\n",
              " 'united therealaviation instagram',\n",
              " 'jetblue report updated info know reach without super long wait hold main number',\n",
              " 'jetblue want enter family pooling contest say website please enter still',\n",
              " 'usairways choose seat free clicking button',\n",
              " 'united plus food taxis',\n",
              " 'usairways right sight',\n",
              " 'southwestair really going delta virginamerica best http vudwjm',\n",
              " 'usairways claim flight cancelled flighted weather destination delta cancelled flighted flight route',\n",
              " 'jetblue thanks much help amazing',\n",
              " 'americanair haha say fault somehow guy joke',\n",
              " 'americanair customer service inferior nationalized third world nation airline together',\n",
              " 'americanair iphone sort notifications option',\n",
              " 'united thank',\n",
              " 'americanair trying reach customer service days received zero response never traveling',\n",
              " 'united flight agent wander pilots come looking went charge personal phone txting',\n",
              " 'united first lost bag cancelled flight flight home wait talk somebody poorservice notgoodenough',\n",
              " 'southwestair plane finally took',\n",
              " 'jetblue anywhere http fefhpmfple',\n",
              " 'usairways spend cost flight free room transportation airport',\n",
              " 'southwestair understand weather kid need home nice kid volunteer work high school please help',\n",
              " 'americanair friend needs help twiiter info',\n",
              " 'americanair flight tomorrow cancelled flighted notice phone system say callback hour need',\n",
              " 'americanair flight veers runway dfwairport flights cancelled flighted http pown cowboycerrone figure right',\n",
              " 'united could tell would accepted personal item bring carry plus http czplhl',\n",
              " 'united need website really badly',\n",
              " 'southwestair theellenshow imaginedragons kdepetro great first night destinationdragons http lrfo',\n",
              " 'usairways right away',\n",
              " 'united dozen back line single reflight booking problems final kiosks fritz',\n",
              " 'jetblue would charge money transfer point someone',\n",
              " 'usairways possible earn dividend miles passenger even purchasing ticket',\n",
              " 'lmfaooo jetblue fleet fleek http rnmyuqe',\n",
              " 'usairways phone line call affected weather trying book vacation',\n",
              " 'americanair never seen incompetency gate agent year business travel gate agent needs training',\n",
              " 'usairways impressive lack concern late flight flight attndt wrecking havoc customer travel smugsmirk norush',\n",
              " 'united clients layover claim recheck luggage take care',\n",
              " 'united even change could make online instructed call agent maybe syastem allow agent link passengers',\n",
              " 'united claim weather hardworking crew pulling seat plane right thing know',\n",
              " 'americanair finally call seattle refund processed thanks',\n",
              " 'united played bizarre safety video ever seen http',\n",
              " 'southwestair sure messaging part right please know received',\n",
              " 'southwestair booked save emergency exit stretch',\n",
              " 'southwestair customer destination help another airline flights days',\n",
              " 'jetblue catch name sure jason know',\n",
              " 'usairways another delay missed connection customer service attitude',\n",
              " 'usairways access dividend miles week automated phone keep telling call back late flightr frustrated livepersonplease',\n",
              " 'united direct flights belfast intl newark resume winter break thanks',\n",
              " 'united lgjw voluntarily rerouted journey economy supposed agent say reserve',\n",
              " 'southwestair nashville airport runway open appears southwest airline cancelled flighting flights likely change',\n",
              " 'usairways flight plan delayed tuesday computer crash',\n",
              " 'southwestair unbelievable thank much destinationdragons',\n",
              " 'united surprise nogate waiting plane fucken issue everything fail worstairlineever',\n",
              " 'usairways tough night minute call hold delayed phoenix days aircraft ready acceptable',\n",
              " 'united hard stay upset someone least show remorse',\n",
              " 'united hold trying book award flight site error agents platinum availability badbadbad',\n",
              " 'usairways hold drove hour delayed want pick',\n",
              " 'usairways reserve seat flight transfer',\n",
              " 'united start xdaily embraersa flights chicago ohare evansville avgeek',\n",
              " 'united flight chicago houston hour pretzel peanut seriously pass',\n",
              " 'united left comment customer care thanks contacting',\n",
              " 'united held plane made',\n",
              " 'americanair keep lose info longer trust handle',\n",
              " 'virginamerica thestarter',\n",
              " 'jetblue learning awesome twitter management today social media marketing class keep good work mama',\n",
              " 'americanair dropping ball cater plane switch gate attendant hour late flight really nice',\n",
              " 'americanair good care customer anything happen take delta getting back screw americanair',\n",
              " 'americanair think help base behavior voucher seem like enough',\n",
              " 'united think problem resolution decided especially like continue flying airline',\n",
              " 'usairways hold min counting cause charged credit card provided receipt say error awful',\n",
              " 'united great looking forward response',\n",
              " 'united birthday sister coming celebrate flights keep cancelled flighting',\n",
              " 'usairways employee named ticket counter philadelphia extremely rude father trying home sick missed flight',\n",
              " 'southwestair horrible experience ever airline reconsider future flights customer service http eczhcmm',\n",
              " 'americanair tomorrow site show flight cancelled flightled',\n",
              " 'virginamerica like customer service delay connecting passengers seems long',\n",
              " 'virginamerica cutest salt pepper shaker ever think guy better http keulg',\n",
              " 'americanair unbelievable even wait hold speak human resolve issue system simply hang',\n",
              " 'americanair continues never missed flight nice little quiet gate change make possible sheesh',\n",
              " 'usairways even offered another airport say explanation',\n",
              " 'usairways phone number gate give work either customer service phone number',\n",
              " 'jetblue flight savannah',\n",
              " 'americanair still human hope dealing horror story people share complained everyone',\n",
              " 'jetblue sent plane anyone jetblue clue',\n",
              " 'southwestair winner imaginedragons destinationdragons',\n",
              " 'united quick serious question resource rat showing quality service better place http dewithpew',\n",
              " 'united first flight ground time',\n",
              " 'southwestair southwest mobile boarding pass available passbook http xmrvr lgeg http wjoc torus leggieri',\n",
              " 'southwestair stuck fort lauderdale',\n",
              " 'jetblue clear folder regularly jetblue white listed never',\n",
              " 'united keep flights cheap early time good flew americanair cancelled flightled flight time last month united',\n",
              " 'jetblue believe irina flip side super disappointed eatup cafe available flight today',\n",
              " 'usairways flight placed original flight charlotte cancelled flightled delay',\n",
              " 'usairways captain turned seat belt sign people walk around good',\n",
              " 'united http hpsqvrjk flight gone plane businesstravel goodenoughmother',\n",
              " 'americanair call chairman call emerald today call former customer',\n",
              " 'jetblue useless agent inspected shoe',\n",
              " 'united thank response',\n",
              " 'americanair received text alert automated call anything either literally information happen',\n",
              " 'usairways make send bloody mary',\n",
              " 'united gate change delay even crew think airline suck',\n",
              " 'usairways thank empathy story luggage thank reaching',\n",
              " 'jetblue thanks actually birder love need outside hard trap move',\n",
              " 'usairways supposed depart still crew schedule contact pilot',\n",
              " 'jetblue allow payment apple patriarc http bduauzfhw',\n",
              " 'united hung min hold asked supervisor furious right',\n",
              " 'americanair trying book past need arrive still selling seat trying travel',\n",
              " 'usairways americanair seriously service issue right decide tweet unbelievable',\n",
              " 'americanair also pass website around passengers',\n",
              " 'united clicked link confused http xmaqcucwzl',\n",
              " 'americanair well cleared custom need arrive possible retrieve luggage',\n",
              " 'southwestair taylorlumsden taylor love responsiveness least',\n",
              " 'americanair flights cancelled flightled desk nothing showing online reservation',\n",
              " 'americanair usairways pregnant twin going abandon overnight airport hotel fault',\n",
              " 'united thanks prompt response another hour enjoy vacation perhaps still show',\n",
              " 'united tried figure',\n",
              " 'united except delayed flight anyway',\n",
              " 'jetblue flight',\n",
              " 'united assure travel time timezones accuratetraveltimes rdtimethishashappened http',\n",
              " 'united thanks catch conection',\n",
              " 'jetblue fleet fleek http bhjvaa',\n",
              " 'virginamerica flight artisanal cheese wine pairing',\n",
              " 'united flight sitting tarmac min report input',\n",
              " 'usairways sits throne lie',\n",
              " 'southwestair flights cancelled flightled today hold hour',\n",
              " 'southwestair late flightly always late flight please back',\n",
              " 'americanair boyfriend pick call cancelled flightedflight nocustomerservice americanairlines fail',\n",
              " 'southwestair would anything ticket vegas anything love imagine dragon much',\n",
              " 'southwestair thanks attention flying southwest year issue past',\n",
              " 'usairways never every single flight gets delayed',\n",
              " 'usairways wife flying atlanta vega march since tricities',\n",
              " 'united flight delayed hour mechanical issue could free drink make inconvenience',\n",
              " 'virginamerica dream http drfaoq http lwwdac',\n",
              " 'southwestair line airport right cover hotel fair sleep airport',\n",
              " 'jetblue know would tell coming would guess change flights',\n",
              " 'americanair worry swamped know back thank',\n",
              " 'southwestair forgot number checked profile boarding pass',\n",
              " 'southwestair five people shown',\n",
              " 'americanair never anything love faithful customer',\n",
              " 'southwestair hello flights take dallaslovefield airport noon supposed travel flight antonio',\n",
              " 'southwestair love appreciate fact guy rarely cancelled flight flights time need cancelled flightlation time',\n",
              " 'americanair connection',\n",
              " 'united good fault plane maintenance issue',\n",
              " 'americanair sensitive fact believe warrant poor service little help compassion go long',\n",
              " 'jetblue online resource time clearly information',\n",
              " 'united make hard delayed hour plane turning around heading back gate connection',\n",
              " 'usairways people kind hardworking infrastructure given horrid massivefail failphone fail',\n",
              " 'jetblue thanks bday saturday aviation themed surprise party',\n",
              " 'jetblue airways reveals bluemanity livery travelpulse http fttfyfmvco',\n",
              " 'usairways josephtreis dont bother dont pick phone worst customer service going',\n",
              " 'americanair expecting delay tomorrow morning',\n",
              " 'usairways flight leaving even begun board please update website asap',\n",
              " 'americanair incredibly arrogant thing hare waiting incompetent airline refuel',\n",
              " 'jetblue airline trouble winter getting good customer service contact http aqjn hwnac negotiate resolution',\n",
              " 'united thankful great service newark seats fixed seated daughter landing fort myers',\n",
              " 'united feeling like true united customer stuck tarmac unitedfail',\n",
              " 'united cool customer told care either expected',\n",
              " 'southwestair today scavenger hunt start trying help little brother destinationdragons',\n",
              " 'united shoddy customer service whatsoever unitedairline',\n",
              " 'jetblue option luggage assistance ground flight delayed hour sleeping kid land',\n",
              " 'southwestair',\n",
              " 'united used twice case numbers assigned tried screen say thank submitting request',\n",
              " 'americanair guy amazing today know hard thanks kate appleton hard work reflight booking problems friends',\n",
              " 'americanair really need customer service training unhappy morning chicago gate chking schd',\n",
              " 'southwestair employee great',\n",
              " 'americanair souljacoy going utterly embarrassing customer service even answer dang phone',\n",
              " 'southwestair please bring back direct route noticed missing starting late flight august flights always pack',\n",
              " 'usairways want home',\n",
              " 'usairways phone line disconnect queue answered phone line simply disconnect call',\n",
              " 'jetblue sitting plane many predictable mechanical problem still onboard getting',\n",
              " 'usairways shivadelrahim upgrades',\n",
              " 'usairways never received horrible service treated poorly richard today excuse attitude ripping ticket',\n",
              " 'jetblue copy last flight showing original time delay need work thanks',\n",
              " 'jetblue honest update departure flite plane infant children',\n",
              " 'usairways wait gate opened back good maybe',\n",
              " 'americanair maintenance sits days frozen line found boarded come faail',\n",
              " 'southwestair seriously worst remember last time someone knew flight delayed cancelled flightled',\n",
              " 'united wont transfer flight ticket accompany active military emergency brain surgery',\n",
              " 'usairways ticket counter people helping want charge money even horrible',\n",
              " 'united zurich would credit mile segs full fare',\n",
              " 'americanair need know done like promised would yesterday',\n",
              " 'jetblue kudos done heading warmer weather',\n",
              " 'southwestair yall trying chicago live send home bullshit customer service',\n",
              " 'southwestair stay chicago overnight meet bag hope stay flight',\n",
              " 'united severely staffed',\n",
              " 'americanair fantastic thanks tweet photo view',\n",
              " 'southwestair love companion pass qualified year hollymais',\n",
              " 'americanair say provide flight wifi route china base federal law united',\n",
              " 'southwestair boarding pass compatible iphone passbook http esmmnizek',\n",
              " 'usairways disaster flight missed passenger count since done manually really',\n",
              " 'jetblue suck donkey balls',\n",
              " 'southwestair thanks confirmation number dmed appreciate help',\n",
              " 'jetblue make feel like criminal want near year flight jetblue http qgtcao',\n",
              " 'americanair already make arrangement',\n",
              " 'usairways frequent fly number website help',\n",
              " 'southwestair ticket booked arrival time reflect time',\n",
              " 'united unhappy cold people bridge freezing temp hour given info',\n",
              " 'jetblue love help shanese bryant melton hard working grandmother miami bucket list flyitforward',\n",
              " 'united want book multi city fare mile flights option flight mile visa thanks',\n",
              " 'united email address username sign available',\n",
              " 'united waiting four hour able help',\n",
              " 'americanair thank flight hold cancelled flights',\n",
              " 'usairways flight scheduled told flight cancelled flightled sitting cold plane hour',\n",
              " 'united plenty seat available vicky thomas refuse give million mile fly',\n",
              " 'united madrid arrived agent mass confusion sent employee maryjo rude unhelpful',\n",
              " 'usairways americanair terminal miami still worst smelly airport ever thanks nothing',\n",
              " 'united great decision making skills flight make minute connection flight pushed early disappointed',\n",
              " 'jetblue checked yesterday looked like something change',\n",
              " 'united weighed checked',\n",
              " 'usairways check online state status closed mean able reach live person',\n",
              " 'united asked ignore please assist changing another flight today avoiding',\n",
              " 'americanair americanairlines approach http dmjhiw',\n",
              " 'united finally told couldnt front plane restrm though others row behind used issue',\n",
              " 'americanair earlier flights york currently booked flights',\n",
              " 'united last night waited forever gate someone corporate dispatch forgot call crew unfriendlyskies',\n",
              " 'united seriously wifi flight airline without wifi',\n",
              " 'united told changed flight ottawa airport cant find reservation whats wrong',\n",
              " 'jetblue analystdoc unfortunately available option current system sorry guy certain fail',\n",
              " 'united need apology need took minute landing unacceptable',\n",
              " 'americanair photo scale model wheel deflator specified chapter http wqrklw',\n",
              " 'united flying saturday expecting snow start looking travel waiver thanks',\n",
              " 'americanair thanks getting back find airline future',\n",
              " 'virginamerica know need spotify stat guiltypleasures',\n",
              " 'united patient luxurious middle seat next delayed flight',\n",
              " 'usairways hour tarmac charleston still response week unacceptable',\n",
              " 'southwestair happen customer service cancelled flightled flights days uninformed unapologetic staff nolove cali',\n",
              " 'united zero entertainment system youareonyourown',\n",
              " 'americanair overweight pull dozen passengers luggage seriously',\n",
              " 'jetblue disappointed flight back boston cancelled flightled rebooked next delayed compensation',\n",
              " 'united better customer service john wayne airport',\n",
              " 'americanair waiting delayed plane plane hour waiting late flight passenger',\n",
              " 'united always helps communicate customer',\n",
              " 'united customer service unbelievably abysmal phone well tonight hung',\n",
              " 'southwestair time flying southwest year another trip back october',\n",
              " 'americanair priority baggage evidently mean come last',\n",
              " 'united mention infant seat stuck poor replacement road',\n",
              " 'united thanks checking',\n",
              " 'americanair understand even hold say late flightr goodbye',\n",
              " 'united check carry watched handler throw miss conveyer belt http lyoocx',\n",
              " 'southwestair rerouted flight diabetic little insulin even though tried change agent',\n",
              " 'americanair talk year plane nonewplanes shame http twetpxuppn',\n",
              " 'americanair flight need change asap help',\n",
              " 'united change stick premiere loyal customer make thing harder loyal',\n",
              " 'usairways know door close minute takeoff stop telling flight leave minute boarded',\n",
              " 'united hope issue return flight tomorrow',\n",
              " 'united customer service',\n",
              " 'usairways wife sick twin waiting line agent phone agent say nothing tuesday',\n",
              " 'jetblue ruining vacation left right would thought airline cancelled flight ticket without telling buyer',\n",
              " 'southwestair guys something inability check online international flight',\n",
              " 'usairways seriously flight delay cinci philly ground staff miss connection argue hotel',\n",
              " 'united line denver rebook weather issue better http tmccexyaaq',\n",
              " 'usairways redeem pass admiral club free visit barclay card membership bring companion',\n",
              " 'usairways failingyourcustomer',\n",
              " 'jetblue guy continue impress crew gate helped family seat issue professional',\n",
              " 'southwestair charge ticket change fees incur mysterious cost incur united',\n",
              " 'americanair take call need change flight',\n",
              " 'usairways flight sitting fully loaded hour conditioning barely working',\n",
              " 'jetblue dropping passengers small baby infant juan terminal unloading baby officer writes ticket',\n",
              " 'southwestair continue amazed amazing customer service thank',\n",
              " 'southwestair hilarious flight attendant vegas detroit tonight http dgmf',\n",
              " 'americanair people cruel stupid posting personal email damn internet lost mind',\n",
              " 'americanair narrowly make standby lot snag trip',\n",
              " 'southwestair thank thankful feelingtheluv',\n",
              " 'americanair took flight yesterday fron went today went back still',\n",
              " 'americanair agent helping stagnant line almost customer super',\n",
              " 'southwestair pair ticket imaginedragons show atlanta love destinationdragons',\n",
              " 'southwestair duped connection flight sneaky give seat earlier flight availability shameful',\n",
              " 'southwestair really hear mouth situation',\n",
              " 'virginamerica phone number find call flight reservation',\n",
              " 'usairways thanks would better gate agent charlotte boarding flight',\n",
              " 'jetblue always pleasure',\n",
              " 'usairways usairways disappoints cancelled flighted flights missed appointment promised refund',\n",
              " 'united anyone deal person cowardly customer service looked eye anyone',\n",
              " 'americanair something wrong website matter flight select say longer available',\n",
              " 'southwestair multiple attempt finally able submit late flight last night',\n",
              " 'southwestair broke stroller wife baby gate checked told problem calling list preferred line',\n",
              " 'jetblue unfortunately hoping catch sometime near future',\n",
              " 'jetblue mean take time write physical letter fraud department email telephone right',\n",
              " 'americanair trip short flight change massive layover peanut cracker asked received',\n",
              " 'united please follow missing',\n",
              " 'usairways please secure footrest shelf business class airplane http bvexmcj',\n",
              " 'americanair maryella green received actually thank',\n",
              " 'jetblue amagrino cover cost service waiting time',\n",
              " 'americanair cancelled flightled flight first priority ticket bumped losing customer people furious',\n",
              " 'americanair connect person without wait hour hold still able resolve problem',\n",
              " 'usairways reservation numbers none hungary phone working make difficult',\n",
              " 'southwestair checked right mark boarding group kid age want split',\n",
              " 'jetblue flight booze served give lostrevenue angryandsober bachelorpartymishap',\n",
              " 'americanair sweetmel weather folks extra hard communicate load bag onto flight anything',\n",
              " 'americanair flights using gate bus plane awful boarding process hour half late flight',\n",
              " 'united staff rather efficient solution freaked little limbo',\n",
              " 'united flight vega houston cancelled flighted morning operation mean thank woke early today',\n",
              " 'usairways take hour offload bag especially take jetway plane landing',\n",
              " 'americanair like apologize gate agent flight aware zone nine precious gem',\n",
              " 'americanair late flightr call back immediately disconnected',\n",
              " 'usairways waive neptune credit pay couldnt destination waivethefee',\n",
              " 'insulting usairways americanair offer required voucher goodwill offering least round trip',\n",
              " 'usairways even return flight home change fees charge expensive forcing purchase ticket',\n",
              " 'united rebooked line people deep',\n",
              " 'usairways cust serv rep unable change reservation system check unaware cancelled flights word night',\n",
              " 'united give service terrible forced united certain route never would',\n",
              " 'southwestair kind update delayed flight boston houston really need back home tonight',\n",
              " 'southwestair impression hour delay flight equipment failure compensation offered',\n",
              " 'southwestair looks like february open schedule sale october know time',\n",
              " 'americanair would appreciated please send page long form limited character direct email',\n",
              " 'usairways email',\n",
              " 'united diverted missed connecting flight told people care',\n",
              " 'united need assistance line door travelling kid',\n",
              " 'united together serious email issue arose vacation staff post',\n",
              " 'americanair upon entering plane usairways stewardess water please take seat',\n",
              " 'jetblue amount money spent hotel week flight cancelled flightlation another flight make money lost',\n",
              " 'usairways flight list someone else spot rude employee coach wouldt give said cute head',\n",
              " 'americanair thanks bummer poor planning part assume card passbook work either',\n",
              " 'usairways still crickets customer service',\n",
              " 'united always hoping improvement',\n",
              " 'americanair merger usairways usairwis cluster inefficiency misinformation going done',\n",
              " 'southwestair much respect',\n",
              " 'southwestair really easy local strip book',\n",
              " 'usairways charlotte staff needs prayer disappointed response mishap lotttttttt pissed people',\n",
              " 'southwestair unscheduled aircraft change please better system place worth paid upgrade refund',\n",
              " 'united another missed cnxn went strike belize family miss cnxn please',\n",
              " 'usairways thanks make train trip look appealing',\n",
              " 'united getting ridiculous missing connection',\n",
              " 'united really clean food coffee stain area around seat passengers come aboard gross',\n",
              " 'united missing flight attendant delayed flight prime example person impacts people wastedtime',\n",
              " 'usairways americanair call number listed sure next friday real live person line http tjuum',\n",
              " 'americanair change price ticket logical',\n",
              " 'stop madness jetblue fleet fleek http usbj',\n",
              " 'united sent info appreciate help consideration',\n",
              " 'southwestair service dumb tone voice like known',\n",
              " 'usairways trying dads wheelchair answering dulles tried call back multiple time',\n",
              " 'usairways hold approaching issue changed ticket online frustrating',\n",
              " 'united thank',\n",
              " 'united thanks effort earliest though make complaint refund losing business tomorrow',\n",
              " 'usairways lack communication offices customer yall never update system guy established mess',\n",
              " 'jetblue much paid fees plus hotel food change could flown reliable airline jetblue',\n",
              " 'seriously want work jetblue social team jetblue vincenzolandino http eigajyzcw',\n",
              " 'southwestair right delayed crabby also allow family member purchase earlybird check hold row',\n",
              " 'united guy suck',\n",
              " 'united thank person houston could flight routing newark going',\n",
              " 'united lost huston leave bahamas cruise today nola stuff customer service existent',\n",
              " 'southwestair customer service alex patient help reflight booking problems cancelled flighted flight getting tmrw',\n",
              " 'usairways faster columbia making stay night delayed flight',\n",
              " 'americanair highly disappointed baggage service merge usairways guy lost missing item',\n",
              " 'southwestair list program complete joke company value loyal customer time look another airliner',\n",
              " 'americanair understand need drain lavatory fearing freezing policy checking boarding come',\n",
              " 'united hope nicer flight time thing right sold ticket connetion',\n",
              " 'southwestair thank thank thank last attempt destinationdragons ticket success could happier',\n",
              " 'jetblue hate http vbrq',\n",
              " 'americanair cvgairport together perfect combination delay cancelled flightlations',\n",
              " 'united dislike delay paid agreement paid destination certain time',\n",
              " 'southwestair trying cust relation another',\n",
              " 'jetblue yesterday flight want chicago sale within point range today guy still honor',\n",
              " 'united possible known traveler number ticket flight booking problems',\n",
              " 'virginamerica heyyyy guyyyys trying hour someone call please',\n",
              " 'jetblue fleet fleek http qavvlaxlkl',\n",
              " 'southwestair thanks opportunity',\n",
              " 'jetblue disappointed missed connection reimbursement even friend pilot say',\n",
              " 'jetblue lipstick still baggage claim disaster chair min wait baggage fail',\n",
              " 'americanair prime ticketed seat switched sure going',\n",
              " 'jetblue fleet fleek http qsqz yall better',\n",
              " 'jetblue great thank',\n",
              " 'americanair usual next flight show time suppose leave minute boarded',\n",
              " 'southwestair opal dragon book dragon woven murdering ways philippines australia http iosphm',\n",
              " 'usairways happen located',\n",
              " 'americanair phone call email cancelled flight flight would lovely',\n",
              " 'usairways please thank mellie tammy baggage claim excellent customer service complaint',\n",
              " 'united mean within week filed compensation complaint website',\n",
              " 'united thanks help need issue austrian guess awhile longer',\n",
              " 'usairways airline rather poor right waiting take suppose take hour minute',\n",
              " 'usairways three hour hold disconnected conf ebhset need home sunday interview',\n",
              " 'usairways flight gate agent plane nice customer service',\n",
              " 'united unfortunately experience flying saturday inpolite crew delay',\n",
              " 'usairways stated issue plane moving cargo door open plane little strange',\n",
              " 'united thanks trying take money without notice industry cancelled flight service refund issued cont',\n",
              " 'united leave tarmac united gate agent agree head count counting people epicfailunited',\n",
              " 'usairways flight delayed hour reason given sure love flying airline whatajoke',\n",
              " 'united vacation going ruined days rain change nearly cost original flight help',\n",
              " 'southwestair help entry vegas event boyfriend imaginedragons fan since awesome',\n",
              " 'americanair thought guy done messing make worse airline ruin hope dream',\n",
              " 'americanair boarded flight still sitting runway lots',\n",
              " 'usairways waited hold long wait hold forever never received confirm place help',\n",
              " 'united interviewed yesterday flight attendant last person recruiter say lost file come back interview',\n",
              " 'united item mine mysteriously ended checked flight missing black http sjqemdtqma',\n",
              " 'united thank trying days',\n",
              " 'southwestair wifi shit jump closest bloody fucking emergency exit',\n",
              " 'virginamerica jump dallas austin market dallas news http ewwgi',\n",
              " 'southwestair conference number spoke courtney texas david finally fixed mine hour',\n",
              " 'americanair anyone make better effort retain customer easy want travel',\n",
              " 'united premier desk able rebook friends americanair problem checked',\n",
              " 'jetblue fleet fleek http habyep',\n",
              " 'southwestair guy held flight thank take oakland thanks',\n",
              " 'united flight gate agent tried prevent take onboard used year flight crew reasonable',\n",
              " 'usairways thank',\n",
              " 'usairways success make flight please thank crew great time recovery',\n",
              " 'southwestair considered adding call back someone free feature support line',\n",
              " 'southwestair vegas days miss warm weather',\n",
              " 'united unsmiling told hotel shuttle come like every minute breezy late flightr take going reimburse',\n",
              " 'americanair send trusted traveler reservation',\n",
              " 'americanair thank know busy today help would appreciated',\n",
              " 'jetblue still waiting bag flight landed hour',\n",
              " 'usairways reaccommodation delayed flight gate agent still mumbled word folks getting anxious',\n",
              " 'usairways dude named shaquille desk charlotte incredibly professional helpful crazy angry people tonight',\n",
              " 'southwestair kudos adding passbook love',\n",
              " 'united worse delayed reason flight cancelled flighted reason le days returning',\n",
              " 'usairways find funny phlairport responds customer service worst wedontcarebecauseyoupaidalready',\n",
              " 'jetblue stuck delay boston snow snow weather',\n",
              " 'jetblue thank awesome',\n",
              " 'americanair stuck airplane bathroom',\n",
              " 'usairways sorry meant flight supposed depart say issue',\n",
              " 'united received previously checked say complaint associated mail',\n",
              " 'jetblue definitely favorite airline',\n",
              " 'united baldordash rebooked arrived hour late flightr last year diego inflight entertainment',\n",
              " 'jetblue although totally answer looking appreciate prompt response',\n",
              " 'southwestair easily atlanta show need ticket help',\n",
              " 'jetblue whatever mint heart desire http',\n",
              " 'americanair message pic sent',\n",
              " 'americanair thanks',\n",
              " 'united airport snow removal method keep good work folks cessna become http tmusjvu',\n",
              " 'usairways ability switch flight americanair tell bag',\n",
              " 'usairways make bahamas work luggage know travel happen anyway help info',\n",
              " 'usairways never airway american share nightmare story many others know',\n",
              " 'united delayed flight finally board plane half hour crew limit deplane unacceptable',\n",
              " 'southwestair hold minute answer phone',\n",
              " 'americanair cancelled flightled flight without courtesy notifying alternative poor',\n",
              " 'usairways time occurred week patient choice antitrust issue',\n",
              " 'southwestair hold rebook flight rebook website crashed',\n",
              " 'virginamerica',\n",
              " 'jetblue delay system',\n",
              " 'virginamerica trying check flight desktop website working sort cache',\n",
              " 'virginamerica beautiful front design right cool still book ticket back secure',\n",
              " 'united hearing sure',\n",
              " 'jetblue annnndddd booked flight easy',\n",
              " 'americanair line waiting minute',\n",
              " 'usairways could extended courtsey waiting gate closed face fired',\n",
              " 'usairways last name pordes',\n",
              " 'americanair thanks actually make connection flight delayed guess delay thing http xggcntco',\n",
              " 'americanair know also working home thanks nothing',\n",
              " 'usairways know left something last flight literally make connection retrieve please',\n",
              " 'jetblue offered flight paid changed time done ruin cruise plan',\n",
              " 'united say customer care report anyone response humiliating company serf public',\n",
              " 'united sitting middle first time hope work well',\n",
              " 'jetblue airways corporation nasdaq jblu update jetblue say lufthansa markets bureau http zlsquu',\n",
              " 'malhoit least response americanair twitter went yesterday',\n",
              " 'americanair please help monday cancelled flightled advise reflight booking problems refund children need make plan',\n",
              " 'usairways seat next flight seattle tray table fall http lkqjw',\n",
              " 'united flight gate tell somehow make flight wait',\n",
              " 'usairways comcast airline minonhold',\n",
              " 'americanair jason missing connection please agent assistance nope take still',\n",
              " 'southwestair hold hour waiting speak someone cancelled flightled flight philly',\n",
              " 'americanair patrichruben profit maximization priority nothing else even register dinosaur',\n",
              " 'southwestair flying week bringing blanket freezing',\n",
              " 'united great flight smallest plane ever smooth landing ever',\n",
              " 'americanair thanks submitted damage complaint online anything else goodcustomerservice',\n",
              " 'americanair eagle always late flight',\n",
              " 'americanair looking status flight schedule tomorrow morning thank',\n",
              " 'hypocrisy united sorry able offer full refund exchange rate hoping',\n",
              " 'united terrible illogical route cancelled flightled connection make check lost',\n",
              " 'united speaking united customer service night flight confirming everything reservation',\n",
              " 'usairways good news fixed',\n",
              " 'usairways word whether flight seattle charlotte connection held',\n",
              " 'southwestair important accept others swadiversity',\n",
              " 'americanair changed aadvantage travel plan call help busy hang give',\n",
              " 'southwestair everyones flights cancelled flightled today deserve',\n",
              " 'usairways airway joke never dealt worse service',\n",
              " 'jetblue reading nytimes jetblue fleet fleek http lvirtdtqly',\n",
              " 'southwestair really unhelpful rebook online http',\n",
              " 'jetblue flight full',\n",
              " 'usairways rock plane delay never easy airways never fail',\n",
              " 'jetblue thank excited first time',\n",
              " 'united gate definitely full parked wheel chocked customer service call unmet arrival',\n",
              " 'southwestair provide direct assistance colleague book ticket booked corporate account help',\n",
              " 'jetblue guess need book flight somewhere warm asap suggestion',\n",
              " 'united never flying guy ever customer service piss poor best',\n",
              " 'thanks much united whitterbug spoke reservations team reinstated flight thanks',\n",
              " 'usairways americanair anyone answering phone today listening damn message minute',\n",
              " 'southwestair thank',\n",
              " 'americanair beyond redemption baggage claim look like luggage warehouse',\n",
              " 'united know hour sitting plane bag loaded plane weight',\n",
              " 'americanair deplaned fucking time fuck',\n",
              " 'united joni great flight thanks great flight',\n",
              " 'americanair willing hold agent helpful keep hang americanairsucks hiremorepoeple',\n",
              " 'united delayed another hour',\n",
              " 'usairways admiral club rude ignorant front desk staff americanair fall thanks doug parker',\n",
              " 'jetblue booked work added upgrade seat need upgrade receipt',\n",
              " 'southwestair janet customer service call back sitting min pick frustrated',\n",
              " 'americanair flight delayed talk reach anyone customer service high call volume',\n",
              " 'united miss first flight hundred keep second much keep earn mile',\n",
              " 'united standby denver delayed confirmed aspen whose flights cancelled flighted confidence',\n",
              " 'jetblue actually flight',\n",
              " 'united options tonight look like make time reserve hotel room',\n",
              " 'southwestair thanks much make cancelled flightlation sent info',\n",
              " 'united aware flight detail thanks three hour late flight crew could give le shit',\n",
              " 'united admit clue flight leave denver unfriendlyskies',\n",
              " 'jetblue thank jetblue credit nice save',\n",
              " 'americanair lost customer today flight today cancelled flightled find call customer service yesterday',\n",
              " 'americanair still waiting flight money back',\n",
              " 'united already emailed know expedient contact please advise thanks',\n",
              " 'southwestair flight cancelled flightled tried refund hold flight would departed',\n",
              " 'southwestair thank help resolving problem shannon rocks even though rhonda',\n",
              " 'united still received response please direct message contact information',\n",
              " 'usairways future better harsh weather preparedness plan much staff call everything snowballed',\n",
              " 'united airline cause missed connection would think would take whatever step remedy screw',\n",
              " 'united poor united never seem response right',\n",
              " 'usairways americanair hour half thanks',\n",
              " 'usairways thanks',\n",
              " 'usairways know dealing weather phlairport mess send reinforcement',\n",
              " 'southwestair sammi best friends imaginedragons chance could ticket destinationdragons',\n",
              " 'americanair responding cant watch min film cutting prolonged prds time beyond frustrating',\n",
              " 'united sure missed mark tonight redeye chicago mess better',\n",
              " 'united awful weather appears home',\n",
              " 'jetblue time flight disaster last time allowed stndby hour delay notification',\n",
              " 'usairways hold minute need help usair help',\n",
              " 'americanair flight going cancelled flightled tomorrow',\n",
              " 'united flight',\n",
              " 'usairways good luck getting cool',\n",
              " 'usairways long departure gate stay open make connecting flight flight',\n",
              " 'usairways even believe guy cancelled flight connecting flight leave first stop give useless hotel voucher',\n",
              " 'southwestair ridiculous want charge change flights even multiple seat available flight needed',\n",
              " 'southwestair another delay',\n",
              " 'americanair trying check flight line working agent busy take call',\n",
              " 'jetblue going poor communication gate agent',\n",
              " 'southwestair hope sing song flight phoenix today terminal humphrey http mavigetbbw',\n",
              " 'united lie lie lie still sitting gate moved inch http lulgnweffh',\n",
              " 'united following need follow',\n",
              " 'usairways americanair total lack cust service flying solo baby flying',\n",
              " 'united ever print known traveler number ticket never prescreen paid',\n",
              " 'americanair still think american airlines great would like treated better loyal customer first right',\n",
              " 'usairways americanair delay mechanical issue weekend flights ridiculous tweet long delayed',\n",
              " 'united future delay cause hour wait slept night airport ensuring seating choice replacement flight would good',\n",
              " 'americanair break whatever want take responsibility customer medium filmcrew chicagotribune nytimes',\n",
              " 'usairways call time redeem mile point advertise mile make hard',\n",
              " 'jetblue directed mobile website direct link together',\n",
              " 'usairways going',\n",
              " 'united possibly messed trip anymore thanks terrible airline disappointed',\n",
              " 'united say flight departed late flight hour late flightr still seating inside plane fail',\n",
              " 'united mean beyond opaque maintenance issue would basic customer service staff manage',\n",
              " 'southwestair free watch daytona boss http sbgbn ouxy',\n",
              " 'usairways screwed flight late flight made flight daryl plane',\n",
              " 'usairways option twitter people working clue tell',\n",
              " 'virginamerica female pilot sweet',\n",
              " 'southwestair kudos patricia gate sunday morning chicago midway http mmcwkqp',\n",
              " 'jetblue able watch oscars flight tomorrow',\n",
              " 'jetblue airways covered bank america jblu dakota financial news http wowxhpu',\n",
              " 'virginamerica sent couple message email provided avail next year cheers',\n",
              " 'usairways plan support applepay board usairways would nice still forget card',\n",
              " 'jetblue home guy recovered laugh extra barbados open cuba soon',\n",
              " 'united fernheinig delay making back gate multiple time maybe take accountability',\n",
              " 'jetblue fleet fleek http ncguzdgdaq',\n",
              " 'americanair weather logistics hold minute call desk agent',\n",
              " 'jetblue would prefer similar picture full tail great shot',\n",
              " 'usairways denied flight needed breast pumping part full flight please asap freeflight',\n",
              " 'usairways service philly unacceptable look better service shouldnt hard time http wdaktmr',\n",
              " 'jetblue knew hour sounded missed flight hour early gate attendant told',\n",
              " 'usairways gainesville',\n",
              " 'southwestair never email confirmation ticket credit card charged phone wait time crazy chat',\n",
              " 'jetblue gotcha lessening delay part happen right',\n",
              " 'americanair none sample itineraries actually booked http rabgn every last back say invalid',\n",
              " 'united familiar procedure first time unitedairlines lost bag unhappytraveler',\n",
              " 'usairways hour delay airline getting worse foolish american merge treat customer like crap',\n",
              " 'usairways friend telling gate attendant stewardess going notourfaultyoudontuseyourgatesright',\n",
              " 'americanair student ithaca stuck miami flts rebook kid home carrier alliance rulesshouldbend',\n",
              " 'united even legal guy advertise flights cant honor',\n",
              " 'americanair natt agent helped really awesome',\n",
              " 'southwestair stop promos anywhere starting click everywhere place thats nothanks',\n",
              " 'usairways americanair svllindia provides best logistics experience people india mumbai surat navimumbai',\n",
              " 'americanair loaded luggage plane hour delayed flight',\n",
              " 'virginamerica best flight attendant ever http pxdel',\n",
              " 'usairways please respond hold reservation line hour minute would really appreciate',\n",
              " 'usairways flight cancelled flightled slept floor airport flight delayed',\n",
              " 'united phone number find call flight reservation',\n",
              " 'usairways make huge relief thanks help',\n",
              " 'southwestair early bird great employee awesome passengers killed buzz',\n",
              " 'united strike board anyone something wrong plane common sense',\n",
              " 'americanair also speak someone phone hang',\n",
              " 'united mention plane luggage luggage going many days',\n",
              " 'united flights',\n",
              " 'jetblue flight orlando ridiculous wait high school band board notbabysitters whrsthecoach',\n",
              " 'southwestair thank much access destinationdragons tonight thetroubadour imaginedragons crying dying ripme',\n",
              " 'usairways need help flight weather funeral tough combination hold hour please',\n",
              " 'southwestair thanks helping allegiantair plane orlando best customerservice',\n",
              " 'usairways incompetent airline every days',\n",
              " 'americanair mistake multibillion dollar company',\n",
              " 'usairways replying trying thru many time mail people hang talk tech cont',\n",
              " 'jetblue gracious jetblue tell water snack flight delayed hour',\n",
              " 'southwestair would',\n",
              " 'southwestair never favorite band would sooo amazing destination dragon',\n",
              " 'united recap bounced flight lied hung supposed think',\n",
              " 'united wife sharing dreadful experience pretend care young girl traveling alone united airlines',\n",
              " 'united would help integrate activate surf',\n",
              " 'americanair left gate next need help',\n",
              " 'united fail song http axpn xiqb united breaks guitars lmao',\n",
              " 'jetblue amazingly awesome customer service reservation agent tonight helping correct mistake love airline',\n",
              " 'americanair looks like looked tweet last month able agent help thanks',\n",
              " 'usairways membership privilege anymore army short window help',\n",
              " 'usairways thank asking',\n",
              " 'united ridic cant transfer credit youre take cancelled flightling atleast keep credit damn',\n",
              " 'southwestair picked seatac clothes soaking bagawim http ngxal',\n",
              " 'united airline time ever airline disgrace jimtrotter listened tweet horrible',\n",
              " 'usairways guy need much better communication',\n",
              " 'jetblue page cancelled flighted min delta southwestair help flights tfgreenairport',\n",
              " 'united idea monitor mileage member travel pattern enough know change job lose status make transition easier',\n",
              " 'usairways thanks switch american http bdrxfn',\n",
              " 'jetblue always amazing jetblue trueblue http iimtjxcvlg',\n",
              " 'southwestair grouchy flight complimentarybeveragesneeded',\n",
              " 'southwestair need song next commercial http love',\n",
              " 'americanair could voided ticket since since flight booking problems going waive fees still',\n",
              " 'usairways claudoakeshott need link getting person know bag lost nonstop',\n",
              " 'usairways trying merge freq fly accts keep getting error message machine call provided help',\n",
              " 'usairways thanks gate agent keeping informed delay greatcustomerservice',\n",
              " 'americanair sent',\n",
              " 'united suppose customer enjoy screaming toddler problem someone complains',\n",
              " 'southwestair imaginedragons tried okay',\n",
              " 'usairways idiots kept time plane tarmac hour forcing minute',\n",
              " 'jetblue family question trip disney world april please follow could guy',\n",
              " 'southwestair sent additonal info',\n",
              " 'usairways flying tomorrow weather looking problematic',\n",
              " 'united even multiplier ticket price still never equal amount mile travel even transatlantic flights',\n",
              " 'americanair delay counter take valid card valid needed precheck pass',\n",
              " 'jetblue staff amazing jetblue sending email detail disappointing experience jetbluecheeps',\n",
              " 'united guy awesome thanks',\n",
              " 'usairways people line agent',\n",
              " 'southwestair tough take zero meaningful assistance stranded days another matter looking sign care cust',\n",
              " 'united confused dulles airport agent directed website delays nothing work http cyprhe',\n",
              " 'united appreciate follow',\n",
              " 'usairways would like similar http npib',\n",
              " 'americanair happen notification departure cancelled flightation tomorrow take talk someone',\n",
              " 'jetblue kleinerin know pastor homeschool might like spirited contact prefundia http jrbzlhrw',\n",
              " 'united sending posting complete detail circumstance surrounding matter united airline ashamed',\n",
              " 'united stay traveling sleeping airport floor',\n",
              " 'usairways lie say email delayed weather clear city departing',\n",
              " 'southwestair thank bringbacktheluvtordu miami directflights',\n",
              " 'united please tell flight needs gate waiting min',\n",
              " 'united click link want flight info booked flight read waive fees military true',\n",
              " 'southwestair could baltimore http vlci',\n",
              " 'southwestair like need luggage tomorrow morning',\n",
              " 'jetblue left ipad flight monday call left message heard back seat',\n",
              " 'usairways make reservation changing name dividend mile account',\n",
              " 'united totally understand large number face hour time overnight cancelled flightations seems like',\n",
              " 'americanair flight cancelled flightled home tomorrow could dinner play americanair first time',\n",
              " 'southwestair hour wait reflight booking problems line omaha',\n",
              " 'americanair flight delayed cancelled flighted',\n",
              " 'united http however completely control price still displayed http',\n",
              " 'americanair thank much help',\n",
              " 'southwestair bag back ding',\n",
              " 'united mile going restructured help silver status brotha thought winning guy today',\n",
              " 'united seriously complete',\n",
              " 'southwestair thanks flight tomorrow much faith ground tomorrow though',\n",
              " 'southwestair hope apart team opening',\n",
              " 'southwestair landed window cover could http wqzztiemx',\n",
              " 'americanair spent flight could gone united mileage program suck',\n",
              " 'southwestair people minute flight time check bag flight delayed hour waited',\n",
              " 'southwestair glassdoor best places work snagging overall notsurprising luvthem',\n",
              " 'united course interesting united seem good sense happen flight',\n",
              " 'jetblue tried helpful really dissatisfied flight booking problems whole trip blue time around besides flights',\n",
              " 'usairways agent',\n",
              " 'southwestair lost whole honeymoon disappointed frustrated everything',\n",
              " 'united denied sure charge hime',\n",
              " 'americanair thank',\n",
              " 'usairways kitchen move stuff around needed extremely disappointed service',\n",
              " 'jetblue sunny http',\n",
              " 'southwestair belt issue rough worst part traveling month wait outside degree',\n",
              " 'united sunrise',\n",
              " 'nice thing jetblue fleet fleek http rppcvhx',\n",
              " 'united stuck waiting flight honolulu hour maintenance issue could gotten plane fail',\n",
              " 'jetblue landed thank anyway flight staff flight wonderful despite full heavy load',\n",
              " 'united correct correct sorry lost',\n",
              " 'united worst flight experience ever thank ending vacation note',\n",
              " 'united boarding process suck learn southwestair',\n",
              " 'southwestair news serious potential away commercial debacle real fire kristi capel',\n",
              " 'united first seat open upgrades processed gate agent say busy cool http kpyhcka',\n",
              " 'virginamerica getaway deal lots cool city http tzzjhuibch cheapflights farecompare',\n",
              " 'united want hotel room whiskey',\n",
              " 'united would take voucher offered miscounting seats plane mean would',\n",
              " 'jetblue definitely',\n",
              " 'united airline absolute worst idea neveragain unitedairlines',\n",
              " 'usairways hello four hours since plane landed tarmac waiting gate plus hour bag',\n",
              " 'united broken plane outage friday southwest right every plane united',\n",
              " 'americanair unexpected unexpected meaning guy know major staff shortage',\n",
              " 'southwestair cancelled flights arrival departure nashville weather headline liveonfox februaryfreezefox',\n",
              " 'southwestair thanks',\n",
              " 'united hold minute talk employee asked name hung face',\n",
              " 'americanair another successful journey thanks hospitality',\n",
              " 'southwestair thanks good military folk cold stlouis sure enjoyed flight http rcdh',\n",
              " 'united lost loyal customer mileage plus card holder could driven florida quicker ways worst trip ever',\n",
              " 'usairways call back',\n",
              " 'southwestair fast already winner congrats',\n",
              " 'americanair space seat thanks pilot back early ohare think possible',\n",
              " 'united change exact flight charge math',\n",
              " 'usairways worst experience ever unable help phone told last cabin crew unavailable flight never usairways',\n",
              " 'united book flight reserved seat check find seat',\n",
              " 'southwestair okay signed',\n",
              " 'americanair dulles need delivered embassy suites herndon still chicago fiasco',\n",
              " 'usairways flying delta since plane getting stuck drift hour weather issue',\n",
              " 'united admit rather good year still hooked peace',\n",
              " 'united touched miami nicely done united',\n",
              " 'usairways thanks asked change cost desition nade computer late flight',\n",
              " 'united updated flight delayed super frustrating',\n",
              " 'united lose gate checked direct flight',\n",
              " 'usairways reservation agent phone great',\n",
              " 'usairways saying friend missed flight clearly next plane cancelled flighting flight home',\n",
              " 'united plane wifi working entertainment existent seats seriously uncomfortable really unitedfail',\n",
              " 'united people also',\n",
              " 'jetblue thank',\n",
              " 'americanair cost vacation rude woman tell another country figure',\n",
              " 'rudeness poor customer service requirement americanair waiting still even seen plane',\n",
              " 'southwestair bonus flowers still expire',\n",
              " 'southwestair',\n",
              " 'usairways thank say website',\n",
              " 'virginamerica soooo guy going leave seatbelt light flight barely call turbulence',\n",
              " 'usairways flight sitting bradley airport gate door open since arrived still bridge someone help',\n",
              " 'united still sitting waiting plane hour waste',\n",
              " 'southwestair reliable system find info say refund credit card',\n",
              " 'usairways great crew flight tonight friendly efficient awesome',\n",
              " 'americanair gate agent missed connecting flight mexico city happy customer correct',\n",
              " 'jetblue received horrible customer service reservation cancelled flighted without notification despite confirmation number',\n",
              " 'southwestair flight atlanta getting cancelled flightled schedule phone hour bumping',\n",
              " 'southwestair would awesome experience destinationdragons',\n",
              " 'jetblue good address send feedback email',\n",
              " 'jetblue pass along advice guy rock',\n",
              " 'jetblue process begin',\n",
              " 'usairways love http ojrsdwpkk',\n",
              " 'southwestair traveling asking sister waiting nephew midland flight eventually landed',\n",
              " 'virginamerica keep great work',\n",
              " 'usairways shavon customer service desk charlotte fantastic helpful smiling sound like long reward',\n",
              " 'united checking never phone hold hour long long wait hold csfail',\n",
              " 'usairways check staff awesome great traffic control general boarding',\n",
              " 'virginamerica love know policy damage luggage',\n",
              " 'united well perhaps could highlight stated travel canada united nexus',\n",
              " 'jetblue thanks chatted nice fella give lowdown',\n",
              " 'jetblue share coming',\n",
              " 'united tried entering email device make email typo option',\n",
              " 'jetblue dispatcher keep yelling hung',\n",
              " 'jetblue thank guy best',\n",
              " 'united friend hare flight proof bought class boarding pass',\n",
              " 'southwestair well sure experience already',\n",
              " 'jetblue drop take people vice versa back forth',\n",
              " 'americanair trained gate agts frequent fly issue forced gate check priority boarding',\n",
              " 'united chance flight cancelled flighted tomorrow',\n",
              " 'united year birthdate',\n",
              " 'southwestair flight booking problems late flight summer travel direct flight disappear',\n",
              " 'americanair believe long flight take know airways would really like home',\n",
              " 'united boarded refused carry overhead space plane load space fail customerexperience',\n",
              " 'united say make flight poor communication unaccounted lost time lot frustrated flyers standing around',\n",
              " 'united ehsanismpowered lmfao',\n",
              " 'southwestair jimcramer aarp spent total min holding cell battery died finally make arrangement kind',\n",
              " 'united allowed allowed carry checked baggage',\n",
              " 'usairways pilot started flight announcing arrival gatwick heathrow moments concern aboard',\n",
              " 'united lady helping luggage',\n",
              " 'united thanks chicago office help switching cancelled flighted flights',\n",
              " 'southwestair great flight great view http aufm xdaj',\n",
              " 'americanair lost cat missed flights kept crated would trip never touch pet',\n",
              " 'united bums lose biggest flight',\n",
              " 'americanair frustrating paid refund',\n",
              " 'americanair thank info changes need make phone correct agent call directly',\n",
              " 'united make list airline wait connector late flight stuck',\n",
              " 'jetblue sure south breakfast though delayed three hour',\n",
              " 'americanair respond',\n",
              " 'americanair extra hour travel time missed vacation time guy messing professional life',\n",
              " 'united usairways americanair americanone claim want',\n",
              " 'americanair told drive back drop could attempt really time terrible',\n",
              " 'united thanks moving flight helped make birthday start friendlyfriday awesomeness paw',\n",
              " 'virginamerica flight delayed hour mechanical problem handle like pro could tossed free drink',\n",
              " 'americanair thanks',\n",
              " 'jetblue customer service say since wife setup family account join mine year help please',\n",
              " 'americanair giving hard time looking basic customer service lost return please',\n",
              " 'southwestair yeehaw found another plane listening vent',\n",
              " 'americanair friend flight cancelled flightlations anyway help number help',\n",
              " 'southwestair jackpot legroom http iceg',\n",
              " 'usairways point baggage claim ticket scan tracking',\n",
              " 'united cancelled flights flight sends email say think next flight customer outrage http kkwiwi',\n",
              " 'united trying away king scollegelondon possible charity today would help jailbreak',\n",
              " 'united live abroad flight booking problems flights come visit state',\n",
              " 'united firstclass london londonfashionweek',\n",
              " 'jetblue load flight',\n",
              " 'usairways americanair stuck airport fresno trying beat storm pittsburgh guy offered nothing horrid',\n",
              " 'southwestair swagglikebean take',\n",
              " 'southwestair please please please answer phone',\n",
              " 'americanair ever wonder find responding many customer complaint twitter airline suck',\n",
              " 'americanair days bags amazing neglect customer',\n",
              " 'usairways deal flight computer network',\n",
              " 'southwestair thing changing ticket cancelled flighting current ticket buying replacement online',\n",
              " 'southwestair jasonwhitely emer stop albuquer heart condition crew awesome pilot maverick divert',\n",
              " 'jetblue complete waste entire pathetic',\n",
              " 'united detail back started phone number reach reply either online phone',\n",
              " 'united segment york delayed suck maybe another line',\n",
              " 'usairways frequent fly airway qantas still notifications thank',\n",
              " 'americanair finally make chicago hour late flight food voucher wait never good',\n",
              " 'americanair welcome anyone work condition deserves thank even though side atlantic',\n",
              " 'southwestair website downnnnn',\n",
              " 'united cell phone record needs checked conversed trust handle better',\n",
              " 'united stranded flying orleans huston tonight stuck days rather wait',\n",
              " 'united force check baby overbooked flight complains wife need much baby united baby meal',\n",
              " 'southwestair',\n",
              " 'americanair gate time watch plane push back minute needed glad relative nearby',\n",
              " 'americanair hour patient call back feature someone answer phone tweet onhold',\n",
              " 'americanair nice employee making skillful excuse late flightness cater snafu http ypvpvdltys',\n",
              " 'jetblue safety first lovejetblue',\n",
              " 'americanair thanks airline ruined refuse anything',\n",
              " 'americanair unload flight jetway broken step planb waiting nearly hour',\n",
              " 'usairways hour even gate agent left line front empty desk stay classy',\n",
              " 'united tonight make fred flintstone happy upgrade class http gkgkzlawpr',\n",
              " 'united asked flight attendant typical compensation would say might free unacceptable',\n",
              " 'southwestair bag come straight hotel thank guy rock',\n",
              " 'united flying tomorrow evening expect delay cancelled flightlations snow storm',\n",
              " 'united gate staff disaster overbooked volunteer boarding late flight trying figure issue bringbackrealstaff',\n",
              " 'virginamerica problem link email check thanks',\n",
              " 'southwestair gate say holding connection thanks quick response',\n",
              " 'americanair terminal boarding pass',\n",
              " 'usairways charged flight cancelled flightled unbelievable unheard',\n",
              " 'southwestair flight cancelled flightled reschedule travel funds back account future',\n",
              " 'virginamerica match americanairlines status cool',\n",
              " 'usairways satesq there',\n",
              " 'americanair karabuxthomps yeah question number dare',\n",
              " 'southwestair thank know control weather appreciate working flight rebooked last days',\n",
              " 'jetblue acces phone iphone broke would rather change late flightr',\n",
              " 'united service horrid want trip high note guess option',\n",
              " 'united flight frustration boiled dealing attendant attitude ridiculous',\n",
              " 'jetblue family excited',\n",
              " 'united customer service delay coupon redeemed website higher price expedia call wait time min',\n",
              " 'united thanks keep good work',\n",
              " 'southwestair temporary site glitch longer offering flights find online',\n",
              " 'usairways askpaypal completed case still progress paypal website reserved',\n",
              " 'southwestair wife expired days planning flight booking problems trip today anything tight budget',\n",
              " 'southwestair hold minute trying rebook cancelled flightled flight companion ticket help',\n",
              " 'usairways worst experience time never ever ever travel ever',\n",
              " 'americanair went check flight advance husband seated separately flight happen',\n",
              " 'usairways gregwallace give cent dollar',\n",
              " 'americanair second',\n",
              " 'southwestair thank',\n",
              " 'united thanks',\n",
              " 'united okay thanks',\n",
              " 'americanair really appreciate great customer service service agent hung asking legitimate question',\n",
              " 'southwestair still heard thing',\n",
              " 'americanair chariot tonight angle look like http zzkqwwbjz',\n",
              " 'usairways flight plane please gate absurd',\n",
              " 'jetblue sorry specified meant ground traffic trying terminal',\n",
              " 'americanair point combined',\n",
              " 'usairways hold reservation already worstairline',\n",
              " 'southwestair contact missing rapid rewards credit',\n",
              " 'jetblue poop barely work',\n",
              " 'usairways still talk days late flightr asking checkin flight tmrw refund requested deal',\n",
              " 'jetblue haha know time lane opens logan',\n",
              " 'usairways happen home next flydelta flysouthwest flyjetblue theyareallbetter stillnobags',\n",
              " 'jetblue fleet fleek http tlgoihqkvs make stop',\n",
              " 'jetblue customer year http epqqonho',\n",
              " 'americanair extend flight bereavement could change dropped told worse life badcustomerservice',\n",
              " 'southwestair updated passbook support http wrwqrublps ubergizmo',\n",
              " 'jetblue sooo earlier say couldnt school trip',\n",
              " 'united took screenshot emailed figure',\n",
              " 'usairways kidding',\n",
              " 'usairways flight full',\n",
              " 'usairways stuck philadelphia airport hour maintenance dreading flight back home disgusting',\n",
              " 'southwestair service promotion moment modelodenegocio innovation innovacion businessmodel',\n",
              " 'united new delay right http ftlzwtvo',\n",
              " 'united hello united take care call center mexico city office terrible attitude lady helping',\n",
              " 'jetblue offer service daytona beach york albany business review http duhbj',\n",
              " 'americanair trying choose seat every time next flight system error',\n",
              " 'jetblue heard anyone week nonstop flight baggage lost stolen customer service',\n",
              " 'jetblue delayed almost take jetblue good luck today really frustrating',\n",
              " 'jetblue upgrade unsure switch someone around call advance reason',\n",
              " 'jetblue great thanks',\n",
              " 'united thank getting daughter home americanair cancelled flightled flights nashville',\n",
              " 'united ride home would perfect fete would assume possible charging domestic flight deplaned',\n",
              " 'southwestair totally ruined birthday weekend cancelled flighting flights reason offer point drink transport nolove cali',\n",
              " 'united nope need little stamp counter check wreck http prgysvurm',\n",
              " 'united referral program milageplus explorer card',\n",
              " 'americanair guy fail need voucher ticket online yourphonesystemsucks',\n",
              " 'southwestair look like anni trip replaced someone itinerary worried flight http bape rumne',\n",
              " 'americanair thanks finally letting book flight frustration donedeal talktoahuman',\n",
              " 'united took window also motion sick http blxs',\n",
              " 'jetblue keep getting better water plane',\n",
              " 'jetblue thank hopefully soon supposed leave',\n",
              " 'united thank amazing airline know treat customer guy rock',\n",
              " 'southwestair sent looking functionality though click action',\n",
              " 'americanair need help record locator bringing different flights system airways',\n",
              " 'jetblue okay actually kinda anyway thanks',\n",
              " 'united held almost minute promised free movie work neither wifi paid',\n",
              " 'americanair baggage handlers call today luggage onboard plane',\n",
              " 'usairways would though entire process people phone usairwayssucks',\n",
              " 'usairways crazy treated poorly happy usairwaysfail',\n",
              " 'southwestair many left',\n",
              " 'usairways work hard making sure thing flow smoothly keeping positive',\n",
              " 'usairways blame weather counter cost entire weather printed boarding pass late flight takeresponsibility',\n",
              " 'united thanks updating hour delay exact second',\n",
              " 'united considered time arriving destination half hour late flightr scheduled http ymftw uyhr',\n",
              " 'americanair rebooked notified cancelled flightled',\n",
              " 'usairways shoutout kristie gate today rockstar tremendous help tough situation promotethatgirl',\n",
              " 'united check luggage employee told include wheel dimension',\n",
              " 'united minute hold wtvd',\n",
              " 'usairways guy screwing trip thanks nothing lazy',\n",
              " 'united passengers waited inside flight runway returned back gate count valid journey',\n",
              " 'usairways frustrating days flights home changed airline thank usairway employee united help getting back',\n",
              " 'united guy changed age double booked seat even though platinum person none',\n",
              " 'usairways cancelled flightled last part ticket confused email received whether value remains someone',\n",
              " 'united business decision make inconvenience possibly cause lost customer good business decision cranky',\n",
              " 'usairways flight cancelled flightled charlotte hold hour pick',\n",
              " 'virginamerica blew mind',\n",
              " 'americanair time awesome flight great american',\n",
              " 'southwestair realize clothes hotel suggestion',\n",
              " 'southwestair mine time wife anniversary',\n",
              " 'southwestair pancho must heard wrong sweet mixtape though record leave left',\n",
              " 'americanair sitting gate flight hour sabre backup plan place sabre fixed',\n",
              " 'southwestair favorite airline never issue plus crew entertaining',\n",
              " 'usairways make thanks help',\n",
              " 'usairways utterly unreliable schedule pilot flight seattle flights delayed usairwaysfail',\n",
              " 'southwestair tremendous atlanta airport celebrate mardi gras another reason nuts guy http wbzorrn',\n",
              " 'united seems like united help lots finger pointed zero people stepping least gate oreos',\n",
              " 'southwestair fkqw conf thanks reply',\n",
              " 'united rebooked hour original flight handle situation would understatement',\n",
              " 'americanair flights leaving dallas right maui trying figure delayed flight going',\n",
              " 'southwestair heck airline http cyoonzftdc',\n",
              " 'southwestair flying flight tonight boarding position overbooked really want bumped',\n",
              " 'jetblue clients zero year career never thought possible suitcases worth thousand italian clothing robbed',\n",
              " 'usairways cancelled flightled flight pay hotel',\n",
              " 'americanair response incredible truly amazed step take enhance customer relation thank',\n",
              " 'americanair regina told file request lost statement finish travel argg',\n",
              " 'united since international connection hoping thing',\n",
              " 'jetblue',\n",
              " 'united long take mile purchased expired show recieved email request',\n",
              " 'united probably least satisfactory airline ever never fail disappoint',\n",
              " 'united airlines changing mileageplus program winners losers http yvaio http vglx ykwqg',\n",
              " 'americanair seguinej joke right line even accepting call right hang',\n",
              " 'united nonrefundable hence wrote make sense credit nothanks',\n",
              " 'jetblue even year earthquake haiti still needs help rebuilding flyingitforward',\n",
              " 'usairways despite mechanical issue many delay followed cancelled flightlation still getting vegas thanks great gate agent',\n",
              " 'jetblue excuse though gate change though',\n",
              " 'jetblue need minute layover delay first flight',\n",
              " 'united reimbursed hotel taxis cancelled flightation',\n",
              " 'americanair receive assistance agent securing connection many miss work tomorrow',\n",
              " 'usairways british airways three hour flight delay phone counting',\n",
              " 'americanair everyone else outstanding',\n",
              " 'united think rough moment passenger earlier flight things considerably better thanks',\n",
              " 'usairways thanks',\n",
              " 'americanair cancelled flightled ticket take month refund still waiting',\n",
              " 'usairways',\n",
              " 'usairways shout pilot attendant eliz super strong crosswind landing eliz super throughout',\n",
              " 'united coming aggiemensgolf hawaii thman http edhf',\n",
              " 'americanair dfwairport together best part flying',\n",
              " 'united late flight future flights train staff better handle emergency situation ground staff customer service',\n",
              " 'united united much despise thee',\n",
              " 'united airlines jeff smisek disloyal loyal workers http cevy huffpostbiz',\n",
              " 'united disappointed service missing connection hour delay cramped seat least good',\n",
              " 'americanair airport long periolodicly time plane nasty',\n",
              " 'united flight houston',\n",
              " 'united fuck care',\n",
              " 'southwestair info destinationdragons winner announced best friend hoping thanks',\n",
              " 'southwestair thanks',\n",
              " 'southwestair tweet weekend weather close customer relation center process refund cancelled flighted flights',\n",
              " 'southwestair missing point account spread four assuming create account',\n",
              " 'united used committed continentalairlines fly merger remember switched southwestair communicationfail',\n",
              " 'united soon done article thanks',\n",
              " 'americanair finding united rebooked airline realized home',\n",
              " 'usairways give http edgc tbls',\n",
              " 'usairways ticket couldnt used unable departing dest blizzard told credit fine',\n",
              " ...]"
            ]
          },
          "metadata": {
            "tags": []
          },
          "execution_count": 141
        }
      ]
    },
    {
      "metadata": {
        "id": "GCNd_VknjGm4",
        "colab_type": "code",
        "colab": {}
      },
      "cell_type": "code",
      "source": [
        "x2=pd.read_csv(\"pre-processed_test.csv\")"
      ],
      "execution_count": 0,
      "outputs": []
    },
    {
      "metadata": {
        "id": "5vagfHr7jJxy",
        "colab_type": "code",
        "colab": {}
      },
      "cell_type": "code",
      "source": [
        "list_x2=[]"
      ],
      "execution_count": 0,
      "outputs": []
    },
    {
      "metadata": {
        "id": "ohUzqN7yjMH0",
        "colab_type": "code",
        "colab": {}
      },
      "cell_type": "code",
      "source": [
        "x2.columns=['test_tweet']"
      ],
      "execution_count": 0,
      "outputs": []
    },
    {
      "metadata": {
        "id": "9GCDrgI7jOKF",
        "colab_type": "code",
        "colab": {}
      },
      "cell_type": "code",
      "source": [
        "for i in range(len(x2['test_tweet'])):\n",
        "    list_x2.append(x2['test_tweet'][i])"
      ],
      "execution_count": 0,
      "outputs": []
    },
    {
      "metadata": {
        "id": "EaaMmNepjQsn",
        "colab_type": "code",
        "colab": {
          "base_uri": "https://localhost:8080/",
          "height": 17034
        },
        "outputId": "b720443c-c62e-4b0d-d659-8bc1f32a0758"
      },
      "cell_type": "code",
      "source": [
        "list_x2    #test-tweets"
      ],
      "execution_count": 146,
      "outputs": [
        {
          "output_type": "execute_result",
          "data": {
            "text/plain": [
              "['americanair pulled road hold since reach arpt',\n",
              " 'americanair plane land identical worse condition according metars',\n",
              " 'southwestair believe many pay customer left high reason flight cancelled flightlations monday',\n",
              " 'usairways legitimately would rather driven cross country flown airways',\n",
              " 'americanair still response great guy',\n",
              " 'united developer flying tmrw morn layover earlier flight layover move',\n",
              " 'usairways hello anyone',\n",
              " 'usairways husainhaqqani husain shld protest well party member rehman malik delayed flight hour',\n",
              " 'usairways likely flightaware say plane still durango departed',\n",
              " 'americanair even give option hold line busy late flightr',\n",
              " 'united announcement boarding address mobility disability requires travel stuff preboard',\n",
              " 'usairways really embarrassing asking complimentary drink snack detailed http argued',\n",
              " 'southwestair passport time trip could still photo thingsishouldknow ifeeldumb',\n",
              " 'americanair delayed friend lisa pafe days costa rica issue updates system',\n",
              " 'southwestair travel compete unused funds expiration date hidden fine print never',\n",
              " 'usairways awesome doors close minute flight leaf minute plane',\n",
              " 'united flew united last month experience awesome',\n",
              " 'jetblue accepting apple mobile enterprise http cfrlqbe',\n",
              " 'united ride love reimburse',\n",
              " 'jetblue call morning upset right',\n",
              " 'southwestair aarp appreciate tweet back unexpected',\n",
              " 'united status flight bogot houston',\n",
              " 'americanair literally stopped allowing people wait line customer service incredible worst customer service',\n",
              " 'americanair really want home tonight preferably please stop delaying plane americanairlines',\n",
              " 'usairways hold reservation desk hour help',\n",
              " 'jetblue denver boston flight boston denver flight plane visible snack crumb seat upon boarding',\n",
              " 'americanair nothing mother nature like poor commutation',\n",
              " 'usairways would rather plane exposed nasty contagious virus work flight changed late flightr date',\n",
              " 'jetblue guy general enquires email address please thanks david',\n",
              " 'united finally arrive bogota good long flight',\n",
              " 'americanair seems undone seat selection want card select free seat',\n",
              " 'jetblue like marie harf iraiq find isis spread good offer resume service isis order find job marieharf',\n",
              " 'usairways hold minute receipt know guy busy think time higher staff',\n",
              " 'united baggage tracking system worthless tell nothing much le plan',\n",
              " 'usairways since flgt cancelled flightled still trying hold min',\n",
              " 'usairways never airway',\n",
              " 'united even mentioning rude customer service business owner mortified employee acted',\n",
              " 'southwestair understand delay stuck plane longer flight unacceptable',\n",
              " 'americanair stuck miami worst customer experience ever sure everyone know time',\n",
              " 'usairways say delivered local number say open asked main cust service hung',\n",
              " 'virginamerica momma make',\n",
              " 'jetblue worst postpone trip accommodate guest like southwestair neveragain',\n",
              " 'americanair horrible went online cancelled flight flight button called wait time min call hungupnohelp',\n",
              " 'usairways thank',\n",
              " 'americanair lie lie lie worst travel experience life clothes vaca lostluggage unprofessional',\n",
              " 'jetblue save expedia lost costumer jetblue makingthingseasy feelbetter',\n",
              " 'jetblue trading customer experience short term previous loyal customer http dfmvmibh',\n",
              " 'united hold flight',\n",
              " 'http robert americanair',\n",
              " 'united booked flight yesterday received email confirmation number today error active flight segment',\n",
              " 'usairways done',\n",
              " 'americanair cancelled flightled flight notify rebook phone agent epic fail',\n",
              " 'americanair sitting plane hour want leave',\n",
              " 'southwestair make greenville tonight forgiven highhopes',\n",
              " 'southwestair anyone answering phone morning iflyswa hold minute counting',\n",
              " 'southwestair prove southwest people even know behind schedule',\n",
              " 'americanair actually online indicates seating available premium cost allow seat selection time purchase',\n",
              " 'virginamerica find sooner midnight monday would great customer service',\n",
              " 'united social listening capabilities awful reply context mentioned stevelord',\n",
              " 'united congratulation united fail gate plane full people waiting weather get worse leave',\n",
              " 'americanair still flight allll boarding waiting cater',\n",
              " 'southwestair delayed chicago offer flight never intend',\n",
              " 'usairways boarded waiting take hopefully',\n",
              " 'americanair nothing issue already resolved',\n",
              " 'southwestair thanks getting paradise safely http kdzqczlpyr',\n",
              " 'americanair thanks',\n",
              " 'jetblue thanks anyways southwestair back awesome rate amazing customer service nomoreaggravation',\n",
              " 'americanair worst airline entire world flew nightmare knew would',\n",
              " 'southwestair iphone adds passbook support airlines travel http ljzdthd',\n",
              " 'americanair take rep different gate rude asked assistance thanks though',\n",
              " 'united cheertymedad days flight transfer flawed security logic flawed customer service',\n",
              " 'united flight currently stuck portland missed ride hour delay getmartyhome',\n",
              " 'southwestair boooo like airline http whagpknnlf',\n",
              " 'usairways thank website crashing',\n",
              " 'united mexico build house suitcase never flight need',\n",
              " 'jetblue baggage lost fort lauderdale bogot today colombian employee treated badly need help please',\n",
              " 'americanair provide alternative flight hour late flightr ruining trip cancelled flightled angry problem ruined',\n",
              " 'usairways never flying guy customer service awful',\n",
              " 'americanair serious delay americanairlines ohio dallas missed connecting flight http dnmsblzumr',\n",
              " 'jetblue thought thing sent',\n",
              " 'southwestair wondering reason customer service busy hold past days many hour answer help',\n",
              " 'southwestair flights leaving today flight cancelled flightled hold hour',\n",
              " 'united lot terrible customer service newark despite raise complaint ignored hence tweet',\n",
              " 'united stunned bag hartford ground crew hour move bag yards',\n",
              " 'usairways worst airline ever travel',\n",
              " 'southwestair pick winner destinationdragons yearslate flightr maybeijustlost whyyounoloveme',\n",
              " 'usairways slogan want arrive time pick',\n",
              " 'southwestair please last ticket best friend destinationdragons http eqqi nfszh',\n",
              " 'usairways corybronze inconvenience people freaking nuts kids strand airport fail',\n",
              " 'southwestair samoore thank kind response acknowledgement apology long southwestrocks',\n",
              " 'americanair schedule keep aaalwayslate flight',\n",
              " 'americanair dmed name',\n",
              " 'united love told would issue refund hurricane denied',\n",
              " 'americanair would even consider continuing point program received perk continued customer service senseless',\n",
              " 'southwestair thru everything good well days voucher go appreciate',\n",
              " 'really jetblue fleet fleek http qwkyxsw',\n",
              " 'southwestair without following',\n",
              " 'jetblue type plane',\n",
              " 'united certainly',\n",
              " 'united also water refused service costumerservice legit',\n",
              " 'usairways february weather happen every winter guy business sense forecast loss',\n",
              " 'southwestair sent thank',\n",
              " 'usairways mobile horrible needs major overhaul',\n",
              " 'southwestair rebook flight board bham',\n",
              " 'usairways flight',\n",
              " 'southwestair thanks great service staff letting change flight time free skies always',\n",
              " 'jetblue better find puerto rico tomorrow morning besides charging three time cash originally paid',\n",
              " 'americanair flight cancelled flightled tonight called left number call back please help',\n",
              " 'americanair pathetic service',\n",
              " 'united late flight tired understandably edgy trying catch flight chipper rude',\n",
              " 'americanair going pathetic online work phone want give seat assignment',\n",
              " 'virginamerica seat even open laptop paid extra seat',\n",
              " 'southwestair entry vegas event imaginedragons perform destinationdragons',\n",
              " 'southwestair thank someone finally answered able change flight cancelled flighted thank response',\n",
              " 'americanair could flight minute funeral start stranded dallas luggage days',\n",
              " 'united',\n",
              " 'virginamerica awaiting return phone call would prefer online self service option',\n",
              " 'united american airline suppose http oklji',\n",
              " 'united follow please airline beautifull',\n",
              " 'southwestair guy must swamped even took corporate travel long time everything worked',\n",
              " 'united addition first flight delayed hour arriving destination late flight',\n",
              " 'united need better airline',\n",
              " 'americanair trying speak agent whole cancelled flightled flight',\n",
              " 'jetblue requested selfie somewhere rocky milehighselfieclub http choxkpjp',\n",
              " 'americanair',\n",
              " 'virginamerica inflight team make experience amazing',\n",
              " 'americanair posted response facebook everyone people appalled lack concern',\n",
              " 'southwestair flights nashville today kidding airline flying frustrated',\n",
              " 'united houston bogota engine problem mechanic trying problem safety first better change plane',\n",
              " 'southwestair lost promise ring give flight infinity silver band ring please help',\n",
              " 'americanair hello question many balloon think take life plane',\n",
              " 'united true gate agent cause helpful thanks making miss connection http xaizw isml',\n",
              " 'jetblue guess wait another hope rate go reasonable fingers crossed cutting close travel date',\n",
              " 'americanair offer automated call back option agent available call hold onholdfordays',\n",
              " 'usairways first class service today flight attendant catch name notch',\n",
              " 'usairways customer service horrible',\n",
              " 'united campilley hahaha american company would great sarcasm',\n",
              " 'americanair please something boarding many delay bus plane tarmac despite empty gate disorganized mess',\n",
              " 'southwestair thanks love',\n",
              " 'usairways make',\n",
              " 'guy going start flying paris virginamerica lizautter welcome',\n",
              " 'fuck united shitty fucking information http scqujbvsta',\n",
              " 'usairways americanair still luggage chkd http mbltalr status awaiting asgmnt driver since yest',\n",
              " 'americanair mattthomasnews american airlines start flying siberia wait',\n",
              " 'southwestair delay flight need florida race daytona',\n",
              " 'united nope case either time',\n",
              " 'jetblue remember date monday night back heartbroken',\n",
              " 'united people status upgd much le cost ahead premier earn confirmed certificate',\n",
              " 'southwestair strives customer centric everything communication advertising customer journey anamarketers',\n",
              " 'jetblue battle appease passengers wall street waterbury republican american http fmipw',\n",
              " 'united awesome thanks reply filling form americanair',\n",
              " 'virginamerica start xweekly flights dallas dallaslovefield austin avgeek',\n",
              " 'jetblue making stay late flightr rebook without making',\n",
              " 'southwestair employee amazing',\n",
              " 'southwestair spare ticket vegas would forever grateful destinationdragons',\n",
              " 'southwestair hour airport move plane another furious',\n",
              " 'southwestair trouble reflight booking problems cancelled flighted flight picking phone site working',\n",
              " 'southwestair make world better place visit elderly relative',\n",
              " 'jetblue worst flying experience ever suffered appreciate money back',\n",
              " 'americanair pick best picture want board airline know',\n",
              " 'usairways know runway issue inbound flight delayed connection left without stuck',\n",
              " 'usairways thanks reply hoping everything cleared charlotte monday',\n",
              " 'jetblue jetblue sofly wish firststari seetonight http pyjaoaynx',\n",
              " 'southwestair wifi plane help broke homegirl',\n",
              " 'americanair point confusion whether make change even though initial flight booking problems airways metal',\n",
              " 'virginamerica elevategold good reason rock',\n",
              " 'americanair hoped contacted responded still issued funds frustrated',\n",
              " 'southwestair arkansas plan sign governor legalizes discrimination lgbt lend voice state boycott',\n",
              " 'united tell purchase website lufthansa flight first',\n",
              " 'usairways customer service finest',\n",
              " 'americanair thank always start vacation http dzkc auzu',\n",
              " 'usairways moving seat bought month happen often',\n",
              " 'united lisa amazing much',\n",
              " 'americanair sense charge service service great losing luggage missing item',\n",
              " 'usairways waive time cancelled flightation waive future date usairways ripoff poorcustomerservice',\n",
              " 'jetblue thinking summer nantucket service media http zofwldqxbe',\n",
              " 'usairways link lead website open cell phone good shocking airline folding',\n",
              " 'usairways extreme inconvenience make check bag overhead space left fault',\n",
              " 'usairways delayed frozentoilet medicalissue mechanicalissue dispatchissue heard letsgo',\n",
              " 'united make feel guilty economy plus extra room',\n",
              " 'united awesome thank much help',\n",
              " 'southwestair great customer service come know expect dropped check help sight',\n",
              " 'usairways bougth caren agency delta airway delta refund money usairways doesnt accept refund',\n",
              " 'southwestair thank confirmation maybe people flight directional dislexia',\n",
              " 'americanair offered perk usairways asked told thenewamerican',\n",
              " 'jetblue could free flight vegas since bday',\n",
              " 'jetblue sent email',\n",
              " 'nope jetblue fleet fleek http shhtvioti',\n",
              " 'americanair contacting refund provide phone number',\n",
              " 'americanair sent cheque today paid bank account annoying',\n",
              " 'southwestair conf fgkxv please also look reimburse count cancelled flight',\n",
              " 'americanair upset select seat tuesday flight online phone terrible customer service please help',\n",
              " 'southwestair refer friend southwest credit card point',\n",
              " 'united late flight crew last nite delayed today miss connection play hotel tonight',\n",
              " 'united come member used mile',\n",
              " 'jetblue flight delayed buffalo direct flight plane gate',\n",
              " 'united flight number denver vegas sunday cancelled flighted',\n",
              " 'southwestair past earn list status thru promo trip month option loyal',\n",
              " 'southwestair thanks agent boarding left wallet inbound found',\n",
              " 'southwestair congratulations',\n",
              " 'virginamerica loyal driving virgin since philly flights',\n",
              " 'southwestair feels flight http kgrf',\n",
              " 'jetblue poorservice poorcommunication waitingsince bag flight jetblue',\n",
              " 'southwestair hold hour type ridiculous need link chart route time',\n",
              " 'southwestair seen message past hour',\n",
              " 'americanair anything',\n",
              " 'jetblue thanks making miss important dinner tonight delay tarmac worst',\n",
              " 'southwestair fact black history month months year honorable economic base corp like future',\n",
              " 'americanair cancelled flighted flight left help find hotel stay slept airport night',\n",
              " 'usairways left personal stuff hour went baggage told plane left call',\n",
              " 'united contact requesting charity donation thankyou',\n",
              " 'southwestair hour plane gate undignified behavior apology enough freedrinkcoupons',\n",
              " 'usairways delayed flight phil look like miss ferry john lodging help housing',\n",
              " 'americanair please call happen understand allrepresentativesbusy nooption',\n",
              " 'americanair good overselling flight delayed minute deplane overflow passengers bag',\n",
              " 'united right lost customer staff take approved carry half empty flight',\n",
              " 'united boarded many time never show pass tarmac multiple time path rail',\n",
              " 'jetblue suck sitting negligence',\n",
              " 'united looking fare returned companion flight understand additional necessary',\n",
              " 'united guy complete',\n",
              " 'southwestair replacing vitaminwater beer bravo cheers leinenkugels dosequis fattire',\n",
              " 'jetblue mark austin great handle issue thanks',\n",
              " 'southwestair booked flight phone never confirmation email would getting',\n",
              " 'americanair worry good',\n",
              " 'southwestair hour delay traffic control love missing entire vacation unhappycustomer mytimeismoney',\n",
              " 'jetblue spoke phone suggested voice concern email site moment',\n",
              " 'united flight omaha chicago route seating partner separate please',\n",
              " 'jetblue enough stop flying jetblue',\n",
              " 'southwestair theellenshow imaginedragons interferes ellen show concert alway treasure liveatfirefly experience',\n",
              " 'americanair flight boston delayed waiting cater boarding flight waiting hour',\n",
              " 'southwestair',\n",
              " 'phone americanair customer service minute issue resoled guy awesome',\n",
              " 'united worker told call talk someone thailand',\n",
              " 'united customer service arrival flight thanks guy really handle storm',\n",
              " 'americanair gabriela miami rude employee working check make experience unpleasant customerexperience',\n",
              " 'americanair nrosenb say change make online',\n",
              " 'americanair using hard earn mile given lousy service faulty seat leg damage customer care',\n",
              " 'united fail uncontrollably today beyond repair beyond livid absolute disregard operations',\n",
              " 'usairways',\n",
              " 'southwestair thanks replying conf love aviation southwest want',\n",
              " 'usairways southern hospitality luggage delivery service awful great delivering empty promise luggage waiting',\n",
              " 'united right safety demonstration corporate funny reserved corny http lwotkiekgu',\n",
              " 'united thru detail flight want recording repeat real person get line',\n",
              " 'southwestair cant state playing hunt destinationdragons ticket left even',\n",
              " 'americanair requiring customer fill contact information time seems designed prevent limit interaction',\n",
              " 'jetblue ready island weekend capture',\n",
              " 'americanair lpalumbo weather',\n",
              " 'usairways total offered full first class airfare told sold seat give seat others crap',\n",
              " 'united favorite travel thank http',\n",
              " 'usairways americanair connect term term layover delay realistic held',\n",
              " 'southwestair finally hung hour able flight needed stuckintampa',\n",
              " 'jetblue bag still free anymore',\n",
              " 'southwestair phishing email claiming southwest forward like investigate',\n",
              " 'usairways speciifc email character limit complaint customer complaint adopting twitter model',\n",
              " 'usairways worst hold time crazy agent horrible accountability usairsucks',\n",
              " 'southwestair understood frustrating early bird check sale feel ripped',\n",
              " 'united hold runner hold save miscnx twitter watch',\n",
              " 'americanair flight cancelled flighted time reach agent reschedule call',\n",
              " 'jetblue super smooth flight landing nicely done',\n",
              " 'usairways incorrect four people last flight night bag horriblecustomerservice',\n",
              " 'americanair kaps international airline experienced record profit last quarter staff call center',\n",
              " 'usairways sorry realize following',\n",
              " 'usairways guy please give update sitting tarmac flight website still say time',\n",
              " 'southwestair black history commercial really sweet well done',\n",
              " 'usairways plans changed call bein able park time planes layover able make connection seriously',\n",
              " 'united stand list poor person aspen asking standby twitter',\n",
              " 'southwestair next flight free cocktail',\n",
              " 'united airport first thing morning',\n",
              " 'usairways might went confirmation please wait form',\n",
              " 'usairways thanks hectic everyone action represent company well',\n",
              " 'united service desk gate helped find flight dest time flight cancelled flightled',\n",
              " 'jetblue closepwcs please tweet jetblue every time',\n",
              " 'southwestair go court gain access delta gate love field http ilqzmmjiyq deltanews',\n",
              " 'americanair look like mistake',\n",
              " 'usairways like call trying since yesterday answering',\n",
              " 'usairways thank glad home lot delay plane flight crew show frustrating',\n",
              " 'jetblue flight long arrived london morning',\n",
              " 'never strip fast stoked special imaginedragons show tonight southwestair http topqmvqnjp',\n",
              " 'usairways month suffering rare form cancer customer service agent compassion disgusted',\n",
              " 'virginamerica flight love field definitely cancelled flightled monday february',\n",
              " 'usairways franchise friend hold hour still counting',\n",
              " 'united sent last week suit regarding error response given please answer tell send suit',\n",
              " 'usairways tweet get response email dmsc usairways',\n",
              " 'united nuts say flight ground still albany plane someone compensating',\n",
              " 'united know week next another coast coast',\n",
              " 'usairways americanair plane left agent door closed early',\n",
              " 'united start daily flights newark frankfurt airport replacing avgeek',\n",
              " 'united currently standby hour ride palm springs long starting snowy philly',\n",
              " 'southwestair know also noticed offer list boarding program popular',\n",
              " 'usairways united say luggage hold almost usairways united hung http octp',\n",
              " 'southwestair lukewyckoff name jane want call',\n",
              " 'americanair booked wrong flight desk wait hour',\n",
              " 'southwestair companion pass',\n",
              " 'usairways submitted customer relation form await response',\n",
              " 'southwestair update minute pilot turned longer freezing enjoying waiting reload bag',\n",
              " 'americanair plane toilet working needed flight leaving dulles going',\n",
              " 'southwestair fantastic best flight service ever',\n",
              " 'southwestair done',\n",
              " 'americanair staff desk queuing',\n",
              " 'united describe feces sprinkled bathroom inconvenience help might find baggage lost return',\n",
              " 'jetblue give chance think fall backtodelta',\n",
              " 'united thnx',\n",
              " 'united inconvenience weather delay pilot deciding waste enough time negligence',\n",
              " 'southwestair left friday',\n",
              " 'jetblue thanks help',\n",
              " 'southwestair happend flight cancelled flighted hold hour help',\n",
              " 'usairways awful customer service',\n",
              " 'jetblue phone agent flights online change ticket even pay frustrating jetblue',\n",
              " 'usairways guy nice give route blue southwest least treat customer properly',\n",
              " 'usairways hotel agent nothing help sent luggage wrong flight',\n",
              " 'southwestair minute phone given another number call still hold http',\n",
              " 'southwestair daily flights washington reagan ftmyers avgeek',\n",
              " 'virginamerica virgin america direct seattle boston',\n",
              " 'virginamerica virginatlantic americanair help ourprincess need help http aztdaer',\n",
              " 'jetblue okay screen laptop large real nice wifi appreciated thanks tiny middle seat',\n",
              " 'americanair stuck plane landing crew unable figure',\n",
              " 'united tried different flight flights advertised bookable partner error',\n",
              " 'southwestair chance cancelled flighting flights nashville',\n",
              " 'southwestair discus possibility vegas arena naming right http smusportmgt sportsbiz',\n",
              " 'americanair spent choppiest feed whiplash ever americanairlinesfail iwantmymoneyback',\n",
              " 'jetblue would vegas gorgeous every year guy vegas gorgeous much',\n",
              " 'americanair hahaha meanwhile russia',\n",
              " 'united think board back plane whatstheholdup chitocle',\n",
              " 'americanair gate attendant awful service ashamed terrible experience start finish',\n",
              " 'americanair good expect phone make change change online',\n",
              " 'united missin point weather lying seats broken claim weather hotel classy',\n",
              " 'southwestair never choose usairways getmeoffthisbird',\n",
              " 'usairways delayed three time finally boarded waiting minute told plan completely powered',\n",
              " 'usairways traveloneworld utterly frustrated hour hold call disconnected need amend flight booking problems help emerald',\n",
              " 'usairways tweet live cust make sure world know care customer health',\n",
              " 'southwestair making dream come true destinationdragons scavenger hunt chance imagine dragons',\n",
              " 'southwestair would want last time screwed early boarding paid',\n",
              " 'southwestair every single flight portcolumbuscmh cancelled flightled airline',\n",
              " 'united plane sound like scratching normal eventually entertainment',\n",
              " 'united hate bumped seat selected empty moved another seat empty nonupgrade',\n",
              " 'usairways able switch flight charge thank',\n",
              " 'americanair least explanation told flight cancelled flightled',\n",
              " 'usairways thanks hope destination',\n",
              " 'usairways rebooked sent wrong gate traveled back correct flight tired frustrated',\n",
              " 'americanair cancelled flightled flight fresno rebooked flight cancelled flightled midnight hotel available',\n",
              " 'southwestair scavenger hunt boston',\n",
              " 'americanair bag morning thanks',\n",
              " 'united lost bag cancelled flightled flights delhi call center poor united staff spread thin stressed name',\n",
              " 'americanair edplotts bother trying anywhere customer service team either take month counting reply',\n",
              " 'jetblue landing usual great flight wiyh great crew hello sunny west palm beach jetbluerocks',\n",
              " 'americanair still hold',\n",
              " 'shit stop jetblue fleet fleek http pqmpp',\n",
              " 'usairways works firefox everything finish purchase button turn gray never submits couple week',\n",
              " 'usairways flight plane mechanical issue wait minute help customer service help management',\n",
              " 'united thanks gate agent extraordinaire seau fong helping booked boise hopefully home sometime tonight',\n",
              " 'virginamerica looking forward first flight today cancelled flightled along subsequent',\n",
              " 'southwestair arrival delayed nearly hour yeah entire airport idea stress le vacation fail',\n",
              " 'southwestair please help really want guessweflyingdelta',\n",
              " 'jetblue employee charles cave gate went beyond help help find glass thought know',\n",
              " 'virginamerica thanks free birthday point right',\n",
              " 'united guy suck delay flights hold connector minute worstairlineever',\n",
              " 'united surprised last year nothing year happen soft landing policy level',\n",
              " 'united time call need skis airport faith united',\n",
              " 'usairways trying change flight airline travel advisory hold min help',\n",
              " 'southwestair wifi angering slowness',\n",
              " 'americanair tell person phone asap',\n",
              " 'united instead bourbon street quiet plane savethediagonals',\n",
              " 'jetblue jetbluebos luggage waiting bag show carousel sign updating',\n",
              " 'usairways accommodation number lisa liza raleigh helpful',\n",
              " 'americanair dumb thing beat around bush flight cancelled flightled prepared compassion',\n",
              " 'jetblue aircanada take fraud seriously',\n",
              " 'americanair itunesmusic mood angry since spagnuolo coached rams',\n",
              " 'united keep getting robotic answer',\n",
              " 'united inbound flight time get closer push back',\n",
              " 'united clue miler response give',\n",
              " 'virginamerica normal receive reply central baggage baggageissues',\n",
              " 'jetblue bag posted board flight carsl switched carsl comedic watch passengers othr',\n",
              " 'united asap mean hour worth delay return terminal count luggage third time gottogetbetter',\n",
              " 'americanair guy killing http ipgeicsm',\n",
              " 'united hoping miss connection looking forward stuck overnight team',\n",
              " 'jetblue mint crew flight mintalicious truebluelove shelleyandmarcrock travel',\n",
              " 'united helped weight issue took voucher hopped delta flight instead winwin',\n",
              " 'southwestair rule',\n",
              " 'united first class wife global services headache neighbors smoking cigarette contact',\n",
              " 'southwestair please please please choose imaginedragons destinationdragons',\n",
              " 'jetblue thank love anxious fly',\n",
              " 'united refund request functionality http imdckodfx broken time error',\n",
              " 'united chicago hometown airline care neighbors savethediagonals flyquiet ordnoise',\n",
              " 'united mechanical issue cause delay connecting plane needed wait refused left early instead',\n",
              " 'southwestair flights limited route',\n",
              " 'united credit last trip never come mail',\n",
              " 'americanair ordered always hour flight delayed hour worse ever forgot meal',\n",
              " 'americanair long mait repair wait gate capt said paperwork formality forced check rudely returning reader work',\n",
              " 'united hotel room cleveland last minute cancelled flightled connecting flight booked united unimpressed',\n",
              " 'jetblue walked hall carousel found bag sitting still word crew signage still updated',\n",
              " 'united hours phone hung want different flight open seat greatservice',\n",
              " 'usairways americanair chairman class flights today system cancelled flightled ticket kicked',\n",
              " 'united wonderful claim people finally catch earlier flight original flight landed wastedtime',\n",
              " 'southwestair took age snapchat story load demolish',\n",
              " 'usairways msscottwg unusual mean screwed never admit goingforgreatnessfail',\n",
              " 'americanair thank responding quickly tweet appreciate',\n",
              " 'americanair record number bpdfpp',\n",
              " 'usairways nothing usair point email stated would charged thanks reply',\n",
              " 'united time le important strandusindenver hourandtenminutedelay flightfail',\n",
              " 'southwestair answered right away rebook people supposed leave today worst customer service',\n",
              " 'americanair lack communication competition american chance',\n",
              " 'usairways contact people still answer keep sending expedia keep sending',\n",
              " 'southwestair thanks adding straight flights columbus oakland',\n",
              " 'virginamerica access website safari iphone seems work ipad need iphone passbook',\n",
              " 'usairways something wrong phone system call someone play recorded flight notification late flight',\n",
              " 'united many time change going tonight',\n",
              " 'united think guy half full flight held overbooked flight fill cancelled flightled mine',\n",
              " 'americanair name email aadvantage website reset password troubleshoot together thanks',\n",
              " 'united person portland airport flying perth done',\n",
              " 'southwestair want money paid early bird refunded noone seemed able three different worked',\n",
              " 'usairways even single unreasonable human planet earth excuse treatment',\n",
              " 'jetblue come',\n",
              " 'virginamerica change main cabin main cabin select flight without pay change penalty',\n",
              " 'usairways plane wait hour half speak someone reflight booking problems',\n",
              " 'americanair great great service weekend winter storm',\n",
              " 'southwestair give clever advertising bagsflyfree badpolicy allows cheatcustomers',\n",
              " 'united cancelled flightled hour take',\n",
              " 'united hour sitting plane left gate hour actual flying left',\n",
              " 'usairways americanair pissing thousand east coast customer delay longer flight fail',\n",
              " 'united bish',\n",
              " 'jetblue fleet fleek http lsybglf keep professional',\n",
              " 'united start xweekly flights neworleans cancun avgeek',\n",
              " 'americanair flts cancelled flightled agent rebooked name awesome twitterhug shesaidrun',\n",
              " 'usairways jetway felt disrespectful never treated particularly trying good',\n",
              " 'virginamerica hour operation club posted online current',\n",
              " 'jetblue pulling gate sunrise bostonlogan morning jetbluesofly jetblue airbus http jgdu',\n",
              " 'americanair brewcrewfan real life like real life emailing call dming people inconvenienced',\n",
              " 'americanair tried headed funeral cincinnati people even tell could standby',\n",
              " 'southwestair please nothing overhead bin exit first bring purse tired running connection',\n",
              " 'jetblue cool gate turn flight delayed say time good start',\n",
              " 'united gist flight attendant told',\n",
              " 'americanair united equally terrible going fight complete satisfaction mistreated',\n",
              " 'united never terrible service ruined entire vacation lostsuitcase noreimbursement',\n",
              " 'united lot report system failures delaying flights last week currently sitting tarmac hour',\n",
              " 'usairways today usair cancelled flightled rescheduled flight notify except possibly home phone helpful since',\n",
              " 'usairways also told comp upgrades reflight booking problems good enough usairwaysfail',\n",
              " 'usairways sitting runway last correct weight flight system jobfail',\n",
              " 'americanair days trying reach americanairlines customer service change flight',\n",
              " 'united private would cool work',\n",
              " 'virginamerica add austin dallas love field route http xwjol http aormfkac',\n",
              " 'usairways call left turn united answered phone instead rebooked usair flight',\n",
              " 'southwestair flying tomorrow change flight travel advisory',\n",
              " 'united cause riot airplane never seen anything like',\n",
              " 'united thanks reply better seat next munich would nice',\n",
              " 'united update flight would great',\n",
              " 'americanair sorry enough compensate either extended time cost difference alternate direct flight right',\n",
              " 'southwestair check grader school science fair project love flying southwest airlines http bayepzkmiz',\n",
              " 'usairways patience connecting flight need guy every time travel every single time',\n",
              " 'jetblue change flight already printed boarding pass',\n",
              " 'united also forgot probably going jersey missed connection',\n",
              " 'united nothing like supporting mechanic maintenance worker instead united put video timco wifi',\n",
              " 'southwestair flight oakland asked take even empty sests answer',\n",
              " 'southwestair find cheap flight louis price went like crazy april weekend',\n",
              " 'united told united carry carry back refund',\n",
              " 'jetblue rather trying resolve customer issue options offered pay cash airport write letter justifythissupport',\n",
              " 'jetblue trying make look website say weather charleston actually',\n",
              " 'americanair thank',\n",
              " 'americanair hour phone yesterday really still pick status flight',\n",
              " 'southwestair baggage tracking system',\n",
              " 'united usually issue express positive note mainline enjoyable',\n",
              " 'southwestair costumer service representative lied ensured plane would leaving scheduled',\n",
              " 'usairways thanks betty working gate lovely gate agent helping home tonight instead tomorrow',\n",
              " 'usairways please hold first plane quick enough',\n",
              " 'americanair worst airline cancelled flight flight even know even though traveling children',\n",
              " 'usairways want plane hour half longer flight',\n",
              " 'americanair mail adress send doug parker letter hopefully read',\n",
              " 'jetblue internal bleed foot flying next tuesday leeds come randomly',\n",
              " 'united whats newark',\n",
              " 'southwestair email address send thought experience really good feedback',\n",
              " 'jetblue hell waiting hung speaking rudeservice people',\n",
              " 'usairways happy start trip cancelled flightled flight poor customerservice',\n",
              " 'united please send link email formally compliment irene best customer service ever paxex',\n",
              " 'usairways think staying airline rescheduling flight absorb cost flight',\n",
              " 'americanair delta virginatlantic need vacation http ktssk',\n",
              " 'united unitedairlines even take walk without missing change',\n",
              " 'americanair thanks',\n",
              " 'americanair thanks always airline choice possible',\n",
              " 'united since cancelled flightled flight twice',\n",
              " 'usairways waste another hour life hold insanity another voucher payment online',\n",
              " 'united know flight detail need explore options unable site seems ongoing',\n",
              " 'united counter agent deserve medal thankyou',\n",
              " 'southwestair route flight mexico city chicago midway using service',\n",
              " 'southwestair hang understand thing crazy sometimes hour long enough',\n",
              " 'happy hopefully soon jetblue added destination vegas last year',\n",
              " 'jetblue love guy know paid prem wifi toplay vainglorygame ping terrible http cmjriwop',\n",
              " 'americanair flight',\n",
              " 'usairways thank refunding baggage really appreciate',\n",
              " 'usairways never life dealt poor customer service irresponsible staff lack care baggage',\n",
              " 'great answer americanair jayfranceschi agent checking passengers quickly possible appreciate patience',\n",
              " 'usairways never worse experience life http ddqq gqni',\n",
              " 'usairways waiting luggage wannagohome',\n",
              " 'usairways thanks idea resolved like purchase ticket',\n",
              " 'usairways flight cancelled flightled reach anyone phone ticketing agent safe assume rebooked',\n",
              " 'sarahpompei bother waste time usairways send form letter choose gift certificate worstcustomerservice',\n",
              " 'southwestair many ticket left',\n",
              " 'southwestair seriously reason cancelled flightled flights long phone wait time guy tremendously understaffed',\n",
              " 'southwestair stuck heat blasting thaw water line kinda disappointed first flight member',\n",
              " 'united could access seat say would note upgrade itinerary call back late flightr',\n",
              " 'united flight almost half hour tarmac waiting paper miss connection',\n",
              " 'usairways return skip flgjt back tonight pick told',\n",
              " 'southwestair winning ticket still',\n",
              " 'americanair thanks',\n",
              " 'americanair still talk anyone guy prepared situation good service',\n",
              " 'jetblue case making jackass allowed favor right care le vacation true peter scott',\n",
              " 'jetblue want jetblue want jetblue wifi',\n",
              " 'virginamerica passbook still love though email future',\n",
              " 'southwestair sitting baltimore finish taxi approved takeoff oops enough fuel fail minflight hour',\n",
              " 'united sato rebooked upset travel office',\n",
              " 'usairways last time airline promise',\n",
              " 'americanair justynmoro totally agree automatic phone attendent go hang lousy service',\n",
              " 'united sending email customer service today',\n",
              " 'americanair hold customer service line minute phone agent call droped',\n",
              " 'usairways bought ticket month seat together changed flight kid seat scattered plane',\n",
              " 'virginamerica trying book ticket face super broken styling worry keep trying',\n",
              " 'americanair back eventually rollercoaster airport speak someone thing fixed quick',\n",
              " 'americanair think though literally identical itinerary sample itineraries would work maybe need update',\n",
              " 'southwestair traveling year thursday need correct',\n",
              " 'americanair rude hiring requirement west airport shaking head',\n",
              " 'united funny flights yesterday delayed mechanical issue rotten luck plane issue',\n",
              " 'jetblue find flight scheduled leave delayed checking huge fail',\n",
              " 'usairways unbelievable treat customer puerto rico airport',\n",
              " 'jetblue happen mother onboard crew evasive return first time',\n",
              " 'usairways rebooked cancelled flighting flight crew expired boarding unacceptable started delaying',\n",
              " 'united cost change city origin flight http fmzzoltv cost customerservicefail',\n",
              " 'jetblue flight already delayed idea might change weather forecast',\n",
              " 'united flight nightmare poor customer service confirmed seat given away issue',\n",
              " 'usairways spoke rep poor communication bags still sitting philly train staff',\n",
              " 'usairways twitter reservation connected people want reservations',\n",
              " 'jetblue reminded flying week chillycvz thankgoodness mypompanobeach family friends sunshine',\n",
              " 'lololololol jetblue fleet fleek http yxswfq',\n",
              " 'americanair bos',\n",
              " 'jetblue blue back',\n",
              " 'southwestair certain flight',\n",
              " 'usairways need work online checkout system bank transaction ticket bush league yell devs',\n",
              " 'southwestair flight cancelled flightled monday looking cancelled flight credit card',\n",
              " 'virginamerica ring wait minute book ticket vendor site',\n",
              " 'united flight cancelled flightled mechanical rental origin',\n",
              " 'usairways thanks ruiningmy vacation best could done without',\n",
              " 'americanair sure bird warmer weather soon',\n",
              " 'jetblue great experience flight seat service food everything quality back soon',\n",
              " 'united tried available bogota everyone rude houston stuck hour guy',\n",
              " 'usairways credit card statement received anything look',\n",
              " 'united gate time given seat closed flight know people arriving wait',\n",
              " 'southwestair sure hope able memphis tomorrow would nice clean clothes work',\n",
              " 'usairways understood airway getting problem',\n",
              " 'united trying strand houston tomorrow morning pretty sure overflight booking problems maintenance fault',\n",
              " 'americanair derekc hello forgotten need luggage dropping ball',\n",
              " 'usairways americanair destroying life eastern gastoncounty lively little event profit',\n",
              " 'jetblue customer service agent jorge orlando international rude disrespectful never want deal bullshit ever',\n",
              " 'united take week cust care respond case requesting refund working update',\n",
              " 'southwestair snow forecasted raleigh evening',\n",
              " 'united thank excited working guy',\n",
              " 'jetblue need please',\n",
              " 'jetblue exactly leave note',\n",
              " 'jetblue issue online check colleague getting webpage available submitting online form',\n",
              " 'southwestair everything worked great',\n",
              " 'jetblue thought waiver change fees travel boston weekend',\n",
              " 'jetblue told however would work going overseas bottom line passengers feel',\n",
              " 'united plane waiting gate hour passengers onboard cramped seat yuck',\n",
              " 'united real dedication concern apology issue miserable issue past',\n",
              " 'usairways call desk information exists system make easy customer access',\n",
              " 'americanair landed crew gracious accommodating although long delay appreciate prompt response',\n",
              " 'united talk standby tomorrow look good stay till friday guaranteed',\n",
              " 'united load balance system apparently systemwide major impact united airline flights cyberattack',\n",
              " 'usairways cancelled flighted rescheduled flight still getting updates find current flight account http',\n",
              " 'jetblue well last update right direction least keep finger crossed',\n",
              " 'southwestair carriers flying past cancelled flightlation alaskaair jetblue passengers much late flightr',\n",
              " 'southwestair discount three delay',\n",
              " 'kudos well deserved wish rest jetblue experience today measured example',\n",
              " 'united enjoyed heathrow lounge much almost missed airnzusa flight',\n",
              " 'virginamerica carriers le half price round trip fare stunned http ukdjjijrow',\n",
              " 'americanair upgraded next flight',\n",
              " 'usairways reaching hardworking trying best',\n",
              " 'americanair issue base weather thing control issue base negligence',\n",
              " 'virginamerica happen late flight march',\n",
              " 'americanair insult injury pick real class stick delta',\n",
              " 'americanair understand feeling cranky call tracker number heard located',\n",
              " 'usairways needed destination lunchtime today could flight since learned delta',\n",
              " 'united glad took care rescheduling cancelled flightled http owohd',\n",
              " 'americanair getting maybe come today know website say status unknown help',\n",
              " 'united landed might want check flight plane houston sound takeoff landing http qkquraggoo',\n",
              " 'southwestair really getting worse go late flight leaving diverted sitting tarmac',\n",
              " 'united flight going tarmac forever',\n",
              " 'usairways found security code working tried dozen time',\n",
              " 'southwestair great looking forward next trip able feature',\n",
              " 'usairways pleading service stay past pick left family water cracker',\n",
              " 'southwestair live atlanta cant enroll atlanta companion promotion error every time help also sent email thanks',\n",
              " 'united send jeff smisek trip jetblue make sure take notes would never choose united',\n",
              " 'united changing stop late flight morning early afternoon',\n",
              " 'usairways someone please answer call waaaaaaiting',\n",
              " 'united maybe find different gate',\n",
              " 'southwestair please hate different airline',\n",
              " 'virginamerica applied week heard back flying week disappointed',\n",
              " 'usairways possible call back service automated message telling call back late flightr unhelpful',\n",
              " 'americanair reconsider usairways acquisition flight gold flyers insulted attendant hang jacket',\n",
              " 'united airline agents arguing check announcement looked room seat give walk back seat unnecessary',\n",
              " 'jetblue appreciate head flight delayed crew stuck boston communicationfail dobetterjetblue',\n",
              " 'jetblue better better passengers flight',\n",
              " 'usairways well depending policy make determination airline selected travel',\n",
              " 'usairways chance travel advisory weekend',\n",
              " 'united tried change flight three time phone disconnected time',\n",
              " 'united sure offer nothing inconvenience twice month tweets',\n",
              " 'southwestair checked miss flight spend baggage epitimeoffail',\n",
              " 'americanair call stilling getting dropped hour continuous dialing attempted cancelled flight online able help',\n",
              " 'jetblue fleet fleek http hoaewhws',\n",
              " 'jetblue worst view athlete watch team front seat chase nogearnotraining',\n",
              " 'jetblue fleet fleek http kvkd yrxa',\n",
              " 'united received appreciate take care matter following',\n",
              " 'united right guy charging breathe next',\n",
              " 'united travel swag ijustwanttosleep',\n",
              " 'americanair also problem call airline send automatic call email rebook courtesy',\n",
              " 'jetblue also party sister three separate reservation let together alone',\n",
              " 'americanair glad headed home',\n",
              " 'united direct number call request refund telling valid changed ticket number site',\n",
              " 'united overall experience flying friendly',\n",
              " 'better holdon everythingsgonnabealright jetblue brandloveaffair http geep truebluelove travel business',\n",
              " 'virginamerica flying hawaii',\n",
              " 'usairways thank correctly interpreting last tweet sarcastic delaying flight terminal dance party',\n",
              " 'usairways route diverting phone service suck website conflicting',\n",
              " 'americanair patient delayed bag week told could take another week unacceptable',\n",
              " 'thank united united roam beautiful place stay longer booked know',\n",
              " 'americanair airplane sitting mechanical problem desk unorganized',\n",
              " 'jetblue dealing cancelled flightled flight since last night booked flight wouldve least liked ella perform',\n",
              " 'usairways flight rebooked want change seat upgrade class help phones',\n",
              " 'usairways could hold flight husband stuck security check line flight scheduled',\n",
              " 'southwestair southwestverity needed',\n",
              " 'americanair waiting airport since wait tomorrow sort help',\n",
              " 'jetblue flights charleston tomorrow time possibility delay cancelled flightlations',\n",
              " 'usairways letting know worst fucking service ever used thanks nothing',\n",
              " 'united help baby hannah life save surgery requires needs help donate http kqnrrp',\n",
              " 'americanair thank',\n",
              " 'usairways three week since specifically told would call back folks keep patient',\n",
              " 'americanair ahhhh silence golden top anyone fired',\n",
              " 'yessir americanair yourlocalnyer good morning showing flight sunny mexico pushed gate',\n",
              " 'southwestair waiting half hour checked baggage delivered updates ground crew',\n",
              " 'southwestair plan implement call back system reflight booking problems line hold hour',\n",
              " 'virginamerica done thank quick response apparently faster sitting hold',\n",
              " 'jetblue much delay fact flight still coming time give honest estimate',\n",
              " 'united thanks sick company lousy excuse customer service never flying united',\n",
              " 'jetblue cool need listen snoop route would shame',\n",
              " 'southwestair say yall sold coworkers would need first available',\n",
              " 'americanair least automated message give info merger usairways another airline know avoid',\n",
              " 'jetblue card company explained issue phone mexico purchased ticket phone',\n",
              " 'united three people awesome working long hour easy sorry twitter help',\n",
              " 'united actually flight cancelled flightled http hqez',\n",
              " 'jetblue flite',\n",
              " 'southwestair yall corporate number yall trying accommodate',\n",
              " 'americanair',\n",
              " 'united long character',\n",
              " 'united view reservation view specific reservation take back login page',\n",
              " 'united flight let look like clown giving class',\n",
              " 'americanair time pass call back ticket fault extra',\n",
              " 'southwestair good know three set traveler min standing waiting min pass',\n",
              " 'usairways part tried call cust serv system hung twice system issue please advise',\n",
              " 'southwestair sent email customer relation call tomorrow',\n",
              " 'jetblue woulda nice know post board still show flight time',\n",
              " 'virginamerica book town fare restr http xrdtov http byackc jenniferdawnpro',\n",
              " 'usairways tight connection charlotte frankfurt',\n",
              " 'jetblue fleet fleek http hcqzt',\n",
              " 'virginamerica morning question regarding elevate point flights',\n",
              " 'united united flight ever time americanisbetter',\n",
              " 'americanair bird wish flown south winter http',\n",
              " 'usairways usairways lost passenger today upholding promise excellent customer service',\n",
              " 'americanair message delayed responded',\n",
              " 'united rebooked take portland maine boston told united cover charge',\n",
              " 'usairways seriously spent days multiple hour hold hang hour',\n",
              " 'southwestair',\n",
              " 'usairways email address page http yfoow',\n",
              " 'americanair pretty lame response page single spaced letter http acebo elpa',\n",
              " 'virginamerica jezziegoldz would rough trip luckily virginamerica flight weather',\n",
              " 'united already rebook miss first appointment london tomorrow morning thanks ruining trip',\n",
              " 'southwestair contest destination dragons want everything',\n",
              " 'united overflight booking problems plane departing delayed returning quick fix breaking attitudy customer service worstairline',\n",
              " 'americanair cancelled flight flight say cause weather condition flight cancelled flight',\n",
              " 'usairways comedy error continues gate broken truck fail',\n",
              " 'southwestair anything vegas show please',\n",
              " 'virginamerica trying book flight site',\n",
              " 'americanair wish could remember names',\n",
              " 'jetblue rqstd upgrade mint told used point turn used point trueblue',\n",
              " 'usairways tried reaching guy running time patience want flight honor want confirmation',\n",
              " 'united airline joke person working special service line deep grow',\n",
              " 'united pilot ground personnel great weather blame talk',\n",
              " 'virginamerica great well deserved',\n",
              " 'americanair worst airline ever stranded hour hour delay flight last night',\n",
              " 'united paid class wife stuck coach',\n",
              " 'usairways suck ruined vacation even june',\n",
              " 'united sitting plane pilot thanks waitingonapilot denver siouxfalls whyairtravelsucks',\n",
              " 'united course morning stop available yesterday unitedhatesusall',\n",
              " 'southwestair contact requesting charity donation thankyou',\n",
              " 'southwestair love always best deal',\n",
              " 'usairways pilot tell americanair airways flights across country stopped computer system failure',\n",
              " 'southwestair delay nashville vegas crew gate desk awesome patience luvswa',\n",
              " 'please explain jetblue fleet fleek http vosizh',\n",
              " 'jetblue wmcactionnews airline expected make http eqsepqh',\n",
              " 'united survey long segment fill every trip take minute',\n",
              " 'jetblue celebrates year anniversary livery cnnmoney http skxzve',\n",
              " 'jetblue call back five time someone phone knew time getaway went',\n",
              " 'southwestair site gmail facebook',\n",
              " 'southwestair extremely disappointed poor customer service provided cancelled flighting flight today unprofessional',\n",
              " 'jetblue view seat selection change seat flight tomorrow look',\n",
              " 'usairways time take amtrak home call partial refund',\n",
              " 'americanair need work tomorrow therefore help direct message faster call number backwards',\n",
              " 'united left asus tablet flight heathrow newark wondered long take someone check found',\n",
              " 'usairways nanceebing hour hold time moment counting disgrace',\n",
              " 'southwestair looking forward beat music available flight today pretty cool',\n",
              " 'americanair still waiting going long someone speak',\n",
              " 'americanair delayed flight hour missed international connection extra night hotel still surfboardbag',\n",
              " 'southwestair charging station',\n",
              " 'usairways thanks help left message lost found fingers crossed find',\n",
              " 'jetblue book book thank',\n",
              " 'southwestair point book rental',\n",
              " 'usairways helpful never airline neveragain spreadtheword',\n",
              " 'united plan reduce delay',\n",
              " 'usairways power outlets seat keep siting forever',\n",
              " 'united luck finalizing reservation information please know else need want confirm asap',\n",
              " 'americanair bag arent even loaded plane flight',\n",
              " 'usairways agree richard literally ripped tixs face make rude inappropriate comment family awful',\n",
              " 'united update suitcase today please',\n",
              " 'southwestair hello remaining credit account refunded back credit card choose lower price flight',\n",
              " 'united plan ipad iphone great ipad flip ipad beta',\n",
              " 'usairways phlairport reason avoid phlairport usairways like plague glad merger working well dumb',\n",
              " 'united hire extra customer service rep minute wait time question would rather another airline thanks',\n",
              " 'jetblue whole plane hoping better luck return flight sunday',\n",
              " 'usairways beamske maybe hold minute would amazing',\n",
              " 'virginamerica ladygaga carrieunderwood last night tribute soundofmusic oscars ladygaga think carrieunderwood agree',\n",
              " 'usairways time tweet tell horrible attendant flight feel jail',\n",
              " 'jetblue philly lost read program customer great crewmembers notch info books http ragncw',\n",
              " 'usairways check online flight tomorrow',\n",
              " 'jetblue excuse time delay know plane',\n",
              " 'virginamerica thank absolutely',\n",
              " 'united exchange rate want money back please refund without penalty',\n",
              " 'jetblue jetblue stranded entire plane supposed getting restless need better communication',\n",
              " 'usairways half assed plane fall apart tell family love dobetter http doua',\n",
              " 'usairways aforementioned pilot americanair sure want merge patron hitting hoodlum http cefa',\n",
              " 'americanair give record locator told receiving email itinerary confirmation',\n",
              " 'southwestair fare giving clue route',\n",
              " 'united year flying tokyo vacation knee happen http rmpkogwu cbcallinaday cbcnews',\n",
              " 'southwestair wish allowed http pdntgbxc access site award tracking',\n",
              " 'virginamerica great deal already thinking trip australia even gone trip',\n",
              " 'virginamerica flying life happen trying change trip jperhi help home page',\n",
              " 'united ethiopia adopting child need flight home late flight early need change existing reservation',\n",
              " 'united know sure hear time like seat small feel plane tight',\n",
              " 'southwestair sent',\n",
              " 'southwestair supposed book booo',\n",
              " 'virginamerica happy spend together',\n",
              " 'jetblue fight',\n",
              " 'little late flight suck usairways mitchsunderland mitchell agent happy offer available options',\n",
              " 'southwestair start already waste phone wait time already',\n",
              " 'usairways lost plane trouble finding contact lost found cleveland hopkins airport please help',\n",
              " 'usairways wasnt flying airline tonight however friend present help flying united could learn',\n",
              " 'southwestair constantly providing wonderful view service southwestluv http unxqotzik',\n",
              " 'united give thing consistent unfortunately consistent well alwaysdelayedonunited',\n",
              " 'jetblue okay thanks hope flying guy soon',\n",
              " 'usairways yeah know money back everytime something happen',\n",
              " 'americanair true say collect money passengers door closing want seat',\n",
              " 'united flying domestic first lounge international thanks',\n",
              " 'jetblue thanks response hopeful',\n",
              " 'usairways despite tailwind still late flight',\n",
              " 'americanair kaha would nice could actually talk reserv team hang since last night',\n",
              " 'usairways medical issue late flight yesterday need change flight today hold hour still',\n",
              " 'jetblue really',\n",
              " 'americanair cancelled flightled flights last name right thing reinstate ticket',\n",
              " 'virginamerica another delayed flight likingyoulessandless',\n",
              " 'united need albuquerque cebu philippines providing educational help kid help',\n",
              " 'united sonyasloanmd happy board please share detail http trgemtebz done',\n",
              " 'southwestair lucky people like annamarie norris hope recognized excellent cust service',\n",
              " 'jetblue allowed flight change area airport tonight everyone say travel treacherous',\n",
              " 'usairways late flight baggage delivered suitcase inside nothappy',\n",
              " 'jetblue good hear responsive',\n",
              " 'united done experience family terrible experience kind like robbed explain',\n",
              " 'united days since applied compensation correspondence',\n",
              " 'americanair hint stay connected rearrange weather relate flightd cancelled flights hours nothing',\n",
              " 'southwestair plane toilet done even work go family vacay playa carmen mexico neveragain',\n",
              " 'jetblue thanks',\n",
              " 'southwestair airline people screwed boarding pass back puerto vallarta horrible',\n",
              " 'jetblue love jetblue truebluemember life',\n",
              " 'americanair care keeping customer safe least care sister',\n",
              " 'southwestair eventually arrived seemed really slow',\n",
              " 'united coach interior looked like salvage tiny unusable video power lifevests floor',\n",
              " 'southwestair flight cancelled flightled takeoff customer service hold minute',\n",
              " 'americanair placed itin hold expire logged acct gone seat released help',\n",
              " 'americanair worst experience life avoid cost lose belonging humanity even offer compensation',\n",
              " 'jetblue people working contact project work',\n",
              " 'united mean',\n",
              " 'americanair would seen sound asleep',\n",
              " 'jetblue ferrissalameh love jetblue speedy twitter customer service',\n",
              " 'united return business ticket domestic checked need claim',\n",
              " 'united clear luggage comment referencing photo attached flight http pnbajfkmhg',\n",
              " 'united flight scheduled moved never flight everyone moved without sense',\n",
              " 'southwestair please explain every flight dallas going today except',\n",
              " 'jetblue late flight lost almost hour area weekend mention hour unnecessary vacation time work',\n",
              " 'united board flight cancelled flight pilot miss meeting atlanta someone slept',\n",
              " 'united really glad waited phone hour sent voicemail customer service suck nothing',\n",
              " 'united even apology',\n",
              " 'united never given',\n",
              " 'usairways americanair best could might refund within billing cycle months guy asking another chance done',\n",
              " 'southwestair love bridesmaid dance wait puerto vallarta kick united',\n",
              " 'usairways need rebook need know policy',\n",
              " 'americanair take care cowboycerrone flight screw',\n",
              " 'americanair plan could slow right front would great',\n",
              " 'southwestair always save direct orlando',\n",
              " 'united tried charge flight tried make change phone including change',\n",
              " 'united step cancelled flight flight step notify customer step charge food survive wait brilliant',\n",
              " 'southwestair want change anytime flight leaving phone hold min phone answer say sorry dice',\n",
              " 'usairways meantime sleeping park bench dadeland thanks guy',\n",
              " 'united stuck trying denver engine shut twice terminal available flights',\n",
              " 'americanair tomorrow flight cancelled flighted understand three hour wait call back minute hold cool',\n",
              " 'virginamerica good home texas moodlighting http bvzty',\n",
              " 'americanair extremely upset baggage handlers decide luggage take belonging',\n",
              " 'southwestair example hotel food transport alternate city flying give clear record flight',\n",
              " 'usairways awesome flight philly tuesday party interested',\n",
              " 'jetblue full leave flight wait whole flight kid miss school',\n",
              " 'jetblue flight need late flightr need change flight guy changed time',\n",
              " 'jetblue says lufthansa incentive offer impact share count nasdaq http xswjkiy',\n",
              " 'jetblue looking every watch deal specific date fare finder help',\n",
              " 'usairways guy losing luggage suppose flight highly disappointed med clothes',\n",
              " 'united contact others flight website work none info valid http zpjr kwbk',\n",
              " 'jetblue fleet fleek http uwcpxtxj',\n",
              " 'united unitedflyerhd united airline dreamliner leaf london heathrow fan http yzwt',\n",
              " 'americanair asking exception staffer moving last minute nonprofit losing want change ticket',\n",
              " 'southwestair loving plane lighting wish window larger http',\n",
              " 'jetblue bring compact folding chair like checked http nivw ftzw',\n",
              " 'united thank help appreciated',\n",
              " 'americanair flight delayed hour meal despite early request attendant seat fell badservice',\n",
              " 'usairways please flight delayed going force miss connection',\n",
              " 'americanair filled whole form receiving poor poor response direct email address reply',\n",
              " 'americanair could wrong http nxzhbbmt',\n",
              " 'usairways check wait come baggage claim thanks waste time',\n",
              " 'usairways sincerely regret dividend mile good thing coming',\n",
              " 'united airline claim fare guarantee honor lower fare found',\n",
              " 'usairways transf held agent answered helped time person fare seen gone supv',\n",
              " 'united solution',\n",
              " 'southwestair official airline divadapouch thepoopqueen http imnp',\n",
              " 'usairways could usexpress worth damn stuck horrible',\n",
              " 'united terrific many thanks looking forward back tomorrow great flight vancouver',\n",
              " 'virginamerica reason someone different contact contact definitive answer',\n",
              " 'united impressed worth damn updates flight',\n",
              " 'usairways damn delay',\n",
              " 'southwestair people boarded needed wheel chair plane case boarding',\n",
              " 'united guy flight wait delayed flight diego pretty please',\n",
              " 'americanair cancelled flighted flight tomorrow morning number nothing please want home',\n",
              " 'usairways gotten different answer',\n",
              " 'southwestair weather time cancelled flighted meeting today',\n",
              " 'united considering stuck newark virtually sleep hour doubt hope rental available',\n",
              " 'united really screwed dealing mechanical failure maui francisco poor communication help getting connection',\n",
              " 'usairways waiting luggage flight delay',\n",
              " 'jetblue stop trying make fleek happen pointsme',\n",
              " 'united hour late flightr transit total twelve hour please change plane flight ridiculous',\n",
              " 'virginamerica flight redirected',\n",
              " 'united regard flight couple week frustrated policy expressing',\n",
              " 'americanair disrupted cancelled flightled airport agent horrendous sharon saviour',\n",
              " 'usairways happy note crew wonderful enough great thing pilot',\n",
              " 'united taxi official departing newark liberty airport http ialiceh',\n",
              " 'americanair louprice aacustomerservice apology good enough plane mechanical hour delayed unacceptable',\n",
              " 'southwestair thanks reply something phone becuz dropped call hour hold ring',\n",
              " 'southwestair disappointed service received checked online checked flight status online checked airport',\n",
              " 'united long take customer feedback respond complaint',\n",
              " 'americanair tried talk someone almost cancelled flightled flight pick phone pathetic',\n",
              " 'united please good weekend',\n",
              " 'united thanks asking',\n",
              " 'usairways thank ticketing agent dulles washington outstanding guest service rebooked',\n",
              " 'united already missed connection',\n",
              " 'americanair praywinn understaffing look like labor slowdown weather incompetence disregard customer',\n",
              " 'americanair stranded hour patrick casimir staff apologize great inconvenience unreal',\n",
              " 'jetblue going flight many free trip epic inconvenience anku http peuc bmij',\n",
              " 'americanair cancelled flightled flight weather others flying fine compensation resolution incompetent',\n",
              " 'southwestair trying change reservation hold minute online directed call help',\n",
              " 'jetblue tell sitting next gate',\n",
              " 'united fact international sense going maintenance',\n",
              " 'americanair anything particular want document mileage plus status',\n",
              " 'united course start trip gone downhill return',\n",
              " 'usairways platinum fly bought also account linked check flight tomorrow',\n",
              " 'americanair week reply customer relation running time please help request thanks',\n",
              " 'united traveling megzezzo injured gate agent chicago awesome helping roadwarrior',\n",
              " 'united disappointed purchased ticket online voucher charge full amnt would hold price refund unacceptable',\n",
              " 'usairways seriously attendant awol min flight delayed lite match either http splm',\n",
              " 'jetblue middle seat keep getting credit would much rather working',\n",
              " 'united truly drunk uncle boarding believe gate agent overhead full reserve aisle http cdzhtyd',\n",
              " 'southwestair whats flight myers milwaukee',\n",
              " 'americanair tried book rwrd told couldnt bought usair choice bother aadv',\n",
              " 'usairways yeah either refunding money free round trip compensate trouble',\n",
              " 'united thank much help pick bag aspen airport coming today flight',\n",
              " 'usairways nervous flight tomrw west friendly customer service',\n",
              " 'southwestair cxld flight get stuck back site phone agent took rebook',\n",
              " 'usairways flight please flight plan already issue century',\n",
              " 'americanair answer plenty inflight stealing going right uncomfortable convo pass',\n",
              " 'virginamerica thanks making flight nightmare forcing check carry gate',\n",
              " 'united follow christmas',\n",
              " 'southwestair hold estimated answer time help',\n",
              " 'united awesome flight crew plane jurassic period call want dinosaur plane back',\n",
              " 'jetblue seek right balance please passengers wall weyburn review http rtqyjcvtq',\n",
              " 'jetblue please come indianapolis',\n",
              " 'united thanks helping miss buddy bday guy really trashy company shouldhaveflowndelta unitedsucks',\n",
              " 'jetblue left laguardia sunshine little hour',\n",
              " 'usairways trying establish policy thanks',\n",
              " 'united work',\n",
              " 'southwestair strategy average like rest whathappend points devalued http mdbdyomrs',\n",
              " 'jetblue appreciate response worst part losing refundable hotel orlando crew blamed wind hoping delay',\n",
              " 'jetblue cancelled flight flight last minute',\n",
              " 'americanair help needed complaint ticketed passenger available seat scheduled leave late flightr today',\n",
              " 'southwestair thanks insight happen tomorrow',\n",
              " 'southwestair trip cancelled flightled hold lose speak someone first flight leaf',\n",
              " 'usairways know suicide second leading cause death among teen',\n",
              " 'united maintenance issue stuck geneva meal voucher even cover plate flight spaghetti really',\n",
              " 'united minute wait still gate broken jetway might miss connection',\n",
              " 'jetblue flights instead southwestair lost bag insult injury',\n",
              " 'thanks southwestair destinationdragons imaginedragons show weekend utah velourlive thankyou',\n",
              " 'united flight turned around mechanical reason never united check plane properly',\n",
              " 'united joke lots angry people',\n",
              " 'united guy split charge credit card making unnecessarily expensive people guy',\n",
              " 'jetblue fleet fleek http rxdks jameskraw',\n",
              " 'southwestair offers atlanta unprecedented perk http nustgpelsf http',\n",
              " 'jetblue flight bags come landed minute',\n",
              " 'usairways sorry received company least could home early extra charge',\n",
              " 'usairways never make reward reservation becuase ever answered phone online make cancelled flighted change',\n",
              " 'southwestair cancelled flightlations link rebook like initial storm issue',\n",
              " 'americanair flights cancelled flighted tomorrow mean stranded airport night',\n",
              " 'jetblue thanks',\n",
              " 'americanair love much plane please follow back amazing bussines',\n",
              " 'jetblue well grandfather hired agent currently',\n",
              " 'americanair want know regarding connecting flights since cancelled flightled could assistance',\n",
              " 'southwestair employee spreading mardigras cheer morning atlanta nftyconvention http ttbty',\n",
              " 'americanair rude unprofessional helpful helping home aaadvantage loyal customer dissatisfied',\n",
              " 'americanair phone number ring regarding claim late flight flight departure claim amount agreed',\n",
              " 'united sister stuck detroit desperately need florida flying usairways anything',\n",
              " 'jetblue case alert arrive late flight four hour delay',\n",
              " 'usairways owes tammy winston salem call center keeping customer',\n",
              " 'americanair status update flight going make home tonight',\n",
              " 'usairways garbage trying book reward flight cancelled flighted still anyone phone unacceptable',\n",
              " 'southwestair mine',\n",
              " 'southwestair flight attendant last flight hilarious',\n",
              " 'usairways nightmarish customer service elite member appalled',\n",
              " 'americanair trying someone cancelled flightled flight tomorrow hour',\n",
              " 'southwestair read tweet process folks take multiple flights',\n",
              " 'united worst airline ever',\n",
              " 'americanair hold min cancelled flighted international flight country leave call back help',\n",
              " 'americanair would love twitter say following',\n",
              " 'jetblue need service charge give better flying experience blue first place',\n",
              " 'united comfortable waiting luggage',\n",
              " 'united spoke someone feedback line last night say would preferred choice seat today',\n",
              " 'usairways waited customer service minute phone response hung since battery died waiting',\n",
              " 'united gate agent announcement unprofessional time back delta',\n",
              " 'united school ride home houston flyingretro http asuwx',\n",
              " 'southwestair pleaseeee resume direct flights want anyone else',\n",
              " 'usairways manner done harsh affected already checked remorse weak alternative',\n",
              " 'usairways hegshmeg thank elaborate response',\n",
              " 'usairways moveup policy really suck united hour policy status want move',\n",
              " 'southwestair buying early bird pointless moved diff flight first delayed lost boarding position',\n",
              " 'americanair jealous live sydney shirt jean suit office work need suits warm jacket',\n",
              " 'americanair kid aged need internally within thanks confirming',\n",
              " 'jetblue boarding back airplane first like bos sosmart jetblue frequentflyerappreciates alsoyayforsnacks',\n",
              " 'americanair tried check thing bought people told late flight want thing back',\n",
              " 'usairways still need stay hold http sdytt',\n",
              " 'usairways flight london sitting tarmac update pilot give',\n",
              " 'united customary upgrade flight attendant uniform passengers',\n",
              " 'united wifi lounge reminds days dial',\n",
              " 'usairways tell gate going stuck tarmack going gate',\n",
              " 'united well played',\n",
              " 'steamed conjunction hour wait first bought settled jetblue',\n",
              " 'united phone number customer service question',\n",
              " 'usairways travel advisory coming carolinas weather',\n",
              " 'united ladies gent united airlines',\n",
              " 'united better hold flight tucson landed houston hour delay minor computer problem',\n",
              " 'usairways somewhere warm tired snow',\n",
              " 'southwestair already follow need follow back',\n",
              " 'united booked website price change',\n",
              " 'usairways hold hour number speak someone unacceptable need change flights',\n",
              " 'usairways premium dividendmiles cardholder unacceptable hangup customerservice call twice putting hold',\n",
              " 'united airline biggest joke operation world',\n",
              " 'jetblue departing flights boston heavily delayed flying tomorrow morning',\n",
              " 'jetblue well huntsville take either nashville birmingham',\n",
              " 'virginamerica flights leaving dallas seattle time',\n",
              " 'americanair stuck tarmac gate open hope miss connection logistics americanview',\n",
              " 'americanair tomorrow flight cancelled flightlations flights posted',\n",
              " 'americanair offered sleep cancelled flightled flight fucking hotel like supposed provide',\n",
              " 'united still waiting hear back wallet stolen plane would appreciate resolution',\n",
              " 'americanair anyone phone flight rebooked missing conference tomorrow',\n",
              " 'united board time know shouldhaveflowndelta',\n",
              " 'jetblue flight listed time plane http obcepp',\n",
              " 'usairways would kill mile expire',\n",
              " 'jetblue hold couple ring mailbox customer service forwarding cell phone',\n",
              " 'jetblue cancelled flighted',\n",
              " 'southwestair thank always going beyond customer service favoriteairline luvforsw southwestair',\n",
              " 'americanair best example worst company cowboycerrone',\n",
              " 'usairways need check information regarding hotel shuttle routing flights delayed flights',\n",
              " 'usairways thanks friendly airways staff helped booked various flights home today almost',\n",
              " 'usairways americanair thought merged usairways suck worstever http mynzitcovn',\n",
              " 'united worst customer service experience ever minute jetway plane tonight flight disappointed',\n",
              " 'southwestair complimentary hotel voucher night crappiest hotel ever wish worst enemy',\n",
              " 'usairways worked tiffany cust service desk charlotte helpful patient still stuck great',\n",
              " 'usairways understand attempting change information identical tell call',\n",
              " 'united united coupon make broken entertainment system hour flight seriously ridiculousness learncustomerservice',\n",
              " 'southwestair priority seating already paid flight',\n",
              " 'americanair plate flight dealing cancelled flightlations weather tonite important know respond',\n",
              " 'americanair finally someone phone worry',\n",
              " 'united bought ticket yesterday received confirmation tried check say paid call',\n",
              " 'southwestair thanks leaving hang destinationdragons flights fucked help',\n",
              " 'virginamerica question possible book seat infant giving option want seat',\n",
              " 'awesome virginamerica watch nominated film feet meetthefleet oscars http dnstitrzwy',\n",
              " 'americanair seriously bring people help still flights want http cjsvssqf',\n",
              " ...]"
            ]
          },
          "metadata": {
            "tags": []
          },
          "execution_count": 146
        }
      ]
    },
    {
      "metadata": {
        "id": "9C01PWR2jTJa",
        "colab_type": "code",
        "colab": {}
      },
      "cell_type": "code",
      "source": [
        "x3=pd.read_csv(\"labels.csv\",header=None)"
      ],
      "execution_count": 0,
      "outputs": []
    },
    {
      "metadata": {
        "id": "d_qvTafajV-L",
        "colab_type": "code",
        "colab": {}
      },
      "cell_type": "code",
      "source": [
        "x3=x3[0]"
      ],
      "execution_count": 0,
      "outputs": []
    },
    {
      "metadata": {
        "id": "pyzPo7FHjYOT",
        "colab_type": "code",
        "colab": {
          "base_uri": "https://localhost:8080/",
          "height": 1071
        },
        "outputId": "0cd6813a-1a21-4679-ef8b-febe0ccd56d3"
      },
      "cell_type": "code",
      "source": [
        "x3    #labels"
      ],
      "execution_count": 149,
      "outputs": [
        {
          "output_type": "execute_result",
          "data": {
            "text/plain": [
              "0        negative\n",
              "1        positive\n",
              "2        positive\n",
              "3        negative\n",
              "4        negative\n",
              "5        negative\n",
              "6        negative\n",
              "7        positive\n",
              "8        negative\n",
              "9        positive\n",
              "10       negative\n",
              "11        neutral\n",
              "12       positive\n",
              "13       negative\n",
              "14       negative\n",
              "15       negative\n",
              "16       negative\n",
              "17       negative\n",
              "18       negative\n",
              "19       negative\n",
              "20       negative\n",
              "21        neutral\n",
              "22       negative\n",
              "23       negative\n",
              "24       positive\n",
              "25        neutral\n",
              "26       negative\n",
              "27       negative\n",
              "28       positive\n",
              "29       positive\n",
              "           ...   \n",
              "10950    positive\n",
              "10951    negative\n",
              "10952    negative\n",
              "10953    negative\n",
              "10954    negative\n",
              "10955    negative\n",
              "10956     neutral\n",
              "10957    negative\n",
              "10958    negative\n",
              "10959    negative\n",
              "10960    negative\n",
              "10961    negative\n",
              "10962     neutral\n",
              "10963    negative\n",
              "10964    negative\n",
              "10965     neutral\n",
              "10966    negative\n",
              "10967    negative\n",
              "10968    negative\n",
              "10969    positive\n",
              "10970    negative\n",
              "10971     neutral\n",
              "10972    negative\n",
              "10973    negative\n",
              "10974    positive\n",
              "10975     neutral\n",
              "10976    positive\n",
              "10977    negative\n",
              "10978    negative\n",
              "10979    negative\n",
              "Name: 0, Length: 10980, dtype: object"
            ]
          },
          "metadata": {
            "tags": []
          },
          "execution_count": 149
        }
      ]
    },
    {
      "metadata": {
        "id": "Ov0ZRqWpja-p",
        "colab_type": "code",
        "colab": {}
      },
      "cell_type": "code",
      "source": [
        "labels=x3"
      ],
      "execution_count": 0,
      "outputs": []
    },
    {
      "metadata": {
        "id": "Sr94Hcakivr2",
        "colab_type": "code",
        "colab": {}
      },
      "cell_type": "code",
      "source": [
        "from sklearn.feature_extraction.text import CountVectorizer   "
      ],
      "execution_count": 0,
      "outputs": []
    },
    {
      "metadata": {
        "id": "g7hKiSudjlkh",
        "colab_type": "code",
        "colab": {}
      },
      "cell_type": "code",
      "source": [
        "cv = CountVectorizer()\n",
        "trained_data=cv.fit_transform(list_x1)\n",
        "test_data=cv.transform(list_x2)"
      ],
      "execution_count": 0,
      "outputs": []
    },
    {
      "metadata": {
        "id": "JY2hmAmbnzwc",
        "colab_type": "code",
        "colab": {}
      },
      "cell_type": "code",
      "source": [
        "#Now applying different classifiers on this data"
      ],
      "execution_count": 0,
      "outputs": []
    },
    {
      "metadata": {
        "id": "5uMkPjgzjw79",
        "colab_type": "code",
        "colab": {}
      },
      "cell_type": "code",
      "source": [
        "from sklearn.model_selection import train_test_split   "
      ],
      "execution_count": 0,
      "outputs": []
    },
    {
      "metadata": {
        "id": "3eOK6IIRnSzd",
        "colab_type": "code",
        "colab": {}
      },
      "cell_type": "code",
      "source": [
        "x_train,x_test,y_train,y_test=train_test_split(trained_data,labels)"
      ],
      "execution_count": 0,
      "outputs": []
    },
    {
      "metadata": {
        "id": "znkw8qmmoNTH",
        "colab_type": "code",
        "colab": {}
      },
      "cell_type": "code",
      "source": [
        ""
      ],
      "execution_count": 0,
      "outputs": []
    },
    {
      "metadata": {
        "id": "Ad3qxeV_oK53",
        "colab_type": "code",
        "colab": {}
      },
      "cell_type": "code",
      "source": [
        "#Logistic regression"
      ],
      "execution_count": 0,
      "outputs": []
    },
    {
      "metadata": {
        "id": "x9eTXsuqnZQM",
        "colab_type": "code",
        "colab": {}
      },
      "cell_type": "code",
      "source": [
        "from sklearn.linear_model import LogisticRegression"
      ],
      "execution_count": 0,
      "outputs": []
    },
    {
      "metadata": {
        "id": "kiwPMOXPngse",
        "colab_type": "code",
        "colab": {
          "base_uri": "https://localhost:8080/",
          "height": 173
        },
        "outputId": "8a3f9219-8b60-40f5-9868-5c6b99ed788b"
      },
      "cell_type": "code",
      "source": [
        "clf_LR = LogisticRegression(C=1)\n",
        "clf_LR.fit(x_train, y_train)"
      ],
      "execution_count": 158,
      "outputs": [
        {
          "output_type": "stream",
          "text": [
            "/usr/local/lib/python3.6/dist-packages/sklearn/linear_model/logistic.py:433: FutureWarning: Default solver will be changed to 'lbfgs' in 0.22. Specify a solver to silence this warning.\n",
            "  FutureWarning)\n",
            "/usr/local/lib/python3.6/dist-packages/sklearn/linear_model/logistic.py:460: FutureWarning: Default multi_class will be changed to 'auto' in 0.22. Specify the multi_class option to silence this warning.\n",
            "  \"this warning.\", FutureWarning)\n"
          ],
          "name": "stderr"
        },
        {
          "output_type": "execute_result",
          "data": {
            "text/plain": [
              "LogisticRegression(C=1, class_weight=None, dual=False, fit_intercept=True,\n",
              "          intercept_scaling=1, max_iter=100, multi_class='warn',\n",
              "          n_jobs=None, penalty='l2', random_state=None, solver='warn',\n",
              "          tol=0.0001, verbose=0, warm_start=False)"
            ]
          },
          "metadata": {
            "tags": []
          },
          "execution_count": 158
        }
      ]
    },
    {
      "metadata": {
        "id": "MHJbhKHOnpCO",
        "colab_type": "code",
        "colab": {
          "base_uri": "https://localhost:8080/",
          "height": 34
        },
        "outputId": "8a1a3e5c-74cb-4a48-ce10-1d4231b8cb5d"
      },
      "cell_type": "code",
      "source": [
        "clf_LR.score(x_test,y_test)"
      ],
      "execution_count": 159,
      "outputs": [
        {
          "output_type": "execute_result",
          "data": {
            "text/plain": [
              "0.7770491803278688"
            ]
          },
          "metadata": {
            "tags": []
          },
          "execution_count": 159
        }
      ]
    },
    {
      "metadata": {
        "id": "oirWzj5uoOXe",
        "colab_type": "code",
        "colab": {}
      },
      "cell_type": "code",
      "source": [
        "#labels"
      ],
      "execution_count": 0,
      "outputs": []
    },
    {
      "metadata": {
        "id": "xh0IEcm7PzF_",
        "colab_type": "code",
        "colab": {}
      },
      "cell_type": "code",
      "source": [
        ""
      ],
      "execution_count": 0,
      "outputs": []
    },
    {
      "metadata": {
        "id": "Oo_kf3HZOABr",
        "colab_type": "code",
        "colab": {
          "base_uri": "https://localhost:8080/",
          "height": 105
        },
        "outputId": "ad7c5101-8d17-4305-c585-c98df8d0fbd6"
      },
      "cell_type": "code",
      "source": [
        "\n",
        "#generating the predictions files\n",
        "clf_LR = LogisticRegression(C=1)\n",
        "clf_LR.fit(trained_data,labels)\n",
        "predictions=clf_LR.predict(test_data)\n",
        "result=pd.DataFrame(predictions)\n",
        "result.to_csv(\"sol.csv\",index=False,encoding=\"UTF-8\",header=None)"
      ],
      "execution_count": 195,
      "outputs": [
        {
          "output_type": "stream",
          "text": [
            "/usr/local/lib/python3.6/dist-packages/sklearn/linear_model/logistic.py:433: FutureWarning: Default solver will be changed to 'lbfgs' in 0.22. Specify a solver to silence this warning.\n",
            "  FutureWarning)\n",
            "/usr/local/lib/python3.6/dist-packages/sklearn/linear_model/logistic.py:460: FutureWarning: Default multi_class will be changed to 'auto' in 0.22. Specify the multi_class option to silence this warning.\n",
            "  \"this warning.\", FutureWarning)\n"
          ],
          "name": "stderr"
        }
      ]
    },
    {
      "metadata": {
        "id": "w9CFvM3rPXl3",
        "colab_type": "code",
        "colab": {}
      },
      "cell_type": "code",
      "source": [
        ""
      ],
      "execution_count": 0,
      "outputs": []
    },
    {
      "metadata": {
        "id": "QpDXUprWOusz",
        "colab_type": "code",
        "colab": {}
      },
      "cell_type": "code",
      "source": [
        ""
      ],
      "execution_count": 0,
      "outputs": []
    },
    {
      "metadata": {
        "id": "Xh-n2ZO_Of9g",
        "colab_type": "code",
        "colab": {}
      },
      "cell_type": "code",
      "source": [
        ""
      ],
      "execution_count": 0,
      "outputs": []
    },
    {
      "metadata": {
        "id": "tt9NHW3VOhQQ",
        "colab_type": "code",
        "colab": {}
      },
      "cell_type": "code",
      "source": [
        ""
      ],
      "execution_count": 0,
      "outputs": []
    },
    {
      "metadata": {
        "id": "cRsWfVpznp-t",
        "colab_type": "code",
        "colab": {}
      },
      "cell_type": "code",
      "source": [
        "#KNN"
      ],
      "execution_count": 0,
      "outputs": []
    },
    {
      "metadata": {
        "id": "T07Z8RcjlCZS",
        "colab_type": "code",
        "colab": {}
      },
      "cell_type": "code",
      "source": [
        "from sklearn.neighbors import KNeighborsClassifier"
      ],
      "execution_count": 0,
      "outputs": []
    },
    {
      "metadata": {
        "id": "IWB-sjfHn-I2",
        "colab_type": "code",
        "colab": {
          "base_uri": "https://localhost:8080/",
          "height": 68
        },
        "outputId": "563fd607-699d-4ceb-81c4-172aad518d4c"
      },
      "cell_type": "code",
      "source": [
        "clf_KN = KNeighborsClassifier()\n",
        "clf_KN.fit(x_train,y_train)"
      ],
      "execution_count": 165,
      "outputs": [
        {
          "output_type": "execute_result",
          "data": {
            "text/plain": [
              "KNeighborsClassifier(algorithm='auto', leaf_size=30, metric='minkowski',\n",
              "           metric_params=None, n_jobs=None, n_neighbors=5, p=2,\n",
              "           weights='uniform')"
            ]
          },
          "metadata": {
            "tags": []
          },
          "execution_count": 165
        }
      ]
    },
    {
      "metadata": {
        "id": "oSfIFtoBoDV-",
        "colab_type": "code",
        "colab": {
          "base_uri": "https://localhost:8080/",
          "height": 34
        },
        "outputId": "4d6d48e8-11bc-4486-bda3-8af790b2e819"
      },
      "cell_type": "code",
      "source": [
        "clf_KN.score(x_test,y_test)   #not a good accuracy, so not making predictions for this"
      ],
      "execution_count": 166,
      "outputs": [
        {
          "output_type": "execute_result",
          "data": {
            "text/plain": [
              "0.4852459016393443"
            ]
          },
          "metadata": {
            "tags": []
          },
          "execution_count": 166
        }
      ]
    },
    {
      "metadata": {
        "id": "2_7A3c5woFkx",
        "colab_type": "code",
        "colab": {}
      },
      "cell_type": "code",
      "source": [
        ""
      ],
      "execution_count": 0,
      "outputs": []
    },
    {
      "metadata": {
        "id": "Ge2bOp9olZe2",
        "colab_type": "code",
        "colab": {}
      },
      "cell_type": "code",
      "source": [
        "#SVM"
      ],
      "execution_count": 0,
      "outputs": []
    },
    {
      "metadata": {
        "id": "khlmjuJflff6",
        "colab_type": "code",
        "colab": {}
      },
      "cell_type": "code",
      "source": [
        "from sklearn import svm"
      ],
      "execution_count": 0,
      "outputs": []
    },
    {
      "metadata": {
        "id": "uD8mbgLWoUOw",
        "colab_type": "code",
        "colab": {
          "base_uri": "https://localhost:8080/",
          "height": 139
        },
        "outputId": "16dc250d-b582-4a11-d42f-13203253167e"
      },
      "cell_type": "code",
      "source": [
        "clf_SVC = svm.SVC()\n",
        "clf_SVC.fit(x_train,y_train)"
      ],
      "execution_count": 169,
      "outputs": [
        {
          "output_type": "stream",
          "text": [
            "/usr/local/lib/python3.6/dist-packages/sklearn/svm/base.py:196: FutureWarning: The default value of gamma will change from 'auto' to 'scale' in version 0.22 to account better for unscaled features. Set gamma explicitly to 'auto' or 'scale' to avoid this warning.\n",
            "  \"avoid this warning.\", FutureWarning)\n"
          ],
          "name": "stderr"
        },
        {
          "output_type": "execute_result",
          "data": {
            "text/plain": [
              "SVC(C=1.0, cache_size=200, class_weight=None, coef0=0.0,\n",
              "  decision_function_shape='ovr', degree=3, gamma='auto_deprecated',\n",
              "  kernel='rbf', max_iter=-1, probability=False, random_state=None,\n",
              "  shrinking=True, tol=0.001, verbose=False)"
            ]
          },
          "metadata": {
            "tags": []
          },
          "execution_count": 169
        }
      ]
    },
    {
      "metadata": {
        "id": "4ZVvSCP1oYE5",
        "colab_type": "code",
        "colab": {
          "base_uri": "https://localhost:8080/",
          "height": 34
        },
        "outputId": "09264807-5a82-47d4-c3f5-233aca6ae6c2"
      },
      "cell_type": "code",
      "source": [
        "clf_SVC.score(x_test,y_test)"
      ],
      "execution_count": 171,
      "outputs": [
        {
          "output_type": "execute_result",
          "data": {
            "text/plain": [
              "0.6316939890710382"
            ]
          },
          "metadata": {
            "tags": []
          },
          "execution_count": 171
        }
      ]
    },
    {
      "metadata": {
        "id": "0FqReHfMQx11",
        "colab_type": "code",
        "colab": {
          "base_uri": "https://localhost:8080/",
          "height": 71
        },
        "outputId": "88896cd3-02c5-41af-acc5-66a70d951ca5"
      },
      "cell_type": "code",
      "source": [
        "#generating the predictions files\n",
        "clf_SVC = svm.SVC()\n",
        "clf_SVC.fit(trained_data,labels)\n",
        "predictions=clf_SVC.predict(test_data)\n",
        "result=pd.DataFrame(predictions)\n",
        "result.to_csv(\"sol1.csv\",index=False,encoding=\"UTF-8\",header=None)"
      ],
      "execution_count": 196,
      "outputs": [
        {
          "output_type": "stream",
          "text": [
            "/usr/local/lib/python3.6/dist-packages/sklearn/svm/base.py:196: FutureWarning: The default value of gamma will change from 'auto' to 'scale' in version 0.22 to account better for unscaled features. Set gamma explicitly to 'auto' or 'scale' to avoid this warning.\n",
            "  \"avoid this warning.\", FutureWarning)\n"
          ],
          "name": "stderr"
        }
      ]
    },
    {
      "metadata": {
        "id": "NLg2F5Z0odrX",
        "colab_type": "code",
        "colab": {}
      },
      "cell_type": "code",
      "source": [
        ""
      ],
      "execution_count": 0,
      "outputs": []
    },
    {
      "metadata": {
        "id": "XmndIZhrldJQ",
        "colab_type": "code",
        "colab": {}
      },
      "cell_type": "code",
      "source": [
        "#Decision trees"
      ],
      "execution_count": 0,
      "outputs": []
    },
    {
      "metadata": {
        "id": "rr-1rlneojKB",
        "colab_type": "code",
        "colab": {}
      },
      "cell_type": "code",
      "source": [
        "from sklearn.tree import DecisionTreeClassifier"
      ],
      "execution_count": 0,
      "outputs": []
    },
    {
      "metadata": {
        "id": "WX5uzBepokHw",
        "colab_type": "code",
        "colab": {
          "base_uri": "https://localhost:8080/",
          "height": 119
        },
        "outputId": "86d412c0-6841-4ed8-f652-6e9f2fdcc2ba"
      },
      "cell_type": "code",
      "source": [
        "clf_DT = DecisionTreeClassifier(criterion=\"gini\",splitter=\"best\")\n",
        "clf_DT.fit(x_train,y_train)"
      ],
      "execution_count": 175,
      "outputs": [
        {
          "output_type": "execute_result",
          "data": {
            "text/plain": [
              "DecisionTreeClassifier(class_weight=None, criterion='gini', max_depth=None,\n",
              "            max_features=None, max_leaf_nodes=None,\n",
              "            min_impurity_decrease=0.0, min_impurity_split=None,\n",
              "            min_samples_leaf=1, min_samples_split=2,\n",
              "            min_weight_fraction_leaf=0.0, presort=False, random_state=None,\n",
              "            splitter='best')"
            ]
          },
          "metadata": {
            "tags": []
          },
          "execution_count": 175
        }
      ]
    },
    {
      "metadata": {
        "id": "-OpxGDmkootK",
        "colab_type": "code",
        "colab": {
          "base_uri": "https://localhost:8080/",
          "height": 34
        },
        "outputId": "a8964c8b-b1a2-484a-dde7-6a13103105cf"
      },
      "cell_type": "code",
      "source": [
        "clf_DT.score(x_test,y_test)"
      ],
      "execution_count": 177,
      "outputs": [
        {
          "output_type": "execute_result",
          "data": {
            "text/plain": [
              "0.6903460837887068"
            ]
          },
          "metadata": {
            "tags": []
          },
          "execution_count": 177
        }
      ]
    },
    {
      "metadata": {
        "id": "xtD9LT6zQ_0o",
        "colab_type": "code",
        "colab": {}
      },
      "cell_type": "code",
      "source": [
        "#generating the predictions files\n",
        "clf_DT = DecisionTreeClassifier(criterion=\"gini\",splitter=\"best\")\n",
        "clf_DT.fit(trained_data,labels)\n",
        "predictions=clf_DT.predict(test_data)\n",
        "result=pd.DataFrame(predictions)\n",
        "result.to_csv(\"sol2.csv\",index=False,encoding=\"UTF-8\",header=None)"
      ],
      "execution_count": 0,
      "outputs": []
    },
    {
      "metadata": {
        "id": "IZK-l8CERWf2",
        "colab_type": "code",
        "colab": {}
      },
      "cell_type": "code",
      "source": [
        ""
      ],
      "execution_count": 0,
      "outputs": []
    },
    {
      "metadata": {
        "id": "KpRPn_dIosxm",
        "colab_type": "code",
        "colab": {}
      },
      "cell_type": "code",
      "source": [
        ""
      ],
      "execution_count": 0,
      "outputs": []
    },
    {
      "metadata": {
        "id": "ByC2Qd_cotzX",
        "colab_type": "code",
        "colab": {}
      },
      "cell_type": "code",
      "source": [
        "#random forests"
      ],
      "execution_count": 0,
      "outputs": []
    },
    {
      "metadata": {
        "id": "enCvjN_0o3YE",
        "colab_type": "code",
        "colab": {}
      },
      "cell_type": "code",
      "source": [
        "from sklearn.ensemble import RandomForestClassifier"
      ],
      "execution_count": 0,
      "outputs": []
    },
    {
      "metadata": {
        "id": "PBBQeymDo6Ue",
        "colab_type": "code",
        "colab": {
          "base_uri": "https://localhost:8080/",
          "height": 190
        },
        "outputId": "7ae968e8-aedc-425b-ab80-3cb4c8f7b6a3"
      },
      "cell_type": "code",
      "source": [
        "clf_RF = RandomForestClassifier(criterion='gini')\n",
        "clf_RF.fit(x_train,y_train)"
      ],
      "execution_count": 182,
      "outputs": [
        {
          "output_type": "stream",
          "text": [
            "/usr/local/lib/python3.6/dist-packages/sklearn/ensemble/forest.py:246: FutureWarning: The default value of n_estimators will change from 10 in version 0.20 to 100 in 0.22.\n",
            "  \"10 in version 0.20 to 100 in 0.22.\", FutureWarning)\n"
          ],
          "name": "stderr"
        },
        {
          "output_type": "execute_result",
          "data": {
            "text/plain": [
              "RandomForestClassifier(bootstrap=True, class_weight=None, criterion='gini',\n",
              "            max_depth=None, max_features='auto', max_leaf_nodes=None,\n",
              "            min_impurity_decrease=0.0, min_impurity_split=None,\n",
              "            min_samples_leaf=1, min_samples_split=2,\n",
              "            min_weight_fraction_leaf=0.0, n_estimators=10, n_jobs=None,\n",
              "            oob_score=False, random_state=None, verbose=0,\n",
              "            warm_start=False)"
            ]
          },
          "metadata": {
            "tags": []
          },
          "execution_count": 182
        }
      ]
    },
    {
      "metadata": {
        "id": "TAH2CrZxo7s3",
        "colab_type": "code",
        "colab": {
          "base_uri": "https://localhost:8080/",
          "height": 34
        },
        "outputId": "ebcb4905-2853-4a1c-b6b7-f6a0ad007304"
      },
      "cell_type": "code",
      "source": [
        "clf_RF.score(x_test,y_test)"
      ],
      "execution_count": 184,
      "outputs": [
        {
          "output_type": "execute_result",
          "data": {
            "text/plain": [
              "0.7107468123861567"
            ]
          },
          "metadata": {
            "tags": []
          },
          "execution_count": 184
        }
      ]
    },
    {
      "metadata": {
        "id": "tS72fu--ReA3",
        "colab_type": "code",
        "colab": {
          "base_uri": "https://localhost:8080/",
          "height": 71
        },
        "outputId": "3770d221-25d3-4c6f-a6c9-1cc6cde79f25"
      },
      "cell_type": "code",
      "source": [
        "#generating the predictions files\n",
        "clf_RF = RandomForestClassifier(criterion='gini')\n",
        "clf_RF.fit(trained_data,labels)\n",
        "predictions=clf_RF.predict(test_data)\n",
        "result=pd.DataFrame(predictions)\n",
        "result.to_csv(\"sol3.csv\",index=False,encoding=\"UTF-8\",header=None)"
      ],
      "execution_count": 198,
      "outputs": [
        {
          "output_type": "stream",
          "text": [
            "/usr/local/lib/python3.6/dist-packages/sklearn/ensemble/forest.py:246: FutureWarning: The default value of n_estimators will change from 10 in version 0.20 to 100 in 0.22.\n",
            "  \"10 in version 0.20 to 100 in 0.22.\", FutureWarning)\n"
          ],
          "name": "stderr"
        }
      ]
    },
    {
      "metadata": {
        "id": "Gn9FU3MyRr-z",
        "colab_type": "code",
        "colab": {}
      },
      "cell_type": "code",
      "source": [
        ""
      ],
      "execution_count": 0,
      "outputs": []
    },
    {
      "metadata": {
        "id": "br4DgXGypBYH",
        "colab_type": "code",
        "colab": {}
      },
      "cell_type": "code",
      "source": [
        ""
      ],
      "execution_count": 0,
      "outputs": []
    },
    {
      "metadata": {
        "id": "gO9o_ZiqoxMv",
        "colab_type": "code",
        "colab": {}
      },
      "cell_type": "code",
      "source": [
        "#MLP classifier"
      ],
      "execution_count": 0,
      "outputs": []
    },
    {
      "metadata": {
        "id": "ADfPoM-jpXn7",
        "colab_type": "code",
        "colab": {}
      },
      "cell_type": "code",
      "source": [
        "from sklearn.neural_network import MLPClassifier"
      ],
      "execution_count": 0,
      "outputs": []
    },
    {
      "metadata": {
        "id": "SB_zE6oTpYMZ",
        "colab_type": "code",
        "colab": {
          "base_uri": "https://localhost:8080/",
          "height": 170
        },
        "outputId": "adf09214-089a-4b11-f79f-ac1c10a598b6"
      },
      "cell_type": "code",
      "source": [
        "clf_MLP=MLPClassifier()        #too slow\n",
        "clf_MLP.fit(x_train,y_train)"
      ],
      "execution_count": 190,
      "outputs": [
        {
          "output_type": "stream",
          "text": [
            "/usr/local/lib/python3.6/dist-packages/sklearn/neural_network/multilayer_perceptron.py:564: UserWarning: Training interrupted by user.\n",
            "  warnings.warn(\"Training interrupted by user.\")\n"
          ],
          "name": "stderr"
        },
        {
          "output_type": "execute_result",
          "data": {
            "text/plain": [
              "MLPClassifier(activation='relu', alpha=0.0001, batch_size='auto', beta_1=0.9,\n",
              "       beta_2=0.999, early_stopping=False, epsilon=1e-08,\n",
              "       hidden_layer_sizes=(100,), learning_rate='constant',\n",
              "       learning_rate_init=0.001, max_iter=200, momentum=0.9,\n",
              "       n_iter_no_change=10, nesterovs_momentum=True, power_t=0.5,\n",
              "       random_state=None, shuffle=True, solver='adam', tol=0.0001,\n",
              "       validation_fraction=0.1, verbose=False, warm_start=False)"
            ]
          },
          "metadata": {
            "tags": []
          },
          "execution_count": 190
        }
      ]
    },
    {
      "metadata": {
        "id": "fLtBdp3Gpijc",
        "colab_type": "code",
        "colab": {
          "base_uri": "https://localhost:8080/",
          "height": 34
        },
        "outputId": "bada905b-7fc1-4ed6-d776-56def5132ef3"
      },
      "cell_type": "code",
      "source": [
        "clf_MLP.score(x_test,y_test)"
      ],
      "execution_count": 191,
      "outputs": [
        {
          "output_type": "execute_result",
          "data": {
            "text/plain": [
              "0.7326047358834245"
            ]
          },
          "metadata": {
            "tags": []
          },
          "execution_count": 191
        }
      ]
    },
    {
      "metadata": {
        "id": "n_FfjSv8o1oB",
        "colab_type": "code",
        "colab": {
          "base_uri": "https://localhost:8080/",
          "height": 51
        },
        "outputId": "97b30e85-6df7-4062-f732-3eed03017925"
      },
      "cell_type": "code",
      "source": [
        "#generating the predictions files\n",
        "clf_MLP=MLPClassifier()        \n",
        "clf_MLP.fit(trained_data,labels)\n",
        "predictions=clf_MLP.predict(test_data)\n",
        "result=pd.DataFrame(predictions)\n",
        "result.to_csv(\"sol4.csv\",index=False,encoding=\"UTF-8\",header=None)"
      ],
      "execution_count": 194,
      "outputs": [
        {
          "output_type": "stream",
          "text": [
            "/usr/local/lib/python3.6/dist-packages/sklearn/neural_network/multilayer_perceptron.py:564: UserWarning: Training interrupted by user.\n",
            "  warnings.warn(\"Training interrupted by user.\")\n"
          ],
          "name": "stderr"
        }
      ]
    },
    {
      "metadata": {
        "id": "D6iXzsR9SdE2",
        "colab_type": "code",
        "colab": {}
      },
      "cell_type": "code",
      "source": [
        ""
      ],
      "execution_count": 0,
      "outputs": []
    },
    {
      "metadata": {
        "id": "lNY3aJehqlEs",
        "colab_type": "code",
        "colab": {}
      },
      "cell_type": "code",
      "source": [
        "#Naive bais"
      ],
      "execution_count": 0,
      "outputs": []
    },
    {
      "metadata": {
        "id": "gV1LDt2Aqmq5",
        "colab_type": "code",
        "colab": {}
      },
      "cell_type": "code",
      "source": [
        "from sklearn.naive_bayes import MultinomialNB"
      ],
      "execution_count": 0,
      "outputs": []
    },
    {
      "metadata": {
        "id": "7Zbbrnttq2M7",
        "colab_type": "code",
        "colab": {
          "base_uri": "https://localhost:8080/",
          "height": 34
        },
        "outputId": "b3b79068-f85a-47e0-9a88-ef3b86c3d9e0"
      },
      "cell_type": "code",
      "source": [
        "clf_nb=MultinomialNB()\n",
        "clf_nb.fit(x_train,y_train)"
      ],
      "execution_count": 201,
      "outputs": [
        {
          "output_type": "execute_result",
          "data": {
            "text/plain": [
              "MultinomialNB(alpha=1.0, class_prior=None, fit_prior=True)"
            ]
          },
          "metadata": {
            "tags": []
          },
          "execution_count": 201
        }
      ]
    },
    {
      "metadata": {
        "id": "h0oECL0WrDI9",
        "colab_type": "code",
        "colab": {
          "base_uri": "https://localhost:8080/",
          "height": 34
        },
        "outputId": "ec86c733-28b1-4bb7-f2b9-b1a83df5f4a2"
      },
      "cell_type": "code",
      "source": [
        "clf_nb.score(x_test,y_test)"
      ],
      "execution_count": 202,
      "outputs": [
        {
          "output_type": "execute_result",
          "data": {
            "text/plain": [
              "0.7471766848816029"
            ]
          },
          "metadata": {
            "tags": []
          },
          "execution_count": 202
        }
      ]
    },
    {
      "metadata": {
        "id": "jK71CqmorIdd",
        "colab_type": "code",
        "colab": {}
      },
      "cell_type": "code",
      "source": [
        "#generating the predictions files\n",
        "clf_nb=MultinomialNB()       \n",
        "clf_nb.fit(trained_data,labels)\n",
        "predictions=clf_nb.predict(test_data)\n",
        "result=pd.DataFrame(predictions)\n",
        "result.to_csv(\"sol5.csv\",index=False,encoding=\"UTF-8\",header=None)"
      ],
      "execution_count": 0,
      "outputs": []
    },
    {
      "metadata": {
        "id": "6GpWEn-QT58J",
        "colab_type": "code",
        "colab": {}
      },
      "cell_type": "code",
      "source": [
        "z=pd.read_csv(\"sol5.csv\")"
      ],
      "execution_count": 0,
      "outputs": []
    },
    {
      "metadata": {
        "id": "oq9IU0gaUGta",
        "colab_type": "code",
        "colab": {}
      },
      "cell_type": "code",
      "source": [
        ""
      ],
      "execution_count": 0,
      "outputs": []
    },
    {
      "metadata": {
        "id": "0o00hXudUUcz",
        "colab_type": "code",
        "colab": {}
      },
      "cell_type": "code",
      "source": [
        ""
      ],
      "execution_count": 0,
      "outputs": []
    },
    {
      "metadata": {
        "id": "WCeT0hqLUVKq",
        "colab_type": "code",
        "colab": {}
      },
      "cell_type": "code",
      "source": [
        ""
      ],
      "execution_count": 0,
      "outputs": []
    },
    {
      "metadata": {
        "id": "Bo7hsRWBUHbG",
        "colab_type": "code",
        "colab": {}
      },
      "cell_type": "code",
      "source": [
        ""
      ],
      "execution_count": 0,
      "outputs": []
    },
    {
      "metadata": {
        "id": "fbAKXTnerJcM",
        "colab_type": "code",
        "colab": {}
      },
      "cell_type": "code",
      "source": [
        "#tensorflow using keras"
      ],
      "execution_count": 0,
      "outputs": []
    },
    {
      "metadata": {
        "id": "v3JYAKFfrNPz",
        "colab_type": "code",
        "colab": {}
      },
      "cell_type": "code",
      "source": [
        "from keras.models import Sequential"
      ],
      "execution_count": 0,
      "outputs": []
    },
    {
      "metadata": {
        "id": "omnL_gKlre18",
        "colab_type": "code",
        "colab": {}
      },
      "cell_type": "code",
      "source": [
        "model=Sequential()"
      ],
      "execution_count": 0,
      "outputs": []
    },
    {
      "metadata": {
        "id": "iX6CnkOqrhu1",
        "colab_type": "code",
        "colab": {}
      },
      "cell_type": "code",
      "source": [
        "from keras.layers import Dense"
      ],
      "execution_count": 0,
      "outputs": []
    },
    {
      "metadata": {
        "id": "jP-S1PPVsfCE",
        "colab_type": "code",
        "colab": {
          "base_uri": "https://localhost:8080/",
          "height": 136
        },
        "outputId": "22da5edb-4a65-4505-d392-364d8b57db46"
      },
      "cell_type": "code",
      "source": [
        "x_train.toarray()"
      ],
      "execution_count": 212,
      "outputs": [
        {
          "output_type": "execute_result",
          "data": {
            "text/plain": [
              "array([[0, 0, 0, ..., 0, 0, 0],\n",
              "       [0, 0, 0, ..., 0, 0, 0],\n",
              "       [0, 0, 0, ..., 0, 0, 0],\n",
              "       ...,\n",
              "       [0, 0, 0, ..., 0, 0, 0],\n",
              "       [0, 0, 0, ..., 0, 0, 0],\n",
              "       [0, 0, 0, ..., 0, 0, 0]], dtype=int64)"
            ]
          },
          "metadata": {
            "tags": []
          },
          "execution_count": 212
        }
      ]
    },
    {
      "metadata": {
        "id": "9fA94HWU2eNw",
        "colab_type": "code",
        "colab": {
          "base_uri": "https://localhost:8080/",
          "height": 51
        },
        "outputId": "24054230-9521-4379-8be7-01ab1a45414e"
      },
      "cell_type": "code",
      "source": [
        "x_train"
      ],
      "execution_count": 213,
      "outputs": [
        {
          "output_type": "execute_result",
          "data": {
            "text/plain": [
              "<8235x9498 sparse matrix of type '<class 'numpy.int64'>'\n",
              "\twith 67794 stored elements in Compressed Sparse Row format>"
            ]
          },
          "metadata": {
            "tags": []
          },
          "execution_count": 213
        }
      ]
    },
    {
      "metadata": {
        "id": "zXM8mb3R3s-b",
        "colab_type": "code",
        "colab": {}
      },
      "cell_type": "code",
      "source": [
        "#by default it is using 9498 max features."
      ],
      "execution_count": 0,
      "outputs": []
    },
    {
      "metadata": {
        "id": "8BMaM36o4p7b",
        "colab_type": "code",
        "colab": {}
      },
      "cell_type": "code",
      "source": [
        "layer1=Dense(units=512, activation='relu', input_dim=9498) \n",
        "model.add(layer1)"
      ],
      "execution_count": 0,
      "outputs": []
    },
    {
      "metadata": {
        "id": "FfmJiZid5bi6",
        "colab_type": "code",
        "colab": {}
      },
      "cell_type": "code",
      "source": [
        "from keras.layers import Dropout, Activation"
      ],
      "execution_count": 0,
      "outputs": []
    },
    {
      "metadata": {
        "id": "PaHHqFwL6GQg",
        "colab_type": "code",
        "colab": {}
      },
      "cell_type": "code",
      "source": [
        "model.add(Dropout(0.5))"
      ],
      "execution_count": 0,
      "outputs": []
    },
    {
      "metadata": {
        "id": "e_OuyMN76RIg",
        "colab_type": "code",
        "colab": {}
      },
      "cell_type": "code",
      "source": [
        "layer2=Dense(units=256, activation='relu')\n",
        "model.add(layer2)"
      ],
      "execution_count": 0,
      "outputs": []
    },
    {
      "metadata": {
        "id": "j0XSK-G16lL0",
        "colab_type": "code",
        "colab": {}
      },
      "cell_type": "code",
      "source": [
        ""
      ],
      "execution_count": 0,
      "outputs": []
    },
    {
      "metadata": {
        "id": "Gxy97X486oMO",
        "colab_type": "code",
        "colab": {}
      },
      "cell_type": "code",
      "source": [
        "model.add(Dropout(0.5))"
      ],
      "execution_count": 0,
      "outputs": []
    },
    {
      "metadata": {
        "id": "FMGT-LEL6rmk",
        "colab_type": "code",
        "colab": {}
      },
      "cell_type": "code",
      "source": [
        "model.add(Dense(1,activation='sigmoid'))   #output layer"
      ],
      "execution_count": 0,
      "outputs": []
    },
    {
      "metadata": {
        "id": "uN8gu9_W62zb",
        "colab_type": "code",
        "colab": {}
      },
      "cell_type": "code",
      "source": [
        "model.compile(optimizer='adam',loss='binary_crossentropy',metrics=['accuracy'])"
      ],
      "execution_count": 0,
      "outputs": []
    },
    {
      "metadata": {
        "id": "zOFUJroP8ZTK",
        "colab_type": "code",
        "colab": {
          "base_uri": "https://localhost:8080/",
          "height": 34
        },
        "outputId": "89acab18-91c3-4c05-ef65-c20093498d9b"
      },
      "cell_type": "code",
      "source": [
        "len(y_train)"
      ],
      "execution_count": 96,
      "outputs": [
        {
          "output_type": "execute_result",
          "data": {
            "text/plain": [
              "8235"
            ]
          },
          "metadata": {
            "tags": []
          },
          "execution_count": 96
        }
      ]
    },
    {
      "metadata": {
        "id": "fK7SmCoy-RCE",
        "colab_type": "code",
        "colab": {
          "base_uri": "https://localhost:8080/",
          "height": 34
        },
        "outputId": "7c9892d2-3c57-4f82-b480-c2dc2f5bdbd3"
      },
      "cell_type": "code",
      "source": [
        "y_train[0]"
      ],
      "execution_count": 97,
      "outputs": [
        {
          "output_type": "execute_result",
          "data": {
            "text/plain": [
              "'negative'"
            ]
          },
          "metadata": {
            "tags": []
          },
          "execution_count": 97
        }
      ]
    },
    {
      "metadata": {
        "id": "vNLk7pao-Sic",
        "colab_type": "code",
        "colab": {}
      },
      "cell_type": "code",
      "source": [
        "#need to convert y in numeric form before using NN fit fn on it"
      ],
      "execution_count": 0,
      "outputs": []
    },
    {
      "metadata": {
        "id": "5qApRxg0_MI4",
        "colab_type": "code",
        "colab": {}
      },
      "cell_type": "code",
      "source": [
        "x=trained_data"
      ],
      "execution_count": 0,
      "outputs": []
    },
    {
      "metadata": {
        "id": "rs91TkHZ_sn_",
        "colab_type": "code",
        "colab": {}
      },
      "cell_type": "code",
      "source": [
        "y=labels"
      ],
      "execution_count": 0,
      "outputs": []
    },
    {
      "metadata": {
        "id": "EqVvxwYN_uG6",
        "colab_type": "code",
        "colab": {
          "base_uri": "https://localhost:8080/",
          "height": 1071
        },
        "outputId": "f1dc57e2-6eed-4292-cb3c-56552a90d0c2"
      },
      "cell_type": "code",
      "source": [
        "y"
      ],
      "execution_count": 103,
      "outputs": [
        {
          "output_type": "execute_result",
          "data": {
            "text/plain": [
              "0        negative\n",
              "1        positive\n",
              "2        positive\n",
              "3        negative\n",
              "4        negative\n",
              "5        negative\n",
              "6        negative\n",
              "7        positive\n",
              "8        negative\n",
              "9        positive\n",
              "10       negative\n",
              "11        neutral\n",
              "12       positive\n",
              "13       negative\n",
              "14       negative\n",
              "15       negative\n",
              "16       negative\n",
              "17       negative\n",
              "18       negative\n",
              "19       negative\n",
              "20       negative\n",
              "21        neutral\n",
              "22       negative\n",
              "23       negative\n",
              "24       positive\n",
              "25        neutral\n",
              "26       negative\n",
              "27       negative\n",
              "28       positive\n",
              "29       positive\n",
              "           ...   \n",
              "10950    positive\n",
              "10951    negative\n",
              "10952    negative\n",
              "10953    negative\n",
              "10954    negative\n",
              "10955    negative\n",
              "10956     neutral\n",
              "10957    negative\n",
              "10958    negative\n",
              "10959    negative\n",
              "10960    negative\n",
              "10961    negative\n",
              "10962     neutral\n",
              "10963    negative\n",
              "10964    negative\n",
              "10965     neutral\n",
              "10966    negative\n",
              "10967    negative\n",
              "10968    negative\n",
              "10969    positive\n",
              "10970    negative\n",
              "10971     neutral\n",
              "10972    negative\n",
              "10973    negative\n",
              "10974    positive\n",
              "10975     neutral\n",
              "10976    positive\n",
              "10977    negative\n",
              "10978    negative\n",
              "10979    negative\n",
              "Name: 0, Length: 10980, dtype: object"
            ]
          },
          "metadata": {
            "tags": []
          },
          "execution_count": 103
        }
      ]
    },
    {
      "metadata": {
        "id": "567INipC_uum",
        "colab_type": "code",
        "colab": {}
      },
      "cell_type": "code",
      "source": [
        "for i in range(len(y)):\n",
        "  if y[i]=='negative':\n",
        "    y[i]=0\n",
        "  elif y[i]=='positive':\n",
        "    y[i]=1\n",
        "  else:\n",
        "    y[i]=2"
      ],
      "execution_count": 0,
      "outputs": []
    },
    {
      "metadata": {
        "id": "E8p4cQUU__l1",
        "colab_type": "code",
        "colab": {}
      },
      "cell_type": "code",
      "source": [
        "x_train,x_test,y_train,y_test=train_test_split(x,y)"
      ],
      "execution_count": 0,
      "outputs": []
    },
    {
      "metadata": {
        "id": "td8e4NZ0AJYJ",
        "colab_type": "code",
        "colab": {
          "base_uri": "https://localhost:8080/",
          "height": 731
        },
        "outputId": "d0d08bb0-1a5c-4f16-aae7-ee678c85b64b"
      },
      "cell_type": "code",
      "source": [
        "model.fit(x_train,y_train,epochs=20,batch_size=50,validation_data=(x_test,y_test))"
      ],
      "execution_count": 106,
      "outputs": [
        {
          "output_type": "stream",
          "text": [
            "Train on 8235 samples, validate on 2745 samples\n",
            "Epoch 1/20\n",
            "8235/8235 [==============================] - 19s 2ms/step - loss: -0.0958 - acc: 0.5308 - val_loss: -0.7926 - val_acc: 0.5956\n",
            "Epoch 2/20\n",
            "8235/8235 [==============================] - 20s 2ms/step - loss: -1.4864 - acc: 0.6515 - val_loss: -0.8354 - val_acc: 0.6066\n",
            "Epoch 3/20\n",
            "8235/8235 [==============================] - 20s 2ms/step - loss: -2.1220 - acc: 0.7013 - val_loss: -0.8242 - val_acc: 0.6168\n",
            "Epoch 4/20\n",
            "8235/8235 [==============================] - 20s 2ms/step - loss: -2.5049 - acc: 0.7250 - val_loss: -0.6914 - val_acc: 0.6175\n",
            "Epoch 5/20\n",
            "8235/8235 [==============================] - 20s 2ms/step - loss: -2.7534 - acc: 0.7439 - val_loss: -0.3792 - val_acc: 0.6240\n",
            "Epoch 6/20\n",
            "8235/8235 [==============================] - 20s 2ms/step - loss: -2.8910 - acc: 0.7549 - val_loss: -0.2583 - val_acc: 0.6299\n",
            "Epoch 7/20\n",
            "8235/8235 [==============================] - 20s 2ms/step - loss: -2.9557 - acc: 0.7577 - val_loss: -0.2180 - val_acc: 0.6237\n",
            "Epoch 8/20\n",
            "8235/8235 [==============================] - 20s 2ms/step - loss: -3.0213 - acc: 0.7632 - val_loss: -0.0345 - val_acc: 0.6288\n",
            "Epoch 9/20\n",
            "8235/8235 [==============================] - 20s 2ms/step - loss: -3.0641 - acc: 0.7678 - val_loss: 0.0583 - val_acc: 0.6317\n",
            "Epoch 10/20\n",
            "8235/8235 [==============================] - 20s 2ms/step - loss: -3.0781 - acc: 0.7690 - val_loss: 0.1191 - val_acc: 0.6375\n",
            "Epoch 11/20\n",
            "8235/8235 [==============================] - 20s 2ms/step - loss: -3.0788 - acc: 0.7679 - val_loss: 0.2386 - val_acc: 0.6270\n",
            "Epoch 12/20\n",
            "8235/8235 [==============================] - 20s 2ms/step - loss: -3.0994 - acc: 0.7710 - val_loss: 0.1276 - val_acc: 0.6149\n",
            "Epoch 13/20\n",
            "8235/8235 [==============================] - 20s 2ms/step - loss: -3.1243 - acc: 0.7717 - val_loss: 0.4549 - val_acc: 0.6466\n",
            "Epoch 14/20\n",
            "8235/8235 [==============================] - 20s 2ms/step - loss: -3.1127 - acc: 0.7723 - val_loss: 0.2166 - val_acc: 0.6219\n",
            "Epoch 15/20\n",
            "8235/8235 [==============================] - 20s 2ms/step - loss: -3.1241 - acc: 0.7724 - val_loss: 0.3443 - val_acc: 0.6423\n",
            "Epoch 16/20\n",
            "8235/8235 [==============================] - 20s 2ms/step - loss: -3.1322 - acc: 0.7734 - val_loss: 0.3631 - val_acc: 0.6401\n",
            "Epoch 17/20\n",
            "8235/8235 [==============================] - 20s 2ms/step - loss: -3.1403 - acc: 0.7745 - val_loss: 0.4557 - val_acc: 0.6321\n",
            "Epoch 18/20\n",
            "8235/8235 [==============================] - 20s 2ms/step - loss: -3.1437 - acc: 0.7751 - val_loss: 0.3490 - val_acc: 0.6211\n",
            "Epoch 19/20\n",
            "8235/8235 [==============================] - 20s 2ms/step - loss: -3.1485 - acc: 0.7747 - val_loss: 0.2888 - val_acc: 0.6149\n",
            "Epoch 20/20\n",
            "8235/8235 [==============================] - 20s 2ms/step - loss: -3.1552 - acc: 0.7763 - val_loss: 0.4430 - val_acc: 0.6193\n"
          ],
          "name": "stdout"
        },
        {
          "output_type": "execute_result",
          "data": {
            "text/plain": [
              "<keras.callbacks.History at 0x7f58c4b722e8>"
            ]
          },
          "metadata": {
            "tags": []
          },
          "execution_count": 106
        }
      ]
    },
    {
      "metadata": {
        "id": "St0MYregAULl",
        "colab_type": "code",
        "colab": {
          "base_uri": "https://localhost:8080/",
          "height": 344
        },
        "outputId": "d0b23a4d-46c4-47b1-e92a-8b6f99ecf6fb"
      },
      "cell_type": "code",
      "source": [
        "score=model.evaluate(x_test,y_test)\n",
        "score  "
      ],
      "execution_count": 215,
      "outputs": [
        {
          "output_type": "error",
          "ename": "RuntimeError",
          "evalue": "ignored",
          "traceback": [
            "\u001b[0;31m---------------------------------------------------------------------------\u001b[0m",
            "\u001b[0;31mRuntimeError\u001b[0m                              Traceback (most recent call last)",
            "\u001b[0;32m<ipython-input-215-3096f0ee1fff>\u001b[0m in \u001b[0;36m<module>\u001b[0;34m()\u001b[0m\n\u001b[0;32m----> 1\u001b[0;31m \u001b[0mscore\u001b[0m\u001b[0;34m=\u001b[0m\u001b[0mmodel\u001b[0m\u001b[0;34m.\u001b[0m\u001b[0mevaluate\u001b[0m\u001b[0;34m(\u001b[0m\u001b[0mx_test\u001b[0m\u001b[0;34m,\u001b[0m\u001b[0my_test\u001b[0m\u001b[0;34m)\u001b[0m\u001b[0;34m\u001b[0m\u001b[0;34m\u001b[0m\u001b[0m\n\u001b[0m\u001b[1;32m      2\u001b[0m \u001b[0mscore\u001b[0m\u001b[0;34m\u001b[0m\u001b[0;34m\u001b[0m\u001b[0m\n",
            "\u001b[0;32m/usr/local/lib/python3.6/dist-packages/keras/engine/training.py\u001b[0m in \u001b[0;36mevaluate\u001b[0;34m(self, x, y, batch_size, verbose, sample_weight, steps)\u001b[0m\n\u001b[1;32m   1100\u001b[0m             \u001b[0mx\u001b[0m\u001b[0;34m,\u001b[0m \u001b[0my\u001b[0m\u001b[0;34m,\u001b[0m\u001b[0;34m\u001b[0m\u001b[0;34m\u001b[0m\u001b[0m\n\u001b[1;32m   1101\u001b[0m             \u001b[0msample_weight\u001b[0m\u001b[0;34m=\u001b[0m\u001b[0msample_weight\u001b[0m\u001b[0;34m,\u001b[0m\u001b[0;34m\u001b[0m\u001b[0;34m\u001b[0m\u001b[0m\n\u001b[0;32m-> 1102\u001b[0;31m             batch_size=batch_size)\n\u001b[0m\u001b[1;32m   1103\u001b[0m         \u001b[0;31m# Prepare inputs, delegate logic to `test_loop`.\u001b[0m\u001b[0;34m\u001b[0m\u001b[0;34m\u001b[0m\u001b[0;34m\u001b[0m\u001b[0m\n\u001b[1;32m   1104\u001b[0m         \u001b[0;32mif\u001b[0m \u001b[0mself\u001b[0m\u001b[0;34m.\u001b[0m\u001b[0m_uses_dynamic_learning_phase\u001b[0m\u001b[0;34m(\u001b[0m\u001b[0;34m)\u001b[0m\u001b[0;34m:\u001b[0m\u001b[0;34m\u001b[0m\u001b[0;34m\u001b[0m\u001b[0m\n",
            "\u001b[0;32m/usr/local/lib/python3.6/dist-packages/keras/engine/training.py\u001b[0m in \u001b[0;36m_standardize_user_data\u001b[0;34m(self, x, y, sample_weight, class_weight, check_array_lengths, batch_size)\u001b[0m\n\u001b[1;32m    679\u001b[0m         \u001b[0;32mif\u001b[0m \u001b[0my\u001b[0m \u001b[0;32mis\u001b[0m \u001b[0;32mnot\u001b[0m \u001b[0;32mNone\u001b[0m\u001b[0;34m:\u001b[0m\u001b[0;34m\u001b[0m\u001b[0;34m\u001b[0m\u001b[0m\n\u001b[1;32m    680\u001b[0m             \u001b[0;32mif\u001b[0m \u001b[0;32mnot\u001b[0m \u001b[0mself\u001b[0m\u001b[0;34m.\u001b[0m\u001b[0moptimizer\u001b[0m\u001b[0;34m:\u001b[0m\u001b[0;34m\u001b[0m\u001b[0;34m\u001b[0m\u001b[0m\n\u001b[0;32m--> 681\u001b[0;31m                 raise RuntimeError('You must compile a model before '\n\u001b[0m\u001b[1;32m    682\u001b[0m                                    \u001b[0;34m'training/testing. '\u001b[0m\u001b[0;34m\u001b[0m\u001b[0;34m\u001b[0m\u001b[0m\n\u001b[1;32m    683\u001b[0m                                    'Use `model.compile(optimizer, loss)`.')\n",
            "\u001b[0;31mRuntimeError\u001b[0m: You must compile a model before training/testing. Use `model.compile(optimizer, loss)`."
          ]
        }
      ]
    },
    {
      "metadata": {
        "id": "GA6lSWwBW3SP",
        "colab_type": "code",
        "colab": {}
      },
      "cell_type": "code",
      "source": [
        ""
      ],
      "execution_count": 0,
      "outputs": []
    },
    {
      "metadata": {
        "id": "2N_xttgdCDWZ",
        "colab_type": "code",
        "colab": {}
      },
      "cell_type": "code",
      "source": [
        "#varying the batch size"
      ],
      "execution_count": 0,
      "outputs": []
    },
    {
      "metadata": {
        "id": "3MPr0AnM-Kcd",
        "colab_type": "code",
        "colab": {
          "base_uri": "https://localhost:8080/",
          "height": 391
        },
        "outputId": "de2c81ce-cee5-483c-c893-721d1b59d546"
      },
      "cell_type": "code",
      "source": [
        "model2=Sequential()\n",
        "layer1=Dense(units=512, activation='relu', input_dim=9498) \n",
        "model2.add(layer1)\n",
        "model2.add(Dropout(0.5))\n",
        "layer2=Dense(units=256, activation='relu')\n",
        "model2.add(layer2)\n",
        "model2.add(Dropout(0.5))\n",
        "model2.add(Dense(1,activation='sigmoid'))   #output layer\n",
        "model2.compile(optimizer='adam',loss='binary_crossentropy',metrics=['accuracy'])\n",
        "model2.fit(x_train,y_train,epochs=10,batch_size=20,validation_data=(x_test,y_test))"
      ],
      "execution_count": 112,
      "outputs": [
        {
          "output_type": "stream",
          "text": [
            "Train on 8235 samples, validate on 2745 samples\n",
            "Epoch 1/10\n",
            "8235/8235 [==============================] - 39s 5ms/step - loss: -0.2834 - acc: 0.5803 - val_loss: -0.8811 - val_acc: 0.5978\n",
            "Epoch 2/10\n",
            "8235/8235 [==============================] - 39s 5ms/step - loss: -1.5340 - acc: 0.6610 - val_loss: -0.8802 - val_acc: 0.6149\n",
            "Epoch 3/10\n",
            "8235/8235 [==============================] - 39s 5ms/step - loss: -2.0925 - acc: 0.7031 - val_loss: -0.7926 - val_acc: 0.6452\n",
            "Epoch 4/10\n",
            "8235/8235 [==============================] - 39s 5ms/step - loss: -2.4635 - acc: 0.7282 - val_loss: -0.5874 - val_acc: 0.6204\n",
            "Epoch 5/10\n",
            "8235/8235 [==============================] - 39s 5ms/step - loss: -2.7061 - acc: 0.7444 - val_loss: -0.4058 - val_acc: 0.6084\n",
            "Epoch 6/10\n",
            "8235/8235 [==============================] - 39s 5ms/step - loss: -2.8278 - acc: 0.7513 - val_loss: -0.2463 - val_acc: 0.6262\n",
            "Epoch 7/10\n",
            "8235/8235 [==============================] - 39s 5ms/step - loss: -2.9399 - acc: 0.7585 - val_loss: -0.0550 - val_acc: 0.6284\n",
            "Epoch 8/10\n",
            "8235/8235 [==============================] - 39s 5ms/step - loss: -3.0080 - acc: 0.7628 - val_loss: 0.2176 - val_acc: 0.6430\n",
            "Epoch 9/10\n",
            "8235/8235 [==============================] - 39s 5ms/step - loss: -3.0378 - acc: 0.7679 - val_loss: 0.1164 - val_acc: 0.6248\n",
            "Epoch 10/10\n",
            "8235/8235 [==============================] - 39s 5ms/step - loss: -3.0496 - acc: 0.7665 - val_loss: 0.0609 - val_acc: 0.6332\n"
          ],
          "name": "stdout"
        },
        {
          "output_type": "execute_result",
          "data": {
            "text/plain": [
              "<keras.callbacks.History at 0x7f58c2e0d908>"
            ]
          },
          "metadata": {
            "tags": []
          },
          "execution_count": 112
        }
      ]
    },
    {
      "metadata": {
        "id": "0Cra8TGSDMdu",
        "colab_type": "code",
        "colab": {}
      },
      "cell_type": "code",
      "source": [
        "#varying the epochs"
      ],
      "execution_count": 0,
      "outputs": []
    },
    {
      "metadata": {
        "id": "BpJynT2uDK0z",
        "colab_type": "code",
        "colab": {
          "base_uri": "https://localhost:8080/",
          "height": 1071
        },
        "outputId": "3769238e-e77d-4ae7-e3e2-6eb1f35938df"
      },
      "cell_type": "code",
      "source": [
        "model3=Sequential()\n",
        "layer1=Dense(units=512, activation='relu', input_dim=9498) \n",
        "model3.add(layer1)\n",
        "model3.add(Dropout(0.5))\n",
        "layer2=Dense(units=256, activation='relu')\n",
        "model3.add(layer2)\n",
        "model3.add(Dropout(0.5))\n",
        "model3.add(Dense(1,activation='sigmoid'))   #output layer\n",
        "model3.compile(optimizer='adam',loss='binary_crossentropy',metrics=['accuracy'])\n",
        "model3.fit(x_train,y_train,epochs=30,batch_size=50,validation_data=(x_test,y_test))"
      ],
      "execution_count": 113,
      "outputs": [
        {
          "output_type": "stream",
          "text": [
            "Train on 8235 samples, validate on 2745 samples\n",
            "Epoch 1/30\n",
            "8235/8235 [==============================] - 19s 2ms/step - loss: -0.0507 - acc: 0.5551 - val_loss: -0.7620 - val_acc: 0.5956\n",
            "Epoch 2/30\n",
            "8235/8235 [==============================] - 18s 2ms/step - loss: -1.4662 - acc: 0.6495 - val_loss: -0.8508 - val_acc: 0.6157\n",
            "Epoch 3/30\n",
            "8235/8235 [==============================] - 18s 2ms/step - loss: -2.1179 - acc: 0.6997 - val_loss: -0.7372 - val_acc: 0.6175\n",
            "Epoch 4/30\n",
            "8235/8235 [==============================] - 18s 2ms/step - loss: -2.4951 - acc: 0.7241 - val_loss: -0.5599 - val_acc: 0.6215\n",
            "Epoch 5/30\n",
            "8235/8235 [==============================] - 18s 2ms/step - loss: -2.7152 - acc: 0.7413 - val_loss: -0.4966 - val_acc: 0.6164\n",
            "Epoch 6/30\n",
            "8235/8235 [==============================] - 18s 2ms/step - loss: -2.8611 - acc: 0.7545 - val_loss: -0.3320 - val_acc: 0.6211\n",
            "Epoch 7/30\n",
            "8235/8235 [==============================] - 18s 2ms/step - loss: -2.9431 - acc: 0.7599 - val_loss: -0.1859 - val_acc: 0.6146\n",
            "Epoch 8/30\n",
            "8235/8235 [==============================] - 18s 2ms/step - loss: -3.0054 - acc: 0.7636 - val_loss: -0.0351 - val_acc: 0.6131\n",
            "Epoch 9/30\n",
            "8235/8235 [==============================] - 18s 2ms/step - loss: -3.0474 - acc: 0.7670 - val_loss: 0.0866 - val_acc: 0.6011\n",
            "Epoch 10/30\n",
            "8235/8235 [==============================] - 18s 2ms/step - loss: -3.0777 - acc: 0.7689 - val_loss: 0.0976 - val_acc: 0.6175\n",
            "Epoch 11/30\n",
            "8235/8235 [==============================] - 18s 2ms/step - loss: -3.0905 - acc: 0.7710 - val_loss: 0.1716 - val_acc: 0.6259\n",
            "Epoch 12/30\n",
            "8235/8235 [==============================] - 18s 2ms/step - loss: -3.0928 - acc: 0.7699 - val_loss: 0.2705 - val_acc: 0.6284\n",
            "Epoch 13/30\n",
            "8235/8235 [==============================] - 18s 2ms/step - loss: -3.1089 - acc: 0.7715 - val_loss: 0.2776 - val_acc: 0.6197\n",
            "Epoch 14/30\n",
            "8235/8235 [==============================] - 19s 2ms/step - loss: -3.1175 - acc: 0.7724 - val_loss: 0.2690 - val_acc: 0.6240\n",
            "Epoch 15/30\n",
            "8235/8235 [==============================] - 18s 2ms/step - loss: -3.1104 - acc: 0.7729 - val_loss: 0.3331 - val_acc: 0.6211\n",
            "Epoch 16/30\n",
            "8235/8235 [==============================] - 18s 2ms/step - loss: -3.1145 - acc: 0.7728 - val_loss: 0.3747 - val_acc: 0.6248\n",
            "Epoch 17/30\n",
            "8235/8235 [==============================] - 18s 2ms/step - loss: -3.1255 - acc: 0.7732 - val_loss: 0.3026 - val_acc: 0.6255\n",
            "Epoch 18/30\n",
            "8235/8235 [==============================] - 18s 2ms/step - loss: -3.1251 - acc: 0.7740 - val_loss: 0.3725 - val_acc: 0.6291\n",
            "Epoch 19/30\n",
            "8235/8235 [==============================] - 18s 2ms/step - loss: -3.1316 - acc: 0.7741 - val_loss: 0.3984 - val_acc: 0.6332\n",
            "Epoch 20/30\n",
            "8235/8235 [==============================] - 18s 2ms/step - loss: -3.1409 - acc: 0.7760 - val_loss: 0.4967 - val_acc: 0.6332\n",
            "Epoch 21/30\n",
            "8235/8235 [==============================] - 18s 2ms/step - loss: -3.1414 - acc: 0.7749 - val_loss: 0.4211 - val_acc: 0.6179\n",
            "Epoch 22/30\n",
            "8235/8235 [==============================] - 18s 2ms/step - loss: -3.1372 - acc: 0.7744 - val_loss: 0.4484 - val_acc: 0.6244\n",
            "Epoch 23/30\n",
            "8235/8235 [==============================] - 18s 2ms/step - loss: -3.1327 - acc: 0.7752 - val_loss: 0.2622 - val_acc: 0.6193\n",
            "Epoch 24/30\n",
            "8235/8235 [==============================] - 18s 2ms/step - loss: -3.1304 - acc: 0.7733 - val_loss: 0.5432 - val_acc: 0.6364\n",
            "Epoch 25/30\n",
            "8235/8235 [==============================] - 18s 2ms/step - loss: -3.1445 - acc: 0.7743 - val_loss: 0.4442 - val_acc: 0.6204\n",
            "Epoch 26/30\n",
            "8235/8235 [==============================] - 18s 2ms/step - loss: -3.1561 - acc: 0.7756 - val_loss: 0.4492 - val_acc: 0.6273\n",
            "Epoch 27/30\n",
            "8235/8235 [==============================] - 18s 2ms/step - loss: -3.1641 - acc: 0.7769 - val_loss: 0.5139 - val_acc: 0.6324\n",
            "Epoch 28/30\n",
            "8235/8235 [==============================] - 18s 2ms/step - loss: -3.1586 - acc: 0.7751 - val_loss: 0.5332 - val_acc: 0.6310\n",
            "Epoch 29/30\n",
            "8235/8235 [==============================] - 18s 2ms/step - loss: -3.1605 - acc: 0.7770 - val_loss: 0.5229 - val_acc: 0.6321\n",
            "Epoch 30/30\n",
            "8235/8235 [==============================] - 18s 2ms/step - loss: -3.1577 - acc: 0.7766 - val_loss: 0.4132 - val_acc: 0.6270\n"
          ],
          "name": "stdout"
        },
        {
          "output_type": "execute_result",
          "data": {
            "text/plain": [
              "<keras.callbacks.History at 0x7f58c2888b38>"
            ]
          },
          "metadata": {
            "tags": []
          },
          "execution_count": 113
        }
      ]
    },
    {
      "metadata": {
        "id": "xmVJH6t6E6bg",
        "colab_type": "code",
        "colab": {}
      },
      "cell_type": "code",
      "source": [
        "#using diff optimizer"
      ],
      "execution_count": 0,
      "outputs": []
    },
    {
      "metadata": {
        "id": "5UzvQ_zdC-bP",
        "colab_type": "code",
        "colab": {
          "base_uri": "https://localhost:8080/",
          "height": 731
        },
        "outputId": "6717196f-15ac-4a67-a3b2-9b75f7849927"
      },
      "cell_type": "code",
      "source": [
        "model4=Sequential()\n",
        "layer1=Dense(units=512, activation='relu', input_dim=9498) \n",
        "model4.add(layer1)\n",
        "model4.add(Dropout(0.5))\n",
        "layer2=Dense(units=256, activation='relu')\n",
        "model4.add(layer2)\n",
        "model4.add(Dropout(0.5))\n",
        "model4.add(Dense(1,activation='sigmoid'))   #output layer\n",
        "model4.compile(optimizer='sgd',loss='binary_crossentropy',metrics=['accuracy'])\n",
        "model4.fit(x_train,y_train,epochs=20,batch_size=50,validation_data=(x_test,y_test))"
      ],
      "execution_count": 114,
      "outputs": [
        {
          "output_type": "stream",
          "text": [
            "Train on 8235 samples, validate on 2745 samples\n",
            "Epoch 1/20\n",
            "8235/8235 [==============================] - 13s 2ms/step - loss: 0.6823 - acc: 0.2176 - val_loss: 0.6672 - val_acc: 0.1661\n",
            "Epoch 2/20\n",
            "8235/8235 [==============================] - 12s 1ms/step - loss: 0.6638 - acc: 0.1677 - val_loss: 0.6451 - val_acc: 0.1683\n",
            "Epoch 3/20\n",
            "8235/8235 [==============================] - 12s 1ms/step - loss: 0.6427 - acc: 0.1818 - val_loss: 0.6158 - val_acc: 0.1971\n",
            "Epoch 4/20\n",
            "8235/8235 [==============================] - 12s 1ms/step - loss: 0.6081 - acc: 0.2350 - val_loss: 0.5731 - val_acc: 0.2922\n",
            "Epoch 5/20\n",
            "8235/8235 [==============================] - 12s 1ms/step - loss: 0.5627 - acc: 0.3273 - val_loss: 0.5158 - val_acc: 0.3814\n",
            "Epoch 6/20\n",
            "8235/8235 [==============================] - 12s 1ms/step - loss: 0.5056 - acc: 0.4074 - val_loss: 0.4474 - val_acc: 0.4266\n",
            "Epoch 7/20\n",
            "8235/8235 [==============================] - 12s 1ms/step - loss: 0.4355 - acc: 0.4497 - val_loss: 0.3772 - val_acc: 0.4984\n",
            "Epoch 8/20\n",
            "8235/8235 [==============================] - 12s 1ms/step - loss: 0.3597 - acc: 0.4933 - val_loss: 0.3026 - val_acc: 0.4933\n",
            "Epoch 9/20\n",
            "8235/8235 [==============================] - 12s 1ms/step - loss: 0.2883 - acc: 0.5020 - val_loss: 0.2332 - val_acc: 0.5129\n",
            "Epoch 10/20\n",
            "8235/8235 [==============================] - 12s 1ms/step - loss: 0.2125 - acc: 0.5185 - val_loss: 0.1610 - val_acc: 0.5016\n",
            "Epoch 11/20\n",
            "8235/8235 [==============================] - 12s 1ms/step - loss: 0.1211 - acc: 0.5206 - val_loss: 0.0871 - val_acc: 0.5016\n",
            "Epoch 12/20\n",
            "8235/8235 [==============================] - 12s 1ms/step - loss: 0.0412 - acc: 0.5292 - val_loss: 0.0081 - val_acc: 0.5384\n",
            "Epoch 13/20\n",
            "8235/8235 [==============================] - 12s 1ms/step - loss: -0.0677 - acc: 0.5393 - val_loss: -0.0814 - val_acc: 0.5479\n",
            "Epoch 14/20\n",
            "8235/8235 [==============================] - 12s 1ms/step - loss: -0.1857 - acc: 0.5435 - val_loss: -0.1883 - val_acc: 0.5403\n",
            "Epoch 15/20\n",
            "8235/8235 [==============================] - 12s 1ms/step - loss: -0.3146 - acc: 0.5523 - val_loss: -0.2686 - val_acc: 0.5264\n",
            "Epoch 16/20\n",
            "8235/8235 [==============================] - 12s 1ms/step - loss: -0.4722 - acc: 0.5557 - val_loss: -0.3559 - val_acc: 0.5450\n",
            "Epoch 17/20\n",
            "8235/8235 [==============================] - 12s 1ms/step - loss: -0.5856 - acc: 0.5660 - val_loss: -0.4114 - val_acc: 0.5763\n",
            "Epoch 18/20\n",
            "8235/8235 [==============================] - 12s 1ms/step - loss: -0.7336 - acc: 0.5777 - val_loss: -0.4898 - val_acc: 0.5694\n",
            "Epoch 19/20\n",
            "8235/8235 [==============================] - 12s 1ms/step - loss: -0.8616 - acc: 0.5846 - val_loss: -0.5538 - val_acc: 0.5625\n",
            "Epoch 20/20\n",
            "8235/8235 [==============================] - 12s 1ms/step - loss: -0.9935 - acc: 0.5905 - val_loss: -0.5450 - val_acc: 0.5315\n"
          ],
          "name": "stdout"
        },
        {
          "output_type": "execute_result",
          "data": {
            "text/plain": [
              "<keras.callbacks.History at 0x7f58c230e4e0>"
            ]
          },
          "metadata": {
            "tags": []
          },
          "execution_count": 114
        }
      ]
    },
    {
      "metadata": {
        "id": "smPhmQcWGeRb",
        "colab_type": "code",
        "colab": {}
      },
      "cell_type": "code",
      "source": [
        ""
      ],
      "execution_count": 0,
      "outputs": []
    },
    {
      "metadata": {
        "id": "oXOFm9b9CbSU",
        "colab_type": "code",
        "colab": {}
      },
      "cell_type": "code",
      "source": [
        "\n",
        "#using verbose, shuffle and less epochs"
      ],
      "execution_count": 0,
      "outputs": []
    },
    {
      "metadata": {
        "id": "Bszbe-qz-8Dk",
        "colab_type": "code",
        "colab": {
          "base_uri": "https://localhost:8080/",
          "height": 221
        },
        "outputId": "fbbc4596-d311-45e3-e6da-8cb48488bf0b"
      },
      "cell_type": "code",
      "source": [
        "model5=Sequential()\n",
        "layer1=Dense(units=512, activation='relu', input_dim=9498) \n",
        "model5.add(layer1)\n",
        "model5.add(Dropout(0.5))\n",
        "layer2=Dense(units=256, activation='relu')\n",
        "model5.add(layer2)\n",
        "model5.add(Dropout(0.5))\n",
        "model5.add(Dense(1,activation='sigmoid'))   #output layer\n",
        "model5.compile(optimizer='adam',loss='binary_crossentropy',metrics=['accuracy'])\n",
        "model5.fit(x_train, y_train,\n",
        "  batch_size=32,\n",
        "  epochs=5,\n",
        "  verbose=1,\n",
        "  validation_split=0.1,\n",
        "  shuffle=True)"
      ],
      "execution_count": 118,
      "outputs": [
        {
          "output_type": "stream",
          "text": [
            "Train on 7411 samples, validate on 824 samples\n",
            "Epoch 1/5\n",
            "7411/7411 [==============================] - 23s 3ms/step - loss: -0.0411 - acc: 0.5719 - val_loss: -0.9025 - val_acc: 0.5910\n",
            "Epoch 2/5\n",
            "7411/7411 [==============================] - 21s 3ms/step - loss: -1.4845 - acc: 0.6581 - val_loss: -0.9026 - val_acc: 0.6347\n",
            "Epoch 3/5\n",
            "7411/7411 [==============================] - 21s 3ms/step - loss: -2.1364 - acc: 0.7052 - val_loss: -0.8256 - val_acc: 0.6444\n",
            "Epoch 4/5\n",
            "7411/7411 [==============================] - 21s 3ms/step - loss: -2.5247 - acc: 0.7309 - val_loss: -0.6241 - val_acc: 0.6614\n",
            "Epoch 5/5\n",
            "7411/7411 [==============================] - 21s 3ms/step - loss: -2.7686 - acc: 0.7502 - val_loss: -0.5571 - val_acc: 0.6299\n"
          ],
          "name": "stdout"
        },
        {
          "output_type": "execute_result",
          "data": {
            "text/plain": [
              "<keras.callbacks.History at 0x7f58c1aec0f0>"
            ]
          },
          "metadata": {
            "tags": []
          },
          "execution_count": 118
        }
      ]
    },
    {
      "metadata": {
        "id": "RwvO5GiIH-5M",
        "colab_type": "code",
        "colab": {}
      },
      "cell_type": "code",
      "source": [
        ""
      ],
      "execution_count": 0,
      "outputs": []
    },
    {
      "metadata": {
        "id": "9ERaCLBxH7DQ",
        "colab_type": "code",
        "colab": {}
      },
      "cell_type": "code",
      "source": [
        ""
      ],
      "execution_count": 0,
      "outputs": []
    },
    {
      "metadata": {
        "id": "MnmIHP3eGjff",
        "colab_type": "code",
        "colab": {}
      },
      "cell_type": "code",
      "source": [
        ""
      ],
      "execution_count": 0,
      "outputs": []
    },
    {
      "metadata": {
        "id": "ARR96zkJ-k1j",
        "colab_type": "code",
        "colab": {
          "base_uri": "https://localhost:8080/",
          "height": 731
        },
        "outputId": "5abfd982-e2e1-460f-f010-780ad20bfe2f"
      },
      "cell_type": "code",
      "source": [
        "#using lesser layers\n",
        "model6=Sequential()\n",
        "layer1=Dense(units=512, activation='sigmoid', input_dim=9498) \n",
        "model6.add(layer1)\n",
        "model6.add(Dense(1,activation='sigmoid'))   #output layer\n",
        "model6.compile(optimizer='adam',loss='binary_crossentropy',metrics=['accuracy'])\n",
        "model6.fit(x_train,y_train,epochs=20,batch_size=50,validation_data=(x_test,y_test))"
      ],
      "execution_count": 119,
      "outputs": [
        {
          "output_type": "stream",
          "text": [
            "Train on 8235 samples, validate on 2745 samples\n",
            "Epoch 1/20\n",
            "8235/8235 [==============================] - 19s 2ms/step - loss: 0.4272 - acc: 0.4266 - val_loss: 0.2005 - val_acc: 0.4823\n",
            "Epoch 2/20\n",
            "8235/8235 [==============================] - 18s 2ms/step - loss: -0.0291 - acc: 0.5364 - val_loss: -0.0843 - val_acc: 0.5257\n",
            "Epoch 3/20\n",
            "8235/8235 [==============================] - 18s 2ms/step - loss: -0.5005 - acc: 0.5583 - val_loss: -0.3661 - val_acc: 0.5148\n",
            "Epoch 4/20\n",
            "8235/8235 [==============================] - 18s 2ms/step - loss: -0.9813 - acc: 0.5828 - val_loss: -0.5105 - val_acc: 0.5311\n",
            "Epoch 5/20\n",
            "8235/8235 [==============================] - 17s 2ms/step - loss: -1.3599 - acc: 0.6058 - val_loss: -0.5491 - val_acc: 0.5384\n",
            "Epoch 6/20\n",
            "8235/8235 [==============================] - 18s 2ms/step - loss: -1.6450 - acc: 0.6266 - val_loss: -0.5454 - val_acc: 0.5421\n",
            "Epoch 7/20\n",
            "8235/8235 [==============================] - 17s 2ms/step - loss: -1.8500 - acc: 0.6477 - val_loss: -0.5030 - val_acc: 0.5377\n",
            "Epoch 8/20\n",
            "8235/8235 [==============================] - 17s 2ms/step - loss: -2.0130 - acc: 0.6630 - val_loss: -0.4715 - val_acc: 0.5479\n",
            "Epoch 9/20\n",
            "8235/8235 [==============================] - 18s 2ms/step - loss: -2.1382 - acc: 0.6761 - val_loss: -0.4235 - val_acc: 0.5654\n",
            "Epoch 10/20\n",
            "8235/8235 [==============================] - 18s 2ms/step - loss: -2.2486 - acc: 0.6846 - val_loss: -0.3754 - val_acc: 0.5610\n",
            "Epoch 11/20\n",
            "8235/8235 [==============================] - 18s 2ms/step - loss: -2.3324 - acc: 0.6919 - val_loss: -0.3284 - val_acc: 0.5672\n",
            "Epoch 12/20\n",
            "8235/8235 [==============================] - 17s 2ms/step - loss: -2.4107 - acc: 0.6998 - val_loss: -0.2679 - val_acc: 0.5661\n",
            "Epoch 13/20\n",
            "8235/8235 [==============================] - 17s 2ms/step - loss: -2.4742 - acc: 0.7083 - val_loss: -0.2200 - val_acc: 0.5672\n",
            "Epoch 14/20\n",
            "8235/8235 [==============================] - 18s 2ms/step - loss: -2.5350 - acc: 0.7124 - val_loss: -0.1642 - val_acc: 0.5683\n",
            "Epoch 15/20\n",
            "8235/8235 [==============================] - 18s 2ms/step - loss: -2.5809 - acc: 0.7157 - val_loss: -0.1103 - val_acc: 0.5745\n",
            "Epoch 16/20\n",
            "8235/8235 [==============================] - 18s 2ms/step - loss: -2.6283 - acc: 0.7197 - val_loss: -0.0720 - val_acc: 0.5694\n",
            "Epoch 17/20\n",
            "8235/8235 [==============================] - 18s 2ms/step - loss: -2.6626 - acc: 0.7250 - val_loss: -0.0235 - val_acc: 0.5716\n",
            "Epoch 18/20\n",
            "8235/8235 [==============================] - 18s 2ms/step - loss: -2.6930 - acc: 0.7277 - val_loss: 0.0189 - val_acc: 0.5756\n",
            "Epoch 19/20\n",
            "8235/8235 [==============================] - 18s 2ms/step - loss: -2.7255 - acc: 0.7311 - val_loss: 0.0508 - val_acc: 0.5719\n",
            "Epoch 20/20\n",
            "8235/8235 [==============================] - 18s 2ms/step - loss: -2.7509 - acc: 0.7343 - val_loss: 0.0943 - val_acc: 0.5778\n"
          ],
          "name": "stdout"
        },
        {
          "output_type": "execute_result",
          "data": {
            "text/plain": [
              "<keras.callbacks.History at 0x7f58c1673f60>"
            ]
          },
          "metadata": {
            "tags": []
          },
          "execution_count": 119
        }
      ]
    },
    {
      "metadata": {
        "id": "wmZztOHUJauO",
        "colab_type": "code",
        "colab": {}
      },
      "cell_type": "code",
      "source": [
        ""
      ],
      "execution_count": 0,
      "outputs": []
    },
    {
      "metadata": {
        "id": "CV1_ARpU-Cfm",
        "colab_type": "code",
        "colab": {}
      },
      "cell_type": "code",
      "source": [
        ""
      ],
      "execution_count": 0,
      "outputs": []
    },
    {
      "metadata": {
        "id": "GuSc2Ekw923l",
        "colab_type": "code",
        "colab": {}
      },
      "cell_type": "code",
      "source": [
        ""
      ],
      "execution_count": 0,
      "outputs": []
    },
    {
      "metadata": {
        "id": "Q39dV7kKKyh0",
        "colab_type": "code",
        "colab": {}
      },
      "cell_type": "code",
      "source": [
        ""
      ],
      "execution_count": 0,
      "outputs": []
    },
    {
      "metadata": {
        "id": "WpYHOdCk9oCu",
        "colab_type": "code",
        "colab": {}
      },
      "cell_type": "code",
      "source": [
        ""
      ],
      "execution_count": 0,
      "outputs": []
    },
    {
      "metadata": {
        "id": "wo2XB_gR9WXE",
        "colab_type": "code",
        "colab": {
          "base_uri": "https://localhost:8080/",
          "height": 391
        },
        "outputId": "73c9d457-9e26-4499-9e2b-974de18737de"
      },
      "cell_type": "code",
      "source": [
        "model8=Sequential()\n",
        "layer1=Dense(units=512, activation='relu', input_dim=9498) \n",
        "model8.add(layer1)\n",
        "model8.add(Dropout(0.5))\n",
        "layer2=Dense(units=256, activation='relu')\n",
        "model8.add(layer2)\n",
        "model8.add(Dropout(0.5))\n",
        "model8.add(Dense(1,activation='sigmoid'))   #output layer\n",
        "model8.compile(optimizer='adam',loss='binary_crossentropy',metrics=['accuracy'])\n",
        "model8.fit(x_train, y_train,batch_size=50,epochs=10,verbose=1,validation_split=0.1,shuffle=True)"
      ],
      "execution_count": 121,
      "outputs": [
        {
          "output_type": "stream",
          "text": [
            "Train on 7411 samples, validate on 824 samples\n",
            "Epoch 1/10\n",
            "7411/7411 [==============================] - 17s 2ms/step - loss: -0.0152 - acc: 0.5191 - val_loss: -0.8417 - val_acc: 0.6104\n",
            "Epoch 2/10\n",
            "7411/7411 [==============================] - 16s 2ms/step - loss: -1.4099 - acc: 0.6492 - val_loss: -0.9512 - val_acc: 0.6250\n",
            "Epoch 3/10\n",
            "7411/7411 [==============================] - 16s 2ms/step - loss: -2.1053 - acc: 0.6971 - val_loss: -0.8305 - val_acc: 0.6383\n",
            "Epoch 4/10\n",
            "7411/7411 [==============================] - 16s 2ms/step - loss: -2.5010 - acc: 0.7304 - val_loss: -0.7939 - val_acc: 0.6456\n",
            "Epoch 5/10\n",
            "7411/7411 [==============================] - 16s 2ms/step - loss: -2.7388 - acc: 0.7458 - val_loss: -0.7064 - val_acc: 0.6238\n",
            "Epoch 6/10\n",
            "7411/7411 [==============================] - 16s 2ms/step - loss: -2.8717 - acc: 0.7556 - val_loss: -0.5482 - val_acc: 0.6323\n",
            "Epoch 7/10\n",
            "7411/7411 [==============================] - 16s 2ms/step - loss: -2.9440 - acc: 0.7629 - val_loss: -0.3098 - val_acc: 0.6383\n",
            "Epoch 8/10\n",
            "7411/7411 [==============================] - 16s 2ms/step - loss: -3.0200 - acc: 0.7697 - val_loss: -0.3481 - val_acc: 0.6347\n",
            "Epoch 9/10\n",
            "7411/7411 [==============================] - 16s 2ms/step - loss: -3.0368 - acc: 0.7702 - val_loss: -0.1038 - val_acc: 0.6383\n",
            "Epoch 10/10\n",
            "7411/7411 [==============================] - 16s 2ms/step - loss: -3.0544 - acc: 0.7705 - val_loss: 0.0496 - val_acc: 0.6371\n"
          ],
          "name": "stdout"
        },
        {
          "output_type": "execute_result",
          "data": {
            "text/plain": [
              "<keras.callbacks.History at 0x7f58c1195630>"
            ]
          },
          "metadata": {
            "tags": []
          },
          "execution_count": 121
        }
      ]
    },
    {
      "metadata": {
        "id": "wwVDlqEm8ekQ",
        "colab_type": "code",
        "colab": {}
      },
      "cell_type": "code",
      "source": [
        ""
      ],
      "execution_count": 0,
      "outputs": []
    },
    {
      "metadata": {
        "id": "18Hd--E06Eio",
        "colab_type": "code",
        "colab": {
          "base_uri": "https://localhost:8080/",
          "height": 731
        },
        "outputId": "25b09f04-8f56-432b-f212-551c8fa3118f"
      },
      "cell_type": "code",
      "source": [
        "model9=Sequential()\n",
        "layer1=Dense(units=512, activation='relu', input_dim=9498) \n",
        "model9.add(layer1)\n",
        "model9.add(Dropout(0.5))\n",
        "layer2=Dense(units=256, activation='relu')\n",
        "model9.add(layer2)\n",
        "model9.add(Dropout(0.5))\n",
        "model9.add(Dense(1,activation='sigmoid'))   #output layer\n",
        "model9.compile(optimizer='adam',loss='binary_crossentropy',metrics=['accuracy'])\n",
        "model9.fit(x_train, y_train,batch_size=50,epochs=20,verbose=1,validation_split=0.1,shuffle=True)"
      ],
      "execution_count": 122,
      "outputs": [
        {
          "output_type": "stream",
          "text": [
            "Train on 7411 samples, validate on 824 samples\n",
            "Epoch 1/20\n",
            "7411/7411 [==============================] - 17s 2ms/step - loss: 0.0316 - acc: 0.5268 - val_loss: -0.8370 - val_acc: 0.6032\n",
            "Epoch 2/20\n",
            "7411/7411 [==============================] - 15s 2ms/step - loss: -1.3914 - acc: 0.6466 - val_loss: -1.0003 - val_acc: 0.6238\n",
            "Epoch 3/20\n",
            "7411/7411 [==============================] - 15s 2ms/step - loss: -2.1159 - acc: 0.7023 - val_loss: -0.9434 - val_acc: 0.6335\n",
            "Epoch 4/20\n",
            "7411/7411 [==============================] - 15s 2ms/step - loss: -2.5231 - acc: 0.7308 - val_loss: -0.7746 - val_acc: 0.6214\n",
            "Epoch 5/20\n",
            "7411/7411 [==============================] - 15s 2ms/step - loss: -2.7674 - acc: 0.7477 - val_loss: -0.6620 - val_acc: 0.6335\n",
            "Epoch 6/20\n",
            "7411/7411 [==============================] - 15s 2ms/step - loss: -2.8919 - acc: 0.7571 - val_loss: -0.5065 - val_acc: 0.6311\n",
            "Epoch 7/20\n",
            "7411/7411 [==============================] - 15s 2ms/step - loss: -3.0002 - acc: 0.7622 - val_loss: -0.2188 - val_acc: 0.6311\n",
            "Epoch 8/20\n",
            "7411/7411 [==============================] - 15s 2ms/step - loss: -3.0432 - acc: 0.7694 - val_loss: -0.1913 - val_acc: 0.6505\n",
            "Epoch 9/20\n",
            "7411/7411 [==============================] - 15s 2ms/step - loss: -3.0823 - acc: 0.7725 - val_loss: -0.1435 - val_acc: 0.6359\n",
            "Epoch 10/20\n",
            "7411/7411 [==============================] - 15s 2ms/step - loss: -3.0998 - acc: 0.7741 - val_loss: -0.0388 - val_acc: 0.6311\n",
            "Epoch 11/20\n",
            "7411/7411 [==============================] - 15s 2ms/step - loss: -3.1365 - acc: 0.7756 - val_loss: -0.0867 - val_acc: 0.6408\n",
            "Epoch 12/20\n",
            "7411/7411 [==============================] - 15s 2ms/step - loss: -3.1344 - acc: 0.7770 - val_loss: 0.0966 - val_acc: 0.6541\n",
            "Epoch 13/20\n",
            "7411/7411 [==============================] - 15s 2ms/step - loss: -3.1609 - acc: 0.7776 - val_loss: 0.1020 - val_acc: 0.6444\n",
            "Epoch 14/20\n",
            "7411/7411 [==============================] - 15s 2ms/step - loss: -3.1612 - acc: 0.7795 - val_loss: 0.3541 - val_acc: 0.6444\n",
            "Epoch 15/20\n",
            "7411/7411 [==============================] - 15s 2ms/step - loss: -3.1511 - acc: 0.7779 - val_loss: 0.2107 - val_acc: 0.6335\n",
            "Epoch 16/20\n",
            "7411/7411 [==============================] - 15s 2ms/step - loss: -3.1823 - acc: 0.7811 - val_loss: 0.1622 - val_acc: 0.6299\n",
            "Epoch 17/20\n",
            "7411/7411 [==============================] - 15s 2ms/step - loss: -3.1660 - acc: 0.7792 - val_loss: 0.3710 - val_acc: 0.6493\n",
            "Epoch 18/20\n",
            "7411/7411 [==============================] - 15s 2ms/step - loss: -3.1660 - acc: 0.7795 - val_loss: 0.3638 - val_acc: 0.6444\n",
            "Epoch 19/20\n",
            "7411/7411 [==============================] - 15s 2ms/step - loss: -3.1611 - acc: 0.7798 - val_loss: 0.4511 - val_acc: 0.6553\n",
            "Epoch 20/20\n",
            "7411/7411 [==============================] - 15s 2ms/step - loss: -3.1722 - acc: 0.7803 - val_loss: 0.4261 - val_acc: 0.6432\n"
          ],
          "name": "stdout"
        },
        {
          "output_type": "execute_result",
          "data": {
            "text/plain": [
              "<keras.callbacks.History at 0x7f58c0c6fa58>"
            ]
          },
          "metadata": {
            "tags": []
          },
          "execution_count": 122
        }
      ]
    },
    {
      "metadata": {
        "id": "0pAri11fLtZV",
        "colab_type": "code",
        "colab": {}
      },
      "cell_type": "code",
      "source": [
        ""
      ],
      "execution_count": 0,
      "outputs": []
    },
    {
      "metadata": {
        "id": "chTJ8_rx54CY",
        "colab_type": "code",
        "colab": {}
      },
      "cell_type": "code",
      "source": [
        "#generating the predictions files using neural networks"
      ],
      "execution_count": 0,
      "outputs": []
    },
    {
      "metadata": {
        "id": "YAbfs6YuXEBs",
        "colab_type": "code",
        "colab": {}
      },
      "cell_type": "code",
      "source": [
        "y=labels"
      ],
      "execution_count": 0,
      "outputs": []
    },
    {
      "metadata": {
        "id": "yXZRBHM2XHnU",
        "colab_type": "code",
        "colab": {}
      },
      "cell_type": "code",
      "source": [
        "for i in range(len(y)):\n",
        "  if y[i]=='negative':\n",
        "    y[i]=0\n",
        "  elif y[i]=='positive':\n",
        "    y[i]=1\n",
        "  else:\n",
        "    y[i]=2"
      ],
      "execution_count": 0,
      "outputs": []
    },
    {
      "metadata": {
        "id": "CDnjMK-LXWrD",
        "colab_type": "code",
        "colab": {
          "base_uri": "https://localhost:8080/",
          "height": 51
        },
        "outputId": "43158775-c0bb-429e-bffd-8fb118bf2024"
      },
      "cell_type": "code",
      "source": [
        "trained_data"
      ],
      "execution_count": 220,
      "outputs": [
        {
          "output_type": "execute_result",
          "data": {
            "text/plain": [
              "<10980x9498 sparse matrix of type '<class 'numpy.int64'>'\n",
              "\twith 90606 stored elements in Compressed Sparse Row format>"
            ]
          },
          "metadata": {
            "tags": []
          },
          "execution_count": 220
        }
      ]
    },
    {
      "metadata": {
        "id": "RJgBIkekXi-_",
        "colab_type": "code",
        "colab": {
          "base_uri": "https://localhost:8080/",
          "height": 714
        },
        "outputId": "c78df964-ca16-497b-9d75-6cd18c7bfcc7"
      },
      "cell_type": "code",
      "source": [
        "layer1=Dense(units=512, activation='relu', input_dim=9498) \n",
        "model.add(layer1)\n",
        "model.add(Dropout(0.5))\n",
        "layer2=Dense(units=256, activation='relu')\n",
        "model.add(layer2)\n",
        "model.add(Dropout(0.5))\n",
        "model.add(Dense(1,activation='sigmoid'))   #output layer\n",
        "model.compile(optimizer='adam',loss='binary_crossentropy',metrics=['accuracy'])\n",
        "model.fit(trained_data,y,epochs=20,batch_size=50)"
      ],
      "execution_count": 223,
      "outputs": [
        {
          "output_type": "stream",
          "text": [
            "Epoch 1/20\n",
            "10980/10980 [==============================] - 27s 2ms/step - loss: -0.4084 - acc: 0.5811\n",
            "Epoch 2/20\n",
            "10980/10980 [==============================] - 25s 2ms/step - loss: -1.5668 - acc: 0.6765\n",
            "Epoch 3/20\n",
            "10980/10980 [==============================] - 25s 2ms/step - loss: -1.9153 - acc: 0.6997\n",
            "Epoch 4/20\n",
            "10980/10980 [==============================] - 25s 2ms/step - loss: -2.1895 - acc: 0.7180\n",
            "Epoch 5/20\n",
            "10980/10980 [==============================] - 26s 2ms/step - loss: -2.4552 - acc: 0.7316\n",
            "Epoch 6/20\n",
            "10980/10980 [==============================] - 25s 2ms/step - loss: -2.6441 - acc: 0.7419\n",
            "Epoch 7/20\n",
            "10980/10980 [==============================] - 25s 2ms/step - loss: -2.6917 - acc: 0.7450\n",
            "Epoch 8/20\n",
            "10980/10980 [==============================] - 25s 2ms/step - loss: -2.7039 - acc: 0.7452\n",
            "Epoch 9/20\n",
            "10980/10980 [==============================] - 25s 2ms/step - loss: -2.7029 - acc: 0.7462\n",
            "Epoch 10/20\n",
            "10980/10980 [==============================] - 25s 2ms/step - loss: -2.7278 - acc: 0.7498\n",
            "Epoch 11/20\n",
            "10980/10980 [==============================] - 25s 2ms/step - loss: -2.7812 - acc: 0.7510\n",
            "Epoch 12/20\n",
            "10980/10980 [==============================] - 25s 2ms/step - loss: -2.8147 - acc: 0.7534\n",
            "Epoch 13/20\n",
            "10980/10980 [==============================] - 25s 2ms/step - loss: -2.8229 - acc: 0.7536\n",
            "Epoch 14/20\n",
            "10980/10980 [==============================] - 25s 2ms/step - loss: -2.8377 - acc: 0.7546\n",
            "Epoch 15/20\n",
            "10980/10980 [==============================] - 25s 2ms/step - loss: -2.8655 - acc: 0.7570\n",
            "Epoch 16/20\n",
            "10980/10980 [==============================] - 25s 2ms/step - loss: -2.8695 - acc: 0.7575\n",
            "Epoch 17/20\n",
            "10980/10980 [==============================] - 26s 2ms/step - loss: -2.8436 - acc: 0.7575\n",
            "Epoch 18/20\n",
            "10980/10980 [==============================] - 25s 2ms/step - loss: -2.8695 - acc: 0.7586\n",
            "Epoch 19/20\n",
            "10980/10980 [==============================] - 25s 2ms/step - loss: -2.8894 - acc: 0.7584\n",
            "Epoch 20/20\n",
            "10980/10980 [==============================] - 25s 2ms/step - loss: -2.9206 - acc: 0.7598\n"
          ],
          "name": "stdout"
        },
        {
          "output_type": "execute_result",
          "data": {
            "text/plain": [
              "<keras.callbacks.History at 0x7f58c011fd68>"
            ]
          },
          "metadata": {
            "tags": []
          },
          "execution_count": 223
        }
      ]
    },
    {
      "metadata": {
        "id": "yjcRALx-Ybwu",
        "colab_type": "code",
        "colab": {
          "base_uri": "https://localhost:8080/",
          "height": 136
        },
        "outputId": "a555f54a-a910-4945-ba74-591251d77aef"
      },
      "cell_type": "code",
      "source": [
        "predictions=model.predict(test_data)\n",
        "predictions      "
      ],
      "execution_count": 245,
      "outputs": [
        {
          "output_type": "execute_result",
          "data": {
            "text/plain": [
              "array([[0.0000000e+00],\n",
              "       [5.0067902e-06],\n",
              "       [8.5303187e-04],\n",
              "       ...,\n",
              "       [1.9531883e-02],\n",
              "       [1.0000000e+00],\n",
              "       [1.0000000e+00]], dtype=float32)"
            ]
          },
          "metadata": {
            "tags": []
          },
          "execution_count": 245
        }
      ]
    },
    {
      "metadata": {
        "id": "Ow0aCeDwa3xb",
        "colab_type": "code",
        "colab": {}
      },
      "cell_type": "code",
      "source": [
        "predictions=pd.DataFrame(predictions)\n"
      ],
      "execution_count": 0,
      "outputs": []
    },
    {
      "metadata": {
        "id": "wQz1bp41b-nC",
        "colab_type": "code",
        "colab": {
          "base_uri": "https://localhost:8080/",
          "height": 34
        },
        "outputId": "8252d2b0-8fa2-4297-e6e6-365f1e6523c6"
      },
      "cell_type": "code",
      "source": [
        "len(predictions)"
      ],
      "execution_count": 247,
      "outputs": [
        {
          "output_type": "execute_result",
          "data": {
            "text/plain": [
              "3660"
            ]
          },
          "metadata": {
            "tags": []
          },
          "execution_count": 247
        }
      ]
    },
    {
      "metadata": {
        "id": "1u0VlQvbcAtA",
        "colab_type": "code",
        "colab": {}
      },
      "cell_type": "code",
      "source": [
        ""
      ],
      "execution_count": 0,
      "outputs": []
    },
    {
      "metadata": {
        "id": "uY0jnVWbYZ9M",
        "colab_type": "code",
        "colab": {
          "base_uri": "https://localhost:8080/",
          "height": 351
        },
        "outputId": "f1e5463a-4c4f-46d5-8b68-6dcd18035933"
      },
      "cell_type": "code",
      "source": [
        "import numpy as np\n",
        "for i in range(len(predictions)):\n",
        "  dummy=np.around(predictions[i])\n",
        "  if dummy==0.0:\n",
        "    predictions[i]='negative'\n",
        "  elif dummy==1.0:\n",
        "    predictions[i]='positive'\n",
        "  else:\n",
        "    predictions[i]='neutral'"
      ],
      "execution_count": 248,
      "outputs": [
        {
          "output_type": "error",
          "ename": "ValueError",
          "evalue": "ignored",
          "traceback": [
            "\u001b[0;31m---------------------------------------------------------------------------\u001b[0m",
            "\u001b[0;31mValueError\u001b[0m                                Traceback (most recent call last)",
            "\u001b[0;32m<ipython-input-248-53bff75138d2>\u001b[0m in \u001b[0;36m<module>\u001b[0;34m()\u001b[0m\n\u001b[1;32m      2\u001b[0m \u001b[0;32mfor\u001b[0m \u001b[0mi\u001b[0m \u001b[0;32min\u001b[0m \u001b[0mrange\u001b[0m\u001b[0;34m(\u001b[0m\u001b[0mlen\u001b[0m\u001b[0;34m(\u001b[0m\u001b[0mpredictions\u001b[0m\u001b[0;34m)\u001b[0m\u001b[0;34m)\u001b[0m\u001b[0;34m:\u001b[0m\u001b[0;34m\u001b[0m\u001b[0;34m\u001b[0m\u001b[0m\n\u001b[1;32m      3\u001b[0m   \u001b[0mdummy\u001b[0m\u001b[0;34m=\u001b[0m\u001b[0mnp\u001b[0m\u001b[0;34m.\u001b[0m\u001b[0maround\u001b[0m\u001b[0;34m(\u001b[0m\u001b[0mpredictions\u001b[0m\u001b[0;34m[\u001b[0m\u001b[0mi\u001b[0m\u001b[0;34m]\u001b[0m\u001b[0;34m)\u001b[0m\u001b[0;34m\u001b[0m\u001b[0;34m\u001b[0m\u001b[0m\n\u001b[0;32m----> 4\u001b[0;31m   \u001b[0;32mif\u001b[0m \u001b[0mdummy\u001b[0m\u001b[0;34m==\u001b[0m\u001b[0;36m0.0\u001b[0m\u001b[0;34m:\u001b[0m\u001b[0;34m\u001b[0m\u001b[0;34m\u001b[0m\u001b[0m\n\u001b[0m\u001b[1;32m      5\u001b[0m     \u001b[0mpredictions\u001b[0m\u001b[0;34m[\u001b[0m\u001b[0mi\u001b[0m\u001b[0;34m]\u001b[0m\u001b[0;34m=\u001b[0m\u001b[0;34m'negative'\u001b[0m\u001b[0;34m\u001b[0m\u001b[0;34m\u001b[0m\u001b[0m\n\u001b[1;32m      6\u001b[0m   \u001b[0;32melif\u001b[0m \u001b[0mdummy\u001b[0m\u001b[0;34m==\u001b[0m\u001b[0;36m1.0\u001b[0m\u001b[0;34m:\u001b[0m\u001b[0;34m\u001b[0m\u001b[0;34m\u001b[0m\u001b[0m\n",
            "\u001b[0;32m/usr/local/lib/python3.6/dist-packages/pandas/core/generic.py\u001b[0m in \u001b[0;36m__nonzero__\u001b[0;34m(self)\u001b[0m\n\u001b[1;32m   1476\u001b[0m         raise ValueError(\"The truth value of a {0} is ambiguous. \"\n\u001b[1;32m   1477\u001b[0m                          \u001b[0;34m\"Use a.empty, a.bool(), a.item(), a.any() or a.all().\"\u001b[0m\u001b[0;34m\u001b[0m\u001b[0;34m\u001b[0m\u001b[0m\n\u001b[0;32m-> 1478\u001b[0;31m                          .format(self.__class__.__name__))\n\u001b[0m\u001b[1;32m   1479\u001b[0m \u001b[0;34m\u001b[0m\u001b[0m\n\u001b[1;32m   1480\u001b[0m     \u001b[0m__bool__\u001b[0m \u001b[0;34m=\u001b[0m \u001b[0m__nonzero__\u001b[0m\u001b[0;34m\u001b[0m\u001b[0;34m\u001b[0m\u001b[0m\n",
            "\u001b[0;31mValueError\u001b[0m: The truth value of a Series is ambiguous. Use a.empty, a.bool(), a.item(), a.any() or a.all()."
          ]
        }
      ]
    },
    {
      "metadata": {
        "id": "9m6mRSCYc7X3",
        "colab_type": "code",
        "colab": {}
      },
      "cell_type": "code",
      "source": [
        ""
      ],
      "execution_count": 0,
      "outputs": []
    },
    {
      "metadata": {
        "id": "05k-WfcMcZlO",
        "colab_type": "code",
        "colab": {}
      },
      "cell_type": "code",
      "source": [
        ""
      ],
      "execution_count": 0,
      "outputs": []
    },
    {
      "metadata": {
        "id": "5B5PxN9xcYV3",
        "colab_type": "code",
        "colab": {}
      },
      "cell_type": "code",
      "source": [
        ""
      ],
      "execution_count": 0,
      "outputs": []
    },
    {
      "metadata": {
        "id": "TENTH2bNcVpx",
        "colab_type": "code",
        "colab": {}
      },
      "cell_type": "code",
      "source": [
        ""
      ],
      "execution_count": 0,
      "outputs": []
    },
    {
      "metadata": {
        "id": "nVcOS7u9cIol",
        "colab_type": "code",
        "colab": {}
      },
      "cell_type": "code",
      "source": [
        ""
      ],
      "execution_count": 0,
      "outputs": []
    },
    {
      "metadata": {
        "id": "H8pW_y4AbvMj",
        "colab_type": "code",
        "colab": {}
      },
      "cell_type": "code",
      "source": [
        ""
      ],
      "execution_count": 0,
      "outputs": []
    },
    {
      "metadata": {
        "id": "i6Lk1mXqborK",
        "colab_type": "code",
        "colab": {}
      },
      "cell_type": "code",
      "source": [
        ""
      ],
      "execution_count": 0,
      "outputs": []
    },
    {
      "metadata": {
        "id": "UfDqVHr5a6LH",
        "colab_type": "code",
        "colab": {}
      },
      "cell_type": "code",
      "source": [
        ""
      ],
      "execution_count": 0,
      "outputs": []
    },
    {
      "metadata": {
        "id": "d0rW5xjvYX32",
        "colab_type": "code",
        "colab": {}
      },
      "cell_type": "code",
      "source": [
        ""
      ],
      "execution_count": 0,
      "outputs": []
    },
    {
      "metadata": {
        "id": "AciZ6pC8XNlZ",
        "colab_type": "code",
        "colab": {}
      },
      "cell_type": "code",
      "source": [
        ""
      ],
      "execution_count": 0,
      "outputs": []
    },
    {
      "metadata": {
        "id": "K8Akr9PNNsO-",
        "colab_type": "code",
        "colab": {}
      },
      "cell_type": "code",
      "source": [
        ""
      ],
      "execution_count": 0,
      "outputs": []
    },
    {
      "metadata": {
        "id": "rrhr-dyJNuwI",
        "colab_type": "code",
        "colab": {}
      },
      "cell_type": "code",
      "source": [
        ""
      ],
      "execution_count": 0,
      "outputs": []
    },
    {
      "metadata": {
        "id": "2jmI5dAP4zLR",
        "colab_type": "code",
        "colab": {}
      },
      "cell_type": "code",
      "source": [
        ""
      ],
      "execution_count": 0,
      "outputs": []
    },
    {
      "metadata": {
        "id": "DFWVAok22Ffm",
        "colab_type": "code",
        "colab": {}
      },
      "cell_type": "code",
      "source": [
        ""
      ],
      "execution_count": 0,
      "outputs": []
    },
    {
      "metadata": {
        "id": "LI81Yo8g16eC",
        "colab_type": "code",
        "colab": {}
      },
      "cell_type": "code",
      "source": [
        ""
      ],
      "execution_count": 0,
      "outputs": []
    }
  ]
}